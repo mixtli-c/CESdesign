{
 "cells": [
  {
   "cell_type": "code",
   "execution_count": null,
   "id": "c8961ea7",
   "metadata": {},
   "outputs": [],
   "source": [
    "##### Example code for camera serial number\n",
    "from pyAndorSDK2 import atmcd, atmcd_errors\n",
    "\n",
    "sdk = atmcd(\"\")  # Load the atmcd library\n",
    "\n",
    "ret = sdk.Initialize(r\"C:\\Program Files\\Andor SDK\\\\\")  # Initialize camera\n",
    "print(\"Function Initialize returned {}\".format(ret))\n",
    "\n",
    "if atmcd_errors.Error_Codes.DRV_SUCCESS == ret:\n",
    "\n",
    "    (ret, iSerialNumber) = sdk.GetCameraSerialNumber()\n",
    "    print(\"Function GetCameraSerialNumber returned {} Serial No: {}\".format(\n",
    "        ret, iSerialNumber))\n",
    "\n",
    "    # Clean up\n",
    "    ret = sdk.ShutDown()\n",
    "    print(\"Function Shutdown returned {}\".format(ret))\n",
    "\n",
    "else:\n",
    "    print(\"Cannot continue, could not initialise camera\")"
   ]
  },
  {
   "cell_type": "code",
   "execution_count": null,
   "id": "282b9444",
   "metadata": {},
   "outputs": [],
   "source": [
    "##### Example code for single scan IMAGE mode\n",
    "from pyAndorSDK2 import atmcd, atmcd_codes, atmcd_errors\n",
    "\n",
    "sdk = atmcd(\"\")  # Load the atmcd library\n",
    "codes = atmcd_codes\n",
    "ret = sdk.Initialize(r\"C:\\Program Files\\Andor SDK\\\\\")  # Initialize camera\n",
    "print(\"Function Initialize returned {}\".format(ret))\n",
    "\n",
    "if atmcd_errors.Error_Codes.DRV_SUCCESS == ret:\n",
    "\n",
    "    (ret, iSerialNumber) = sdk.GetCameraSerialNumber()\n",
    "    print(\"Function GetCameraSerialNumber returned {} Serial No: {}\".format(\n",
    "        ret, iSerialNumber))\n",
    "    # Configure the acquisition\n",
    "    ret = sdk.CoolerON()\n",
    "    print(\"Function CoolerON returned {}\".format(ret))\n",
    "\n",
    "    ret = sdk.SetAcquisitionMode(codes.Acquisition_Mode.SINGLE_SCAN)\n",
    "    print(\"Function SetAcquisitionMode returned {} mode = Single Scan\".format(ret))\n",
    "\n",
    "    ret = sdk.SetReadMode(codes.Read_Mode.IMAGE)\n",
    "    print(\"Function SetReadMode returned {} mode = Image\".format(ret))\n",
    "\n",
    "    ret = sdk.SetTriggerMode(codes.Trigger_Mode.INTERNAL)\n",
    "    print(\"Function SetTriggerMode returned {} mode = Internal\".format(ret))\n",
    "\n",
    "    (ret, xpixels, ypixels) = sdk.GetDetector()\n",
    "    print(\"Function GetDetector returned {} xpixels = {} ypixels = {}\".format(\n",
    "        ret, xpixels, ypixels))\n",
    "\n",
    "    ret = sdk.SetImage(1, 1, 1, xpixels, 1, ypixels)\n",
    "    print(\"Function SetImage returned {} hbin = 1 vbin = 1 hstart = 1 hend = {} vstart = 1 vend = {}\".format(\n",
    "        ret, xpixels, ypixels))\n",
    "\n",
    "    ret = sdk.SetExposureTime(0.01)\n",
    "    print(\"Function SetExposureTime returned {} time = 0.01s\".format(ret))\n",
    "\n",
    "    (ret, fminExposure, fAccumulate, fKinetic) = sdk.GetAcquisitionTimings()\n",
    "    print(\"Function GetAcquisitionTimings returned {} exposure = {} accumulate = {} kinetic = {}\".format(\n",
    "        ret, fminExposure, fAccumulate, fKinetic))\n",
    "\n",
    "    ret = sdk.PrepareAcquisition()\n",
    "    print(\"Function PrepareAcquisition returned {}\".format(ret))\n",
    "\n",
    "    # Perform Acquisition\n",
    "    ret = sdk.StartAcquisition()\n",
    "    print(\"Function StartAcquisition returned {}\".format(ret))\n",
    "\n",
    "    ret = sdk.WaitForAcquisition()\n",
    "    print(\"Function WaitForAcquisition returned {}\".format(ret))\n",
    "\n",
    "    imageSize = xpixels * ypixels\n",
    "    (ret, arr, validfirst, validlast) = sdk.GetImages16(1, 1, imageSize)\n",
    "    print(\"Function GetImages16 returned {} first pixel = {} size = {}\".format(\n",
    "        ret, arr[0], imageSize))\n",
    "\n",
    "    # Clean up\n",
    "    ret = sdk.ShutDown()\n",
    "    print(\"Function ShutDown returned {}\".format(ret))\n",
    "\n",
    "else:\n",
    "    print(\"Cannot continue, could not initialise camera {}\".format(ret))\n",
    "\n"
   ]
  },
  {
   "cell_type": "code",
   "execution_count": 18,
   "id": "bdcae38f",
   "metadata": {},
   "outputs": [
    {
     "name": "stdout",
     "output_type": "stream",
     "text": [
      "Function Initialize returned 20002\n",
      "Function GetCameraSerialNumber returned 20002 Serial No: 0\n",
      "Function CoolerON returned 20002\n",
      "Function SetAcquisitionMode returned 20002 mode = Single Scan\n",
      "Function SetReadMode returned 20002 mode = FVB\n",
      "Function SetTriggerMode returned 20002 mode = Internal\n",
      "Function GetDetector returned 20002 xpixels = 1024 ypixels = 127\n",
      "Function SetExposureTime returned 20002 time = 0.1s\n",
      "Function GetAcquisitionTimings returned 20002 exposure = 0.1 accumulate = 0.1 kinetic = 0.1\n",
      "Function PrepareAcquisition returned 20002\n",
      "Function StartAcquisition returned 20002\n",
      "Function WaitForAcquisition returned 20002\n",
      "Function GetImages16 returned 20002 first pixel = 2273 size = 1024\n",
      "Function ShutDown returned 20002\n"
     ]
    }
   ],
   "source": [
    "##### Example code for single scan FVB mode\n",
    "from pyAndorSDK2 import atmcd, atmcd_codes, atmcd_errors\n",
    "\n",
    "sdk = atmcd()  # Load the atmcd library\n",
    "codes = atmcd_codes\n",
    "\n",
    "ret = sdk.Initialize(r\"C:\\Program Files\\Andor SDK\\\\\")  # Initialize camera\n",
    "print(\"Function Initialize returned {}\".format(ret))\n",
    "\n",
    "if atmcd_errors.Error_Codes.DRV_SUCCESS == ret:\n",
    "\n",
    "    (ret, iSerialNumber) = sdk.GetCameraSerialNumber()\n",
    "    print(\"Function GetCameraSerialNumber returned {} Serial No: {}\".format(\n",
    "        ret, iSerialNumber))\n",
    "\n",
    "    # Configure the acquisition\n",
    "    ret = sdk.CoolerON()\n",
    "    print(\"Function CoolerON returned {}\".format(ret))\n",
    "\n",
    "    ret = sdk.SetAcquisitionMode(codes.Acquisition_Mode.SINGLE_SCAN)\n",
    "    print(\"Function SetAcquisitionMode returned {} mode = Single Scan\".format(ret))\n",
    "\n",
    "    ret = sdk.SetReadMode(codes.Read_Mode.FULL_VERTICAL_BINNING)\n",
    "    print(\"Function SetReadMode returned {} mode = FVB\".format(ret))\n",
    "\n",
    "    ret = sdk.SetTriggerMode(codes.Trigger_Mode.INTERNAL)\n",
    "    print(\"Function SetTriggerMode returned {} mode = Internal\".format(ret))\n",
    "\n",
    "    (ret, xpixels, ypixels) = sdk.GetDetector()\n",
    "    print(\"Function GetDetector returned {} xpixels = {} ypixels = {}\".format(\n",
    "        ret, xpixels, ypixels))\n",
    "\n",
    "    ret = sdk.SetExposureTime(0.1)\n",
    "    print(\"Function SetExposureTime returned {} time = 0.1s\".format(ret))\n",
    "\n",
    "    (ret, fminExposure, fAccumulate, fKinetic) = sdk.GetAcquisitionTimings()\n",
    "    print(\"Function GetAcquisitionTimings returned {} exposure = {} accumulate = {} kinetic = {}\".format(\n",
    "        ret, fminExposure, fAccumulate, fKinetic))\n",
    "\n",
    "    ret = sdk.PrepareAcquisition()\n",
    "    print(\"Function PrepareAcquisition returned {}\".format(ret))\n",
    "\n",
    "    # Perform Acquisition\n",
    "    ret = sdk.StartAcquisition()\n",
    "    print(\"Function StartAcquisition returned {}\".format(ret))\n",
    "\n",
    "    ret = sdk.WaitForAcquisition()\n",
    "    print(\"Function WaitForAcquisition returned {}\".format(ret))\n",
    "\n",
    "    imageSize = xpixels\n",
    "    (ret, arr, validfirst, validlast) = sdk.GetImages16(1, 1, imageSize)\n",
    "    print(\"Function GetImages16 returned {} first pixel = {} size = {}\".format(\n",
    "        ret, arr[0], imageSize))\n",
    "\n",
    "    # Clean up\n",
    "    ret = sdk.ShutDown()\n",
    "    print(\"Function ShutDown returned {}\".format(ret))\n",
    "\n",
    "else:\n",
    "    print(\"Cannot continue, could not initialise camera\")"
   ]
  },
  {
   "cell_type": "code",
   "execution_count": 3,
   "id": "1fcb6ca3",
   "metadata": {},
   "outputs": [
    {
     "name": "stdout",
     "output_type": "stream",
     "text": [
      "Function Initialize returned 20002\n",
      "Function GetCameraSerialNumber returned 20002 Serial No: 0\n",
      "Available Acquisition modes\n",
      "- SINGLE,\n",
      "- VIDEO,\n",
      "- ACCUMULATE,\n",
      "- KINETIC,\n",
      "- FASTKINETICS,\n",
      "Available get Functions\n",
      "- TEMPERATURE,\n",
      "- TEMPERATURERANGE,\n",
      "- DETECTORSIZE,\n",
      "Available Read modes\n",
      "- FULLIMAGE,\n",
      "- SUBIMAGE,\n",
      "- SINGLETRACK,\n",
      "- FVB,\n",
      "- MULTITRACK,\n",
      "- RANDOMTRACK,\n",
      "Available FT compatible Read Modes\n",
      "Function Shutdown returned 20002\n"
     ]
    }
   ],
   "source": [
    "#### This is an example on how to use the capabilities helper that the AndorSDK so graciously provided\n",
    "\n",
    "from pyAndorSDK2 import atmcd, atmcd_codes, atmcd_errors, CameraCapabilities\n",
    "\n",
    "sdk = atmcd()  # Load the atmcd library\n",
    "codes = atmcd_codes\n",
    "\n",
    "ret = sdk.Initialize(r\"C:\\Program Files\\Andor SDK\\\\\")  # Initialize camera\n",
    "helper = CameraCapabilities.CapabilityHelper(sdk)\n",
    "print(\"Function Initialize returned {}\".format(ret))\n",
    "\n",
    "if atmcd_errors.Error_Codes.DRV_SUCCESS == ret:\n",
    "\n",
    "    (ret, iSerialNumber) = sdk.GetCameraSerialNumber()\n",
    "    print(\"Function GetCameraSerialNumber returned {} Serial No: {}\".format(\n",
    "        ret, iSerialNumber))\n",
    "    helper.print_acquisition_modes()\n",
    "\n",
    "    helper.print_get_functions()\n",
    "\n",
    "    helper.print_read_modes()\n",
    "\n",
    "    helper.print_FTRead_modes()\n",
    "\n",
    "    # Clean up\n",
    "    ret = sdk.ShutDown()\n",
    "    print(\"Function Shutdown returned {}\".format(ret))\n",
    "\n",
    "else:\n",
    "    print(\"Cannot continue, could not initialise camera\")"
   ]
  },
  {
   "cell_type": "code",
   "execution_count": 9,
   "id": "bfef1373",
   "metadata": {},
   "outputs": [
    {
     "name": "stdout",
     "output_type": "stream",
     "text": [
      "Function Initialize returned 20002\n",
      "Function GetCameraSerialNumber returned 20002 Serial No: 0\n",
      "Available Acquisition modes\n",
      "- SINGLE,\n",
      "- VIDEO,\n",
      "- ACCUMULATE,\n",
      "- KINETIC,\n",
      "- FASTKINETICS,\n",
      "\n",
      "Available Read modes\n",
      "- FULLIMAGE,\n",
      "- SUBIMAGE,\n",
      "- SINGLETRACK,\n",
      "- FVB,\n",
      "- MULTITRACK,\n",
      "- RANDOMTRACK,\n",
      "\n",
      "Available Pixel Modes\n",
      "- 16BIT,\n",
      "\n",
      "Camera Type\n",
      "- CCD,\n",
      "\n",
      "Available Pixel Modes\n",
      "- 16BIT,\n",
      "\n",
      "Available Set Functions\n",
      "- VREADOUT,\n",
      "- HREADOUT,\n",
      "- TEMPERATURE,\n",
      "- HORIZONTALBIN,\n",
      "\n",
      "Available get Functions\n",
      "- TEMPERATURE,\n",
      "- TEMPERATURERANGE,\n",
      "- DETECTORSIZE,\n",
      "\n",
      "Available Features\n",
      "- POLLING,\n",
      "- EVENTS,\n",
      "- SPOOLING,\n",
      "- SHUTTER,\n",
      "- REALTIMESPURIOUSNOISEFILTER,\n",
      "- POSTPROCESSSPURIOUSNOISEFILTER,\n",
      "\n",
      "Pci max speed in Hz \n",
      "- 62500\n",
      "\n",
      "Available Emgain compatibility Modes\n",
      "\n",
      "Available FT compatible Read Modes\n",
      "\n",
      "Available Features\n",
      "- POLLING,\n",
      "- EVENTS,\n",
      "- SPOOLING,\n",
      "- SHUTTER,\n",
      "- REALTIMESPURIOUSNOISEFILTER,\n",
      "- POSTPROCESSSPURIOUSNOISEFILTER,\n",
      "\n",
      "Function Shutdown returned 20002\n"
     ]
    }
   ],
   "source": [
    "#### Modified example to get the capabilities helper to PRINT EVERYTHING\n",
    "\n",
    "from pyAndorSDK2 import atmcd, atmcd_codes, atmcd_errors, CameraCapabilities\n",
    "\n",
    "sdk = atmcd()  # Load the atmcd library\n",
    "codes = atmcd_codes\n",
    "\n",
    "ret = sdk.Initialize(r\"C:\\Program Files\\Andor SDK\\\\\")  # Initialize camera\n",
    "helper = CameraCapabilities.CapabilityHelper(sdk)\n",
    "print(\"Function Initialize returned {}\".format(ret))\n",
    "\n",
    "if atmcd_errors.Error_Codes.DRV_SUCCESS == ret:\n",
    "\n",
    "    (ret, iSerialNumber) = sdk.GetCameraSerialNumber()\n",
    "    print(\"Function GetCameraSerialNumber returned {} Serial No: {}\".format(\n",
    "        ret, iSerialNumber))\n",
    "    helper.print_all()\n",
    "\n",
    "    # Clean up\n",
    "    ret = sdk.ShutDown()\n",
    "    print(\"Function Shutdown returned {}\".format(ret))\n",
    "\n",
    "else:\n",
    "    print(\"Cannot continue, could not initialise camera\")"
   ]
  },
  {
   "cell_type": "code",
   "execution_count": null,
   "id": "02d90e4f",
   "metadata": {},
   "outputs": [],
   "source": []
  },
  {
   "cell_type": "code",
   "execution_count": null,
   "id": "760e44ce",
   "metadata": {},
   "outputs": [],
   "source": [
    "######## Individual test for different functions"
   ]
  },
  {
   "cell_type": "code",
   "execution_count": 1,
   "id": "f9d7cc08",
   "metadata": {},
   "outputs": [
    {
     "name": "stdout",
     "output_type": "stream",
     "text": [
      "20002 1\n"
     ]
    }
   ],
   "source": [
    "from pyAndorSDK2 import atmcd, atmcd_capabilities, atmcd_codes, atmcd_errors\n",
    "\n",
    "sdk = atmcd(\"\")  # Load the atmcd library\n",
    "(ret,totalCameras)=sdk.GetAvailableCameras()\n",
    "print(ret,totalCameras)"
   ]
  },
  {
   "cell_type": "code",
   "execution_count": null,
   "id": "d7498c7d",
   "metadata": {},
   "outputs": [],
   "source": [
    "(ret,cameraHandle)=sdk.GetCameraHandle(totalCameras-1)\n",
    "print(ret,cameraHandle)"
   ]
  },
  {
   "cell_type": "code",
   "execution_count": null,
   "id": "e922a321",
   "metadata": {},
   "outputs": [],
   "source": [
    "ret=sdk.SetCurrentCamera(cameraHandle)\n",
    "print(ret)"
   ]
  },
  {
   "cell_type": "code",
   "execution_count": null,
   "id": "5f62ce3f",
   "metadata": {},
   "outputs": [],
   "source": [
    "ret = sdk.Initialize(r\"C:\\Program Files\\Andor SDK\\\\\")  # Initialize camera\n",
    "print(ret)\n",
    "(ret,currcameraHandle)=sdk.GetCurrentCamera()\n",
    "print(\"Function GetCameraCurrentCamera returned {} Handle No: {}\".format(ret, currcameraHandle))\n",
    "(ret, iSerialNumber) = sdk.GetCameraSerialNumber()\n",
    "print(\"Function GetCameraSerialNumber returned {} Serial No: {}\".format(ret, iSerialNumber))\n",
    "ret = sdk.ShutDown()\n",
    "print(\"Function Shutdown returned {}\".format(ret))"
   ]
  },
  {
   "cell_type": "code",
   "execution_count": 8,
   "id": "c0a66352",
   "metadata": {},
   "outputs": [
    {
     "name": "stdout",
     "output_type": "stream",
     "text": [
      "Function Initialize returned 20002\n",
      "Function GetTemperature returned 20034, Temperature: 28\n",
      "Function GetTemperatureRange returned 20002, Min Temperature: -100, Max Temperature: 20\n",
      "Function Shutdown returned 20002\n"
     ]
    }
   ],
   "source": [
    "ret = sdk.Initialize(r\"C:\\Program Files\\Andor SDK\\\\\")  # Initialize camera\n",
    "print(\"Function Initialize returned {}\".format(ret))\n",
    "(ret, temperature) = sdk.GetTemperature()\n",
    "print(\"Function GetTemperature returned {}, Temperature: {}\".format(ret, temperature))\n",
    "(ret, mintemp, maxtemp) = sdk.GetTemperatureRange()\n",
    "print(\"Function GetTemperatureRange returned {}, Min Temperature: {}, Max Temperature: {}\".format(ret, mintemp, maxtemp))\n",
    "ret = sdk.ShutDown()\n",
    "print(\"Function Shutdown returned {}\".format(ret))"
   ]
  },
  {
   "cell_type": "code",
   "execution_count": 16,
   "id": "ecb4dbf0",
   "metadata": {},
   "outputs": [
    {
     "name": "stdout",
     "output_type": "stream",
     "text": [
      "Function Shutdown returned 20002\n"
     ]
    }
   ],
   "source": [
    "ret = sdk.ShutDown()\n",
    "print(\"Function Shutdown returned {}\".format(ret))"
   ]
  },
  {
   "cell_type": "code",
   "execution_count": null,
   "id": "9c34e320",
   "metadata": {},
   "outputs": [],
   "source": [
    "#### A full test of the camera temperature control"
   ]
  },
  {
   "cell_type": "code",
   "execution_count": 17,
   "id": "5c9dbfc4",
   "metadata": {},
   "outputs": [
    {
     "name": "stdout",
     "output_type": "stream",
     "text": [
      "Function Initialize returned 20002\n",
      "Function GetCameraSerialNumber returned 20002 Serial No: 0\n",
      "Function GetCameraSerialNumber returned 20002 Set Temperature: -10\n",
      "Function CoolerON returned 20002\n",
      "Function GetTemperature returned 20037, Temperature: 28\n",
      "Function GetTemperature returned 20037, Temperature: 25\n",
      "Function GetTemperature returned 20037, Temperature: 22\n",
      "Function GetTemperature returned 20037, Temperature: 20\n",
      "Function GetTemperature returned 20037, Temperature: 17\n",
      "Function GetTemperature returned 20037, Temperature: 14\n",
      "Function GetTemperature returned 20037, Temperature: 11\n",
      "Function GetTemperature returned 20037, Temperature: 8\n",
      "Function GetTemperature returned 20037, Temperature: 6\n",
      "Function GetTemperature returned 20037, Temperature: 3\n",
      "Function GetTemperature returned 20037, Temperature: 0\n",
      "Function GetTemperature returned 20037, Temperature: -2\n",
      "Function GetTemperature returned 20037, Temperature: -4\n",
      "Function GetTemperature returned 20036, Temperature: -7\n",
      "Temperature stabilized at -7 , will hold for a bit\n",
      "Function CoolerOFF returned 20002\n",
      "Function GetTemperature returned 20034, Temperature: -9\n",
      "Function GetTemperature returned 20034, Temperature: -6\n",
      "Function GetTemperature returned 20034, Temperature: -2\n",
      "Function GetTemperature returned 20034, Temperature: 0\n",
      "Function GetTemperature returned 20034, Temperature: 4\n",
      "Function GetTemperature returned 20034, Temperature: 7\n",
      "Function GetTemperature returned 20034, Temperature: 9\n",
      "Function GetTemperature returned 20034, Temperature: 11\n",
      "Function GetTemperature returned 20034, Temperature: 14\n",
      "Function GetTemperature returned 20034, Temperature: 16\n",
      "Function Shutdown returned 20002\n"
     ]
    }
   ],
   "source": [
    "from pyAndorSDK2 import atmcd, atmcd_codes, atmcd_errors\n",
    "import sys\n",
    "from time import sleep\n",
    "import datetime as dt\n",
    "\n",
    "sdk = atmcd()  # Load the atmcd library\n",
    "codes = atmcd_codes\n",
    "temp = -10\n",
    "ret = sdk.Initialize(r\"c:\\Program Files\\Andor SDK\\\\\")  # Initialize camera\n",
    "print(\"Function Initialize returned {}\".format(ret))\n",
    "\n",
    "if atmcd_errors.Error_Codes.DRV_SUCCESS != ret:\n",
    "    print('Could not initialize camera, will exit')\n",
    "    sys.exit()\n",
    "\n",
    "(ret, iSerialNumber) = sdk.GetCameraSerialNumber()\n",
    "print(\"Function GetCameraSerialNumber returned {} Serial No: {}\".format(ret, iSerialNumber))\n",
    "\n",
    "ret = sdk.SetTemperature(temp)\n",
    "print(\"Function SetTemperature returned {} Set Temperature: {}\".format(ret, temp))\n",
    "\n",
    "ret = sdk.CoolerON()\n",
    "print(\"Function CoolerON returned {}\".format(ret))\n",
    "\n",
    "n = True\n",
    "while n:\n",
    "    (ret, temperature) = sdk.GetTemperature()\n",
    "    print(\"Function GetTemperature returned {}, Temperature: {}\".format(ret, temperature))\n",
    "        \n",
    "    if ret == atmcd_errors.Error_Codes.DRV_TEMP_STABILIZED:\n",
    "        print('Temperature stabilized at',temperature,', will hold for a bit')\n",
    "        sleep(15)\n",
    "        n = False\n",
    "    \n",
    "    sleep(15)\n",
    "\n",
    "ret = sdk.CoolerOFF()\n",
    "print(\"Function CoolerOFF returned {}\".format(ret))\n",
    "\n",
    "n = True\n",
    "while n:\n",
    "    (ret, temperature) = sdk.GetTemperature()\n",
    "    print(\"Function GetTemperature returned {}, Temperature: {}\".format(ret, temperature))\n",
    "        \n",
    "    if temperature >=0:\n",
    "        n = False\n",
    "    \n",
    "    sleep(15)\n",
    "\n",
    "ret = sdk.ShutDown()\n",
    "print(\"Function Shutdown returned {}\".format(ret))\n",
    "\n"
   ]
  },
  {
   "cell_type": "code",
   "execution_count": null,
   "id": "efa531ba",
   "metadata": {},
   "outputs": [],
   "source": []
  },
  {
   "cell_type": "code",
   "execution_count": null,
   "id": "c0eebba5",
   "metadata": {},
   "outputs": [],
   "source": []
  },
  {
   "cell_type": "code",
   "execution_count": null,
   "id": "0ffa6efe",
   "metadata": {},
   "outputs": [],
   "source": []
  },
  {
   "cell_type": "code",
   "execution_count": null,
   "id": "42dc36a5",
   "metadata": {},
   "outputs": [],
   "source": [
    "#### plot anything\n",
    "import matplotlib.pyplot as plt\n",
    "plt.plot(arr)"
   ]
  },
  {
   "cell_type": "code",
   "execution_count": 21,
   "id": "8126d980",
   "metadata": {},
   "outputs": [
    {
     "data": {
      "text/plain": [
       "array([2273, 2249, 2271, ..., 2078, 2100, 2098], dtype=int16)"
      ]
     },
     "execution_count": 21,
     "metadata": {},
     "output_type": "execute_result"
    }
   ],
   "source": [
    "arr[:]"
   ]
  },
  {
   "cell_type": "code",
   "execution_count": 20,
   "id": "681d9837",
   "metadata": {},
   "outputs": [
    {
     "data": {
      "text/plain": [
       "(1024,)"
      ]
     },
     "execution_count": 20,
     "metadata": {},
     "output_type": "execute_result"
    }
   ],
   "source": [
    "arr.shape"
   ]
  },
  {
   "cell_type": "code",
   "execution_count": null,
   "id": "e25ba0f5",
   "metadata": {},
   "outputs": [],
   "source": [
    "import numpy as np"
   ]
  }
 ],
 "metadata": {
  "kernelspec": {
   "display_name": "Python 3 (ipykernel)",
   "language": "python",
   "name": "python3"
  },
  "language_info": {
   "codemirror_mode": {
    "name": "ipython",
    "version": 3
   },
   "file_extension": ".py",
   "mimetype": "text/x-python",
   "name": "python",
   "nbconvert_exporter": "python",
   "pygments_lexer": "ipython3",
   "version": "3.11.2"
  }
 },
 "nbformat": 4,
 "nbformat_minor": 5
}
