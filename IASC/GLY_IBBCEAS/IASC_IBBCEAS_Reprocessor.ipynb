{
 "cells": [
  {
   "cell_type": "code",
   "execution_count": null,
   "id": "60281913-6416-4c96-b0e9-7049b95c7218",
   "metadata": {},
   "outputs": [],
   "source": [
    "###\n",
    "### This Jupyter notebook contains functions and algorithms for the reanalysis of IBBCEAS data as measured in the Irish Simulation Atmospheric Chamber\n",
    "### Please refer to the corresponding CESfunctions file for the specific functions involved\n",
    "###"
   ]
  },
  {
   "cell_type": "code",
   "execution_count": 10,
   "id": "77b5f6d4-ee81-49c5-8bf9-3e6522f55346",
   "metadata": {},
   "outputs": [],
   "source": [
    "import glob\n",
    "import numpy as np\n",
    "import scipy.signal as scs\n",
    "import datetime as dt\n",
    "import pandas as pd\n",
    "import matplotlib.pyplot as plt\n",
    "from matplotlib.dates import DateFormatter\n",
    "import CESfunctionsJupyter as cf"
   ]
  },
  {
   "cell_type": "code",
   "execution_count": null,
   "id": "32c625e6-58b4-47fe-b361-410895954ef7",
   "metadata": {},
   "outputs": [],
   "source": [
    "##### What METADATA do we need?\n",
    "# Unprocessed data filenames\n",
    "sample_matrix = #the measurement NPY matrix\n",
    "background_txt = #the background (blank) TXT matrix\n",
    "\n",
    "##### Processed data filenames\n",
    "##### Depending on the number of columns the Mfile has, the call function variables need to be changed in the cell below (see comment)#####\n",
    "Mfile_name = # the Mfile with all the data\n",
    "Mfile_rep_name = # the new Mfile to create after reprocessing\n",
    "\n",
    "##### Reference filenames\n",
    "reference1_name = # name of reference 1 NPY file\n",
    "reference2_name = # name of reference 2 NPY file\n",
    "reference3_name = # name of reference 3 NPY file (optional, if needed by the cavity, e.g. NO3 uses NO3, NO2 and H2O)\n",
    "\n",
    "##### Cavity and spectra parameters\n",
    "lower_wavelength,upper_wavelength,distance=(445,459,70)\n",
    "Reff = 0.9994277 # a number if constant, np.load('Reff.npy') if a vector\n",
    "#Reff = Reff.reshape(len(Reff),1) # uncomment this only if Reff is a vector\n",
    "dfactor = 1 #the dilution factor is always 1 at IASC\n",
    "start_avg = #from which background number to start averaging"
   ]
  },
  {
   "cell_type": "code",
   "execution_count": null,
   "id": "986ddb61-2dde-4a15-9bee-5a37ae74e362",
   "metadata": {},
   "outputs": [],
   "source": [
    "##### File loading\n",
    "samples = np.load(sample_matrix)\n",
    "background = np.loadtxt(background_txt)\n",
    "dateM,ppb1M,ppb2M,intM = cf.Mfile_read(Mfile_name) #change number of variables as needed\n",
    "reference1=np.load(reference1_name)\n",
    "reference2=np.load(reference2_name)\n",
    "#reference3=np.load(reference3_name) #uncomment if needed\n"
   ]
  },
  {
   "cell_type": "code",
   "execution_count": null,
   "id": "fae7a08a-54b5-47f9-a55f-e7fd7bd9ad6e",
   "metadata": {},
   "outputs": [],
   "source": [
    "##### Cutting sprectra, defining I_sample and I_0\n",
    "minwave,maxwave=cf.segment_indices(sample,lower_wavelength,upper_wavelength)\n",
    "sample=np.copy(samples[minwave:maxwave,:])\n",
    "bckg=np.copy(background[minwave:maxwave,:])\n",
    "ref1=np.copy(reference1[minwave:maxwave,:])\n",
    "ref2=np.copy(reference2[minwave:maxwave,:])\n",
    "#ref3=np.copy(reference3[minwave:maxwave,:]) #uncomment if needed\n",
    "I_0 = np.average(bckg[:,start_avg:],axis=1).reshape(len(bckg),1)"
   ]
  },
  {
   "cell_type": "code",
   "execution_count": null,
   "id": "ca578b64-dd2e-45cf-bc51-a6d9a307e3fe",
   "metadata": {},
   "outputs": [],
   "source": [
    "#### Option 1: Look and analyze individual files"
   ]
  },
  {
   "cell_type": "code",
   "execution_count": null,
   "id": "a9b36352-0abe-4e3b-96f9-a5cd3ae54626",
   "metadata": {},
   "outputs": [],
   "source": [
    "sample_n=10 #number of the sample you want to analyze (can be identified in the Mfile by timestamp, line+1)\n",
    "I_sample = sample[sample_n].reshape(len(sample),1)\n",
    "\n",
    "pPa = 101335 # 1Atm +10\n",
    "tK = 293.15 #20C\n",
    "\n",
    "### fit_alg_1x_it (x=A,B,C) is the fitting algorithm with iteration of the SVD for 1,2,and 3 references, respectively\n",
    "#alpha,fl,a,b,ndensity1 = cf.fit_alg_1A_it(I_sample, I_0, Reff, distance,ref1,pPa,tK,parameters=1)\n",
    "alpha,fl,a,b,ndensity1,ndensity2 = cf.fit_alg_1B_it(I_sample, I_0, Reff, distance,ref1,ref2,pPa,tK,parameters=1)\n",
    "#alpha,fl,a,b,ndensity1,ndensity2,ndensity3 = cf.fit_alg_1C_it(I_sample, I_0, Reff, distance,ref1,ref2,ref3,pPa,tK,parameters=1)\n",
    "\n",
    "###\n",
    "conc = (ndensity1*1e15*1.380649e-23*tK/pPa)\n",
    "conc2 = (ndensity2*1e15*1.380649e-23*tK/pPa)\n",
    "#conc3 = (ndensity3*1e15*1.380649e-23*tK/pPa)"
   ]
  },
  {
   "cell_type": "code",
   "execution_count": null,
   "id": "38a34b1a-db3d-4c21-82bc-956fe4ad8dca",
   "metadata": {},
   "outputs": [],
   "source": [
    "#### Option 2: Reprocess the whole dataset"
   ]
  },
  {
   "cell_type": "code",
   "execution_count": null,
   "id": "c7e1bd46-6572-4993-b843-8bcd771ee101",
   "metadata": {},
   "outputs": [],
   "source": [
    "ppbs = []\n",
    "ppbs2 = []\n",
    "ppbs3 = []\n",
    "meastime = []\n",
    "\n",
    "for ii in range(len(ppbM)):\n",
    "    I_sample = sample[sample_n].reshape(len(sample),1)\n",
    "\n",
    "    pPa = 101335 # 1Atm +10\n",
    "    tK = 293.15 #20C\n",
    "\n",
    "    ### fit_alg_1x_it (x=A,B,C) is the fitting algorithm with iteration of the SVD for 1,2,and 3 references, respectively\n",
    "    #alpha,fl,a,b,ndensity1 = cf.fit_alg_1A_it(I_sample, I_0, Reff, distance,ref1,pPa,tK,parameters=1)\n",
    "    alpha,fl,a,b,ndensity1,ndensity2 = cf.fit_alg_1B_it(I_sample, I_0, Reff, distance,ref1,ref2,pPa,tK,parameters=1)\n",
    "    #alpha,fl,a,b,ndensity1,ndensity2,ndensity3 = cf.fit_alg_1C_it(I_sample, I_0, Reff, distance,ref1,ref2,ref3,pPa,tK,parameters=1)\n",
    "\n",
    "    ###\n",
    "    conc = (ndensity1*1e15*1.380649e-23*tK/pPa)\n",
    "    conc2 = (ndensity2*1e15*1.380649e-23*tK/pPa)\n",
    "    #conc3 = (ndensity3*1e15*1.380649e-23*tK/pPa)\n",
    "    \n",
    "    ppbs.append(conc)\n",
    "    ppbs2.append(conc2)\n",
    "    #ppbs3.append(conc3)\n",
    "    meastime.append(dateM[ii].strftime('%Y/%m/%d-%H:%M:%S'))\n",
    "\n",
    "#np.savetxt(Mfile_rep_name,np.column_stack((meastime,ppbs,ppbs2,ppbs3)),fmt='%s') #save reprocessed M file add/remove columns as needed\n",
    "    "
   ]
  }
 ],
 "metadata": {
  "kernelspec": {
   "display_name": "Python 3 (ipykernel)",
   "language": "python",
   "name": "python3"
  },
  "language_info": {
   "codemirror_mode": {
    "name": "ipython",
    "version": 3
   },
   "file_extension": ".py",
   "mimetype": "text/x-python",
   "name": "python",
   "nbconvert_exporter": "python",
   "pygments_lexer": "ipython3",
   "version": "3.12.1"
  }
 },
 "nbformat": 4,
 "nbformat_minor": 5
}
