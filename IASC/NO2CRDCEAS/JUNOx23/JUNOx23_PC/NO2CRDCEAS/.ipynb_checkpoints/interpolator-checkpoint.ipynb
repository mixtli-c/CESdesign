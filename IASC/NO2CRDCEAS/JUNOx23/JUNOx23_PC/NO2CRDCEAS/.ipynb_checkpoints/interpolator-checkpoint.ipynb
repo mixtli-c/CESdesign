{
 "cells": [
  {
   "cell_type": "code",
   "execution_count": 1,
   "id": "8db4f901",
   "metadata": {},
   "outputs": [],
   "source": [
    "import numpy as np\n",
    "import CESfunctionsJUNOx23 as cf"
   ]
  },
  {
   "cell_type": "code",
   "execution_count": 4,
   "id": "89838c67",
   "metadata": {},
   "outputs": [
    {
     "name": "stdout",
     "output_type": "stream",
     "text": [
      "[310.4954784  310.66833905 310.84116995 ... 473.57629195 473.72489988\n",
      " 473.87349005] [310.4954784  310.66833905 310.84116995 ... 473.57629195 473.72489988\n",
      " 473.87349005]\n"
     ]
    }
   ],
   "source": [
    "ref = np.load('NO2_JUNOx23.npy')\n",
    "spect = np.load('zero.npy')\n",
    "print(ref[:,0],spect[:,0])"
   ]
  },
  {
   "cell_type": "code",
   "execution_count": null,
   "id": "e6af22ac",
   "metadata": {},
   "outputs": [],
   "source": []
  }
 ],
 "metadata": {
  "kernelspec": {
   "display_name": "Python 3 (ipykernel)",
   "language": "python",
   "name": "python3"
  },
  "language_info": {
   "codemirror_mode": {
    "name": "ipython",
    "version": 3
   },
   "file_extension": ".py",
   "mimetype": "text/x-python",
   "name": "python",
   "nbconvert_exporter": "python",
   "pygments_lexer": "ipython3",
   "version": "3.11.3"
  }
 },
 "nbformat": 4,
 "nbformat_minor": 5
}
