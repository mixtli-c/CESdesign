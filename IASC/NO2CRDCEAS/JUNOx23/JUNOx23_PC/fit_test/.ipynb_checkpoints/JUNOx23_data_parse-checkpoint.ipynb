{
 "cells": [
  {
   "cell_type": "code",
   "execution_count": 21,
   "id": "1f9a929d",
   "metadata": {},
   "outputs": [],
   "source": [
    "import datetime as dt\n",
    "import pytz\n",
    "import csv\n",
    "import pandas as pd"
   ]
  },
  {
   "cell_type": "code",
   "execution_count": 86,
   "id": "db08acec",
   "metadata": {},
   "outputs": [],
   "source": [
    "######\n",
    "## FROM 10am - 6am UTC and >6am to <10am UTC\n",
    "#\n",
    "\n",
    "filename = 'MC230620am.txt'\n",
    "dayutc = dt.datetime(2023,6,20, tzinfo=pytz.utc)\n",
    "\n",
    "with open(filename) as f:\n",
    "    lines = f.readlines()\n",
    "\n",
    "data = []\n",
    "\n",
    "for line in lines:\n",
    "    a = line.strip('\\n')\n",
    "    data.append(a.split(' '))\n",
    "\n",
    "col1 = []\n",
    "col2 = []\n",
    "col3 = []\n",
    "for ele in data:\n",
    "    timestamp = dt.datetime.strptime(ele[0],'%Y/%m/%d-%H:%M:%S')\n",
    "    minutes = (timestamp.astimezone(pytz.timezone('Europe/Berlin'))-dayutc).total_seconds()/60\n",
    "    col1.append(minutes)\n",
    "    col2.append(float(ele[1]))\n",
    "    col3.append(int(ele[-1]))\n",
    "    \n",
    "\n",
    "\n",
    "df1 = pd.DataFrame(list(zip(*[col1, col2, col3]))).add_prefix('Col')\n",
    "df1.columns = ['Time', 'NO2', 'Flag']\n",
    "df1.to_csv('2023-06-20.COR_CEAS.am.dat', index=False,header=True)\n"
   ]
  },
  {
   "cell_type": "code",
   "execution_count": 79,
   "id": "8826792e",
   "metadata": {},
   "outputs": [],
   "source": [
    "filename = 'MCtemp.txt'\n",
    "dayutc = dt.datetime(2023,6,19, tzinfo=pytz.utc)\n",
    "\n",
    "with open(filename) as f:\n",
    "    lines = f.readlines()\n",
    "\n",
    "data = []\n",
    "\n",
    "for line in lines:\n",
    "    a = line.strip('\\n')\n",
    "    data.append(a.split(' '))\n",
    "\n",
    "col1 = []\n",
    "col2 = []\n",
    "col3 = []\n",
    "for ele in data:\n",
    "    timestamp = dt.datetime.strptime(ele[0],'%Y/%m/%d-%H:%M:%S')\n",
    "    minutes = (timestamp.astimezone(pytz.timezone('Europe/Berlin'))-dayutc).total_seconds()/60\n",
    "    col1.append(minutes)\n",
    "    col2.append(float(ele[1]))\n",
    "    col3.append(int(ele[-1]))\n",
    "    \n",
    "\n",
    "\n",
    "df2 = pd.DataFrame(list(zip(*[col1, col2, col3]))).add_prefix('Col')\n",
    "df2.columns = ['Time', 'NO2', 'Flag']\n",
    "\n",
    "#df2.to_csv('file.csv', index=False,header=True)"
   ]
  },
  {
   "cell_type": "code",
   "execution_count": 83,
   "id": "5676ae34",
   "metadata": {},
   "outputs": [],
   "source": [
    "df_merged = pd.concat([df1, df2], ignore_index=True, sort=False)\n",
    "df_merged.to_csv('2023-06-19.COR_CEAS.pm.dat', index=False,header=False)\n",
    "#df_sorted = df_merged.sort_values(by='Time')\n",
    "#df_sorted.to_csv('2023-06-18.COR_CEAS.test.dat', index=False,header=True)\n",
    "#print(df_merged,df_sorted)"
   ]
  },
  {
   "cell_type": "code",
   "execution_count": 2,
   "id": "fd26cbad",
   "metadata": {},
   "outputs": [
    {
     "name": "stdout",
     "output_type": "stream",
     "text": [
      "2023-06-18 17:48:01.806159 2023-06-18 15:48:01.806159\n"
     ]
    }
   ],
   "source": [
    "print(dt.datetime.now(),dt.datetime.utcnow())"
   ]
  },
  {
   "cell_type": "code",
   "execution_count": 19,
   "id": "81dbc1e3",
   "metadata": {},
   "outputs": [
    {
     "name": "stdout",
     "output_type": "stream",
     "text": [
      "2023-06-17 12:00:00\n"
     ]
    }
   ],
   "source": [
    "day = dt.datetime(2023,6,18)\n",
    "dayutc = dt.datetime(2023,6,18, tzinfo=pytz.utc)\n",
    "timestamp = dt.datetime.strptime('2023/06/17-12:00:00','%Y/%m/%d-%H:%M:%S')\n",
    "print(timestamp)\n"
   ]
  },
  {
   "cell_type": "code",
   "execution_count": 20,
   "id": "220ba336",
   "metadata": {},
   "outputs": [
    {
     "name": "stdout",
     "output_type": "stream",
     "text": [
      "-720.0\n",
      "-840.0\n"
     ]
    }
   ],
   "source": [
    "print((timestamp-day).total_seconds()/60)\n",
    "print((timestamp.astimezone(pytz.timezone('Europe/Berlin'))-dayutc).total_seconds()/60)"
   ]
  },
  {
   "cell_type": "code",
   "execution_count": 18,
   "id": "b12222d4",
   "metadata": {},
   "outputs": [
    {
     "data": {
      "text/plain": [
       "datetime.datetime(2023, 6, 18, 2, 0, tzinfo=<DstTzInfo 'Europe/Berlin' CEST+2:00:00 DST>)"
      ]
     },
     "execution_count": 18,
     "metadata": {},
     "output_type": "execute_result"
    }
   ],
   "source": [
    "dayutc.astimezone(pytz.timezone('Europe/Berlin'))"
   ]
  },
  {
   "cell_type": "code",
   "execution_count": 84,
   "id": "098d85f5",
   "metadata": {},
   "outputs": [
    {
     "name": "stderr",
     "output_type": "stream",
     "text": [
      "C:\\Users\\Administrator\\AppData\\Local\\Temp\\ipykernel_10172\\1655540269.py:2: SettingWithCopyWarning: \n",
      "A value is trying to be set on a copy of a slice from a DataFrame\n",
      "\n",
      "See the caveats in the documentation: https://pandas.pydata.org/pandas-docs/stable/user_guide/indexing.html#returning-a-view-versus-a-copy\n",
      "  df_inv.NO2[df_merged.NO2==0]=-999\n"
     ]
    }
   ],
   "source": [
    "df_inv =df_merged.fillna(int(-999))\n",
    "df_inv.NO2[df_merged.NO2==0]=-999\n",
    "df_inv.to_csv('2023-06-19.COR_CEAS.pm.dat', index=False,header=True)"
   ]
  },
  {
   "cell_type": "code",
   "execution_count": 62,
   "id": "21170312",
   "metadata": {},
   "outputs": [],
   "source": [
    "df1a.to_csv('2023-06-18.COR_CEAS.test.dat', index=False,header=True)"
   ]
  },
  {
   "cell_type": "code",
   "execution_count": 70,
   "id": "4aa88986",
   "metadata": {},
   "outputs": [
    {
     "data": {
      "text/html": [
       "<div>\n",
       "<style scoped>\n",
       "    .dataframe tbody tr th:only-of-type {\n",
       "        vertical-align: middle;\n",
       "    }\n",
       "\n",
       "    .dataframe tbody tr th {\n",
       "        vertical-align: top;\n",
       "    }\n",
       "\n",
       "    .dataframe thead th {\n",
       "        text-align: right;\n",
       "    }\n",
       "</style>\n",
       "<table border=\"1\" class=\"dataframe\">\n",
       "  <thead>\n",
       "    <tr style=\"text-align: right;\">\n",
       "      <th></th>\n",
       "      <th>Time</th>\n",
       "      <th>NO2</th>\n",
       "      <th>Flag</th>\n",
       "    </tr>\n",
       "  </thead>\n",
       "  <tbody>\n",
       "    <tr>\n",
       "      <th>4</th>\n",
       "      <td>-575.050000</td>\n",
       "      <td>-999.0</td>\n",
       "      <td>0</td>\n",
       "    </tr>\n",
       "    <tr>\n",
       "      <th>10</th>\n",
       "      <td>-569.250000</td>\n",
       "      <td>-999.0</td>\n",
       "      <td>0</td>\n",
       "    </tr>\n",
       "    <tr>\n",
       "      <th>17</th>\n",
       "      <td>-568.816667</td>\n",
       "      <td>-999.0</td>\n",
       "      <td>0</td>\n",
       "    </tr>\n",
       "    <tr>\n",
       "      <th>18</th>\n",
       "      <td>-568.766667</td>\n",
       "      <td>-999.0</td>\n",
       "      <td>0</td>\n",
       "    </tr>\n",
       "    <tr>\n",
       "      <th>19</th>\n",
       "      <td>-568.466667</td>\n",
       "      <td>-999.0</td>\n",
       "      <td>0</td>\n",
       "    </tr>\n",
       "    <tr>\n",
       "      <th>20</th>\n",
       "      <td>-568.416667</td>\n",
       "      <td>-999.0</td>\n",
       "      <td>0</td>\n",
       "    </tr>\n",
       "    <tr>\n",
       "      <th>21</th>\n",
       "      <td>-568.366667</td>\n",
       "      <td>-999.0</td>\n",
       "      <td>0</td>\n",
       "    </tr>\n",
       "    <tr>\n",
       "      <th>23</th>\n",
       "      <td>-568.250000</td>\n",
       "      <td>-999.0</td>\n",
       "      <td>0</td>\n",
       "    </tr>\n",
       "    <tr>\n",
       "      <th>25</th>\n",
       "      <td>-568.150000</td>\n",
       "      <td>-999.0</td>\n",
       "      <td>0</td>\n",
       "    </tr>\n",
       "    <tr>\n",
       "      <th>26</th>\n",
       "      <td>-568.100000</td>\n",
       "      <td>-999.0</td>\n",
       "      <td>0</td>\n",
       "    </tr>\n",
       "    <tr>\n",
       "      <th>33</th>\n",
       "      <td>-529.250000</td>\n",
       "      <td>-999.0</td>\n",
       "      <td>0</td>\n",
       "    </tr>\n",
       "    <tr>\n",
       "      <th>34</th>\n",
       "      <td>-529.200000</td>\n",
       "      <td>-999.0</td>\n",
       "      <td>0</td>\n",
       "    </tr>\n",
       "    <tr>\n",
       "      <th>35</th>\n",
       "      <td>-529.150000</td>\n",
       "      <td>-999.0</td>\n",
       "      <td>0</td>\n",
       "    </tr>\n",
       "    <tr>\n",
       "      <th>36</th>\n",
       "      <td>-529.083333</td>\n",
       "      <td>-999.0</td>\n",
       "      <td>0</td>\n",
       "    </tr>\n",
       "    <tr>\n",
       "      <th>41</th>\n",
       "      <td>-528.583333</td>\n",
       "      <td>-999.0</td>\n",
       "      <td>0</td>\n",
       "    </tr>\n",
       "    <tr>\n",
       "      <th>43</th>\n",
       "      <td>-528.466667</td>\n",
       "      <td>-999.0</td>\n",
       "      <td>0</td>\n",
       "    </tr>\n",
       "    <tr>\n",
       "      <th>46</th>\n",
       "      <td>-528.300000</td>\n",
       "      <td>-999.0</td>\n",
       "      <td>0</td>\n",
       "    </tr>\n",
       "    <tr>\n",
       "      <th>47</th>\n",
       "      <td>-528.250000</td>\n",
       "      <td>-999.0</td>\n",
       "      <td>0</td>\n",
       "    </tr>\n",
       "  </tbody>\n",
       "</table>\n",
       "</div>"
      ],
      "text/plain": [
       "          Time    NO2  Flag\n",
       "4  -575.050000 -999.0     0\n",
       "10 -569.250000 -999.0     0\n",
       "17 -568.816667 -999.0     0\n",
       "18 -568.766667 -999.0     0\n",
       "19 -568.466667 -999.0     0\n",
       "20 -568.416667 -999.0     0\n",
       "21 -568.366667 -999.0     0\n",
       "23 -568.250000 -999.0     0\n",
       "25 -568.150000 -999.0     0\n",
       "26 -568.100000 -999.0     0\n",
       "33 -529.250000 -999.0     0\n",
       "34 -529.200000 -999.0     0\n",
       "35 -529.150000 -999.0     0\n",
       "36 -529.083333 -999.0     0\n",
       "41 -528.583333 -999.0     0\n",
       "43 -528.466667 -999.0     0\n",
       "46 -528.300000 -999.0     0\n",
       "47 -528.250000 -999.0     0"
      ]
     },
     "execution_count": 70,
     "metadata": {},
     "output_type": "execute_result"
    }
   ],
   "source": [
    "testdf=pd.read_csv('2023-06-18.COR_CEAS.am.dat')\n",
    "testdf[testdf.NO2==int(-999)]"
   ]
  },
  {
   "cell_type": "code",
   "execution_count": 88,
   "id": "069db55f",
   "metadata": {},
   "outputs": [
    {
     "name": "stderr",
     "output_type": "stream",
     "text": [
      "C:\\Users\\Administrator\\AppData\\Local\\Temp\\ipykernel_10172\\2127342036.py:2: SettingWithCopyWarning: \n",
      "A value is trying to be set on a copy of a slice from a DataFrame\n",
      "\n",
      "See the caveats in the documentation: https://pandas.pydata.org/pandas-docs/stable/user_guide/indexing.html#returning-a-view-versus-a-copy\n",
      "  df_inv.NO2[df_inv.NO2==0]=-999\n"
     ]
    }
   ],
   "source": [
    "df_inv =df1.fillna(int(-999))\n",
    "df_inv.NO2[df_inv.NO2==0]=-999\n",
    "df_inv.to_csv('2023-06-20.COR_CEAS.am.dat', index=False,header=True)"
   ]
  },
  {
   "cell_type": "code",
   "execution_count": null,
   "id": "25ffee90",
   "metadata": {},
   "outputs": [],
   "source": []
  }
 ],
 "metadata": {
  "kernelspec": {
   "display_name": "Python 3 (ipykernel)",
   "language": "python",
   "name": "python3"
  },
  "language_info": {
   "codemirror_mode": {
    "name": "ipython",
    "version": 3
   },
   "file_extension": ".py",
   "mimetype": "text/x-python",
   "name": "python",
   "nbconvert_exporter": "python",
   "pygments_lexer": "ipython3",
   "version": "3.11.3"
  }
 },
 "nbformat": 4,
 "nbformat_minor": 5
}
