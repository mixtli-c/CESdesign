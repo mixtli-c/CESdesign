{
 "cells": [
  {
   "cell_type": "code",
   "execution_count": 5,
   "id": "67a5c559",
   "metadata": {},
   "outputs": [],
   "source": [
    "import glob\n",
    "import numpy as np"
   ]
  },
  {
   "cell_type": "code",
   "execution_count": 6,
   "id": "b3f4ee4b",
   "metadata": {},
   "outputs": [],
   "source": [
    "files = glob.glob('.\\\\Im*')"
   ]
  },
  {
   "cell_type": "code",
   "execution_count": 7,
   "id": "8d9edb5f",
   "metadata": {},
   "outputs": [],
   "source": [
    "background=np.loadtxt('Ib.txt')\n",
    "zeroair=np.loadtxt('Iz.txt')\n",
    "Ims = np.copy(background[:,0])\n",
    "\n",
    "for ele in files:\n",
    "    Im = np.loadtxt(ele)\n",
    "    Ims = np.column_stack((Ims,Im[:,1]))\n",
    "    "
   ]
  },
  {
   "cell_type": "code",
   "execution_count": 9,
   "id": "ca000d9d",
   "metadata": {},
   "outputs": [
    {
     "data": {
      "text/plain": [
       "(1024, 45)"
      ]
     },
     "execution_count": 9,
     "metadata": {},
     "output_type": "execute_result"
    }
   ],
   "source": [
    "Im = np.average"
   ]
  },
  {
   "cell_type": "code",
   "execution_count": null,
   "id": "6b7acbd8",
   "metadata": {},
   "outputs": [],
   "source": [
    "counts = np.copy(Im[:,1]).reshape(len(Im[:,1]),1)\n",
    "minwave,maxwave = cf.segment_indices(no2reference,lower_wavelength,\n",
    "                upper_wavelength)\n",
    "\n",
    "bckg = np.copy(background[minwave:maxwave,:])\n",
    "zero = np.copy(zeroair[minwave:maxwave,:])\n",
    "no2ref = np.copy(no2reference[minwave:maxwave,:])\n",
    "I_s = np.copy(counts[minwave:maxwave,:])\n",
    "I_b = np.average(bckg[:,1:],axis=1).reshape(len(bckg),1)\n",
    "I_not = np.average(zero[:,start_avg:],axis=1).reshape(len(zero),1)\n",
    "I_0 = np.subtract(I_not,I_b)\n",
    "I_sample = np.subtract(I_s,I_b)\n",
    "alpha = cf.extinction(I_sample,I_0,Reff,44.17)"
   ]
  }
 ],
 "metadata": {
  "kernelspec": {
   "display_name": "Python 3 (ipykernel)",
   "language": "python",
   "name": "python3"
  },
  "language_info": {
   "codemirror_mode": {
    "name": "ipython",
    "version": 3
   },
   "file_extension": ".py",
   "mimetype": "text/x-python",
   "name": "python",
   "nbconvert_exporter": "python",
   "pygments_lexer": "ipython3",
   "version": "3.11.3"
  }
 },
 "nbformat": 4,
 "nbformat_minor": 5
}
