{
 "cells": [
  {
   "cell_type": "code",
   "execution_count": 183,
   "id": "b70af158-464b-419f-9d05-bc3cd27c240d",
   "metadata": {},
   "outputs": [],
   "source": [
    "# Python packages\n",
    "import os\n",
    "import sys\n",
    "import matplotlib.pyplot as plt\n",
    "import matplotlib.animation as animation\n",
    "import datetime as dt\n",
    "import numpy as np\n",
    "from time import sleep\n",
    "\n",
    "# Local\n",
    "import configurations as conf\n",
    "import andorfunctions as andor\n",
    "#sys.path.append('..')\n",
    "import CESfunctionsJUNOx23 as cf\n",
    "\n",
    "# The pyAndorSDK2 is a proprietary package from the ANDOR SDK\n",
    "from pyAndorSDK2 import atmcd\n",
    "from pyAndorSDK2 import atmcd_codes as codes\n",
    "from pyAndorSDK2 import atmcd_errors as errors\n",
    "\n",
    "\n"
   ]
  },
  {
   "cell_type": "code",
   "execution_count": 184,
   "id": "a9c42464-896d-4816-a3da-b14bc4ef4488",
   "metadata": {},
   "outputs": [],
   "source": [
    "#########################################################################################\n",
    "#####                       PARAMETER CONFIGURATION                                 #####\n",
    "# These parameters can be changed manually or with a configuration file\n",
    "\n",
    "### Instrument\n",
    "temp = -20                                    # Camera temperature\n",
    "exptime = 0.1#conf.exptime_blank                        # Exposure time in seconds\n",
    "bckg_shots = conf.bckg_shots                        # Number of background shots\n",
    "                                                    # (for averaging in analysis)\n",
    "acqMode = conf.acqMode        \n",
    "                                                    # Acquisition mode\n",
    "                                                    # e.g. SINGLE_SCAN, ACCUMULATE\n",
    "                                                    # check codes for more\n",
    "accum_number = 50 #conf.accums                          # Number of accumulations (if needed)\n",
    "accum_cycle = exptime + .01                  # Exp + Delay = Cycle time\n",
    "                                                    # (only for internal trigger)\n",
    "readMode = conf.readMode                            # Read mode\n",
    "trigMode = conf.trigMode                            # Trigger Mode\n",
    "\n",
    "### Path for saving data\n",
    "savepath = conf.savepath\n",
    "\n",
    "#########################################################################################\n",
    "##### Making a subdirectory for generated files %Y%m%d\n",
    "\n",
    "directory = dt.datetime.now().strftime('%Y%m%d')\n",
    "path = os.path.join(savepath,directory)   # path of the folder wherein to store data\n",
    "\n",
    "# Tries to make a new folder with the current date, does nothing if folder already\n",
    "# exists\n",
    "\n",
    "try:\n",
    "    os.mkdir(path)\n",
    "except:\n",
    "    pass\n",
    "\n",
    "path_file = path + conf.folder_symbol   # full path to append filename when writing\n",
    "\n"
   ]
  },
  {
   "cell_type": "code",
   "execution_count": 185,
   "id": "a27e3ee1-af23-4ebf-b94a-be863f06ff6b",
   "metadata": {},
   "outputs": [
    {
     "name": "stdout",
     "output_type": "stream",
     "text": [
      "Function Initialize returned 20002\n",
      "Function SetTemperature returned 20002 Set Temperature: -20\n",
      "Function CoolerON returned 20002\n",
      "Waiting for temperature to stabilize:\n",
      "...Current temperature is 23C\n",
      "...Current temperature is 16C\n",
      "...Current temperature is 9C\n",
      "...Current temperature is 1C\n",
      "...Current temperature is -4C\n",
      "...Current temperature is -10C\n",
      "...Current temperature is -16C\n",
      "...Current temperature is -20C\n",
      "...Current temperature is -22C\n",
      "...Current temperature is -19C\n",
      "...Current temperature is -18C\n",
      "...Current temperature is -18C\n",
      "...Current temperature is -19C\n",
      "...Current temperature is -19C\n",
      "...Current temperature is -19C\n",
      "...Current temperature is -19C\n",
      "...Temperature stabilized\n"
     ]
    }
   ],
   "source": [
    "#########################################################################################\n",
    "#####               INSTRUMENT PREPARATION FOR SAMPLING                             #####\n",
    "# Starts the instrument object and initializes it\n",
    "# Stabilizes to the set temperature\n",
    "# Configures acquisition parameters\n",
    "\n",
    "sdk = atmcd()  # Load the atmcd library\n",
    "\n",
    "ret = sdk.Initialize(r\"c:\\Program Files\\Andor SDK\\\\\")   # Initialize camera, path points\n",
    "                                                        # to DETECTOR.INI\n",
    "print(\"Function Initialize returned {}\".format(ret))\n",
    "\n",
    "if errors.Error_Codes.DRV_SUCCESS != ret:\n",
    "    print(\"...Could not initialize camera with error {}, will exit\".format(ret))\n",
    "    sys.exit()\n",
    "\n",
    "# Uncomment the following if you really want to see the serial number\n",
    "#(ret, iSerialNumber) = sdk.GetCameraSerialNumber()\n",
    "#print(\"Function GetCameraSerialNumber returned {} Serial No: {}\".format(\n",
    "#        ret, iSerialNumber))\n",
    "\n",
    "# Configure the acquisition, lines outsourced to AndorFunctions.py\n",
    "try:\n",
    "    andor.prepare_temperature(sdk,temp)\n",
    "except Exception as e:\n",
    "    print('Will exit due to following error:',e)\n",
    "    sys.exit()"
   ]
  },
  {
   "cell_type": "code",
   "execution_count": 7,
   "id": "2e152b0c-f47a-4850-bd2d-fda121ac4a26",
   "metadata": {},
   "outputs": [
    {
     "name": "stdout",
     "output_type": "stream",
     "text": [
      "Function SetAcquisitionMode returned 20002\n",
      "Function SetNumberAccumulations returned 20002\n",
      "Function SetAccumulationCycleTime returned 20002\n",
      "Function SetReadMode returned 20002\n",
      "Function SetTriggerMode returned 20002\n",
      "Function GetDetector returned 20002 xpixels = 1024 ypixels = 255\n",
      "Function SetExposureTime returned 20002 time = 0.1s\n",
      "Function GetAcquisitionTimings returned 20002 exposure = 0.1 accumulate = 10.4994 kinetic = 1049.940063\n",
      "Function PrepareAcquisition returned 20002\n"
     ]
    }
   ],
   "source": [
    "#xpixels = andor.prepare_camera(sdk,acqMode,readMode,trigMode,\n",
    "#        accum_number,accum_cycle,exptime)"
   ]
  },
  {
   "cell_type": "code",
   "execution_count": 186,
   "id": "532de504-fdac-4433-9322-09bc2504d6e7",
   "metadata": {},
   "outputs": [],
   "source": [
    "def prepare_camera(sdk,acqMode,readMode,trigMode,accum_number,accum_cycle,exptime):\n",
    "    ret = sdk.SetAcquisitionMode(acqMode)\n",
    "    print(\"Function SetAcquisitionMode returned {}\".format(ret))\n",
    "    print(codes.Acquisition_Mode.ACCUMULATE)\n",
    "    #### BEGIN Set Number and Cycles for ACCUMULATION MODE\n",
    "    if acqMode == codes.Acquisition_Mode.ACCUMULATE:\n",
    "        ret = sdk.SetNumberAccumulations(accum_number)\n",
    "        print(\"Function SetNumberAccumulations returned {}\".format(ret))\n",
    "    \n",
    "        ret = sdk.SetAccumulationCycleTime(accum_cycle)\n",
    "        print(\"Function SetAccumulationCycleTime returned {}\".format(ret))\n",
    "    #### END Set Number and Cycles for ACCUMULATION MODE\n",
    "\n",
    "    ret = sdk.SetReadMode(readMode)\n",
    "    print(\"Function SetReadMode returned {}\".format(ret))\n",
    "\n",
    "    ret = sdk.SetTriggerMode(trigMode)\n",
    "    print(\"Function SetTriggerMode returned {}\".format(ret))\n",
    "\n",
    "    (ret, xpixels, ypixels) = sdk.GetDetector()\n",
    "    print(\"Function GetDetector returned {} xpixels = {} ypixels = {}\".format(\n",
    "        ret, xpixels, ypixels))\n",
    "\n",
    "    ret = sdk.SetExposureTime(exptime)\n",
    "    print(\"Function SetExposureTime returned {} time = {}s\".format(ret,exptime))\n",
    "\n",
    "    (ret, fminExposure, fAccumulate, fKinetic) = sdk.GetAcquisitionTimings()\n",
    "    print(\"Function GetAcquisitionTimings returned\",\n",
    "            \"{} exposure = {} accumulate = {} kinetic = {}\".format(ret, fminExposure, \n",
    "                                                             fAccumulate, fKinetic))\n",
    "\n",
    "    ret = sdk.PrepareAcquisition()\n",
    "    print(\"Function PrepareAcquisition returned {}\".format(ret))\n",
    "    return xpixels,fKinetic\n"
   ]
  },
  {
   "cell_type": "code",
   "execution_count": 242,
   "id": "5bb1feb2-80e3-4918-852e-3da84463840e",
   "metadata": {},
   "outputs": [
    {
     "name": "stdout",
     "output_type": "stream",
     "text": [
      "Function SetAcquisitionMode returned 20002\n",
      "2\n",
      "Function SetNumberAccumulations returned 20002\n",
      "Function SetAccumulationCycleTime returned 20002\n",
      "Function SetReadMode returned 20002\n",
      "Function SetTriggerMode returned 20002\n",
      "Function GetDetector returned 20002 xpixels = 1024 ypixels = 255\n",
      "Function SetExposureTime returned 20002 time = 0.1s\n",
      "Function GetAcquisitionTimings returned 20002 exposure = 0.1 accumulate = 0.10369 kinetic = 0.10369\n",
      "Function PrepareAcquisition returned 20002\n"
     ]
    }
   ],
   "source": [
    "accum_number,accum_cycle,exptime =(1,.105,.1)\n",
    "xpixels,runtime = prepare_camera(sdk,acqMode,readMode,trigMode,\n",
    "        accum_number,accum_cycle,exptime)"
   ]
  },
  {
   "cell_type": "code",
   "execution_count": 243,
   "id": "1e7625de-62b2-4867-a8e1-6aac4ae1c7a6",
   "metadata": {},
   "outputs": [
    {
     "name": "stdout",
     "output_type": "stream",
     "text": [
      "Acquisition\n",
      "Function StartAcquisition returned 20002\n",
      "Function GetNumberNewImages returned 20002 first= 1 last = 1\n",
      "Function GetImages16 returned 20002 first pixel = 300 size = 1024\n",
      "(1024,)\n",
      "0.13577\n"
     ]
    },
    {
     "data": {
      "text/plain": [
       "[<matplotlib.lines.Line2D at 0x22582971f10>]"
      ]
     },
     "execution_count": 243,
     "metadata": {},
     "output_type": "execute_result"
    },
    {
     "data": {
      "image/png": "[encoded data removed]",
      "text/plain": [
       "<Figure size 640x480 with 1 Axes>"
      ]
     },
     "metadata": {},
     "output_type": "display_data"
    }
   ],
   "source": [
    "print(\"Acquisition\")\n",
    "tt1=dt.datetime.now() # for testing wait delay     \n",
    "ret = sdk.StartAcquisition()\n",
    "print(\"Function StartAcquisition returned {}\".format(ret))\n",
    "    \n",
    "    #\n",
    "#ret,status = sdk.GetStatus()\n",
    "#while status != 20073:\n",
    "    \n",
    "#    sleep(runtime/20)\n",
    "#    ret,status = sdk.GetStatus()\n",
    "    #print(status)\n",
    "ret = sdk.WaitForAcquisition()\n",
    "#print(\"Function WaitForAcquisition returned {}\".format(ret))\n",
    "    \n",
    "    #\n",
    "    #\n",
    "(ret, first, last) = sdk.GetNumberNewImages()\n",
    "print(\"Function GetNumberNewImages returned {} first= {} last = {}\".format(ret, first, last))\n",
    "\n",
    "(ret, arr, validfirst, validlast) = sdk.GetImages16(1, 1, xpixels)\n",
    "print(\"Function GetImages16 returned {} first pixel = {} size = {}\".format(ret, arr[0], xpixels))\n",
    "print(arr.shape)\n",
    "tt2=dt.datetime.now() # for testing wait delay\n",
    "print((tt2-tt1).total_seconds())\n",
    "plt.plot(arr)\n"
   ]
  },
  {
   "cell_type": "code",
   "execution_count": 244,
   "id": "2ab95175-69b9-4143-898f-b5807dbb5661",
   "metadata": {},
   "outputs": [
    {
     "name": "stdout",
     "output_type": "stream",
     "text": [
      "(1024,)\n",
      "15.297598\n"
     ]
    },
    {
     "data": {
      "text/plain": [
       "[<matplotlib.lines.Line2D at 0x22582a72f50>]"
      ]
     },
     "execution_count": 244,
     "metadata": {},
     "output_type": "execute_result"
    },
    {
     "data": {
      "image/png": "[encoded data removed]",
      "text/plain": [
       "<Figure size 640x480 with 1 Axes>"
      ]
     },
     "metadata": {},
     "output_type": "display_data"
    }
   ],
   "source": [
    "tt1=dt.datetime.now() # for testing wait delay  \n",
    "counts = np.zeros(xpixels)\n",
    "for i in range(100):\n",
    "    #print(\"Acquisition \",i)\n",
    "   \n",
    "    ret = sdk.StartAcquisition()\n",
    "    #print(\"Function StartAcquisition returned {}\".format(ret))\n",
    "    \n",
    "    #\n",
    "    #ret,status = sdk.GetStatus()\n",
    "    #while status != 20073:\n",
    "    #    sleep(.1)\n",
    "    #    ret,status = sdk.GetStatus()\n",
    "    #print(status)\n",
    "    ret = sdk.WaitForAcquisition()\n",
    "    #print(\"Function WaitForAcquisition returned {}\".format(ret))\n",
    "    \n",
    "    #\n",
    "    #\n",
    "    (ret, arr, validfirst, validlast) = sdk.GetImages16(1, 1, xpixels)\n",
    "    #print(\"Function GetImages16 returned {} first pixel = {} size = {}\".format(ret, arr[0], xpixels))\n",
    "    counts = counts+arr\n",
    "\n",
    "print(counts.shape)\n",
    "tt2=dt.datetime.now() # for testing wait delay\n",
    "print((tt2-tt1).total_seconds())\n",
    "plt.plot(counts)\n",
    "\n"
   ]
  },
  {
   "cell_type": "code",
   "execution_count": 225,
   "id": "cf6459a1-c951-4e1e-8a68-546ff34fdf12",
   "metadata": {},
   "outputs": [
    {
     "name": "stdout",
     "output_type": "stream",
     "text": [
      "Function GetImages16 returned 20002 first pixel = 14858 size = 1024\n",
      "(1024,)\n"
     ]
    },
    {
     "data": {
      "text/plain": [
       "[<matplotlib.lines.Line2D at 0x22581369cd0>]"
      ]
     },
     "execution_count": 225,
     "metadata": {},
     "output_type": "execute_result"
    },
    {
     "data": {
      "image/png": "[encoded data removed]",
      "text/plain": [
       "<Figure size 640x480 with 1 Axes>"
      ]
     },
     "metadata": {},
     "output_type": "display_data"
    }
   ],
   "source": [
    "\n",
    "(ret, arr, validfirst, validlast) = sdk.GetImages16(1, 1, xpixels)\n",
    "print(\"Function GetImages16 returned {} first pixel = {} size = {}\".format(ret, arr[0], xpixels))\n",
    "print(arr.shape)\n",
    "plt.plot(arr)\n"
   ]
  },
  {
   "cell_type": "code",
   "execution_count": 226,
   "id": "35a21cdc-2adc-4337-8bab-bb4f3aee1bea",
   "metadata": {},
   "outputs": [
    {
     "data": {
      "text/plain": [
       "(20002, 20073)"
      ]
     },
     "execution_count": 226,
     "metadata": {},
     "output_type": "execute_result"
    }
   ],
   "source": [
    "sdk.GetStatus()"
   ]
  },
  {
   "cell_type": "code",
   "execution_count": 46,
   "id": "826d1798-d10f-4066-93c5-9abd4dbbcf2b",
   "metadata": {},
   "outputs": [
    {
     "data": {
      "text/plain": [
       "20002"
      ]
     },
     "execution_count": 46,
     "metadata": {},
     "output_type": "execute_result"
    }
   ],
   "source": [
    "sdk.AbortAcquisition()"
   ]
  },
  {
   "cell_type": "code",
   "execution_count": 23,
   "id": "b4907086-4f0e-4095-b8e5-1786713565e3",
   "metadata": {},
   "outputs": [],
   "source": [
    "ret,capas=sdk.GetCapabilities()"
   ]
  },
  {
   "cell_type": "code",
   "execution_count": 25,
   "id": "34d5abfd-bee5-444a-94fd-4f6554fb1017",
   "metadata": {},
   "outputs": [
    {
     "data": {
      "text/plain": [
       "<pyAndorSDK2.atmcd.AndorCapabilities at 0x225f4161750>"
      ]
     },
     "execution_count": 25,
     "metadata": {},
     "output_type": "execute_result"
    }
   ],
   "source": [
    "capas"
   ]
  },
  {
   "cell_type": "code",
   "execution_count": 190,
   "id": "c452852c-ea80-4b24-b7d5-b7618a0b36c2",
   "metadata": {},
   "outputs": [
    {
     "name": "stdout",
     "output_type": "stream",
     "text": [
      "Function Initialize returned SUCCESS\n"
     ]
    }
   ],
   "source": [
    "from pyAndorSpectrograph.spectrograph import ATSpectrograph\n",
    "\n",
    "#Load libraries\n",
    "spc = ATSpectrograph()\n",
    "\n",
    "#Initialize libraries\n",
    "shm = spc.Initialize(\"\")\n",
    "print(\"Function Initialize returned {}\".format(\n",
    "    spc.GetFunctionReturnDescription(shm, 64)[1]))\n"
   ]
  },
  {
   "cell_type": "code",
   "execution_count": 191,
   "id": "44f39d34-191a-4c47-b88b-d4219a87c0e9",
   "metadata": {},
   "outputs": [
    {
     "name": "stdout",
     "output_type": "stream",
     "text": [
      "Function GetSerialNumber returned : SUCCESS Serial No: SR1871\n",
      "Function IsAccessoryPresent returned: SUCCESS present: 0\n",
      "Function IsSlitPresent returned: SUCCESS present: 1\n",
      "Function IsFilterPresent returned: SUCCESS present: 0\n",
      "Function IsFlipperMirrorPresent returned: SUCCESS present: 0\n",
      "Function IsFocusMirrorPresent returned: SUCCESS present: 0\n",
      "Function GratingIsPresent returned: SUCCESS present: 1\n",
      "Function IsIrisPresent returned: SUCCESS present: 0\n",
      "Function IsShutterModePossible returned: SUCCESS Info: 1\n",
      "Function IsShutterPresent returned: SUCCESS present: 1\n",
      "Function IsSlitPresent returned: SUCCESS present: 0\n",
      "Function IsWavelengthPresent returned: SUCCESS present: 1\n",
      "Function GetFlipperMirrorMaxPosition returned: SUCCESS Pos: 0\n"
     ]
    }
   ],
   "source": [
    "(shm, serial) = spc.GetSerialNumber(0, 64)\n",
    "print(\"Function GetSerialNumber returned : {} Serial No: {}\".format(\n",
    "            spc.GetFunctionReturnDescription(shm, 64)[1], serial))\n",
    "\n",
    "(shm, present) = spc.IsAccessoryPresent(0)\n",
    "print(\"Function IsAccessoryPresent returned: {} present: {}\".format(\n",
    "            spc.GetFunctionReturnDescription(shm, 64)[1], present))\n",
    "\n",
    "(shm, present) = spc.IsSlitPresent(0, 1)\n",
    "print(\"Function IsSlitPresent returned: {} present: {}\".format(\n",
    "            spc.GetFunctionReturnDescription(shm, 64)[1], present))\n",
    "\n",
    "(shm, present) = spc.IsFilterPresent(0)\n",
    "print(\"Function IsFilterPresent returned: {} present: {}\".format(\n",
    "            spc.GetFunctionReturnDescription(shm, 64)[1], present))\n",
    "\n",
    "(shm, present) = spc.IsFlipperMirrorPresent(0, 1)\n",
    "print(\"Function IsFlipperMirrorPresent returned: {} present: {}\".format(\n",
    "            spc.GetFunctionReturnDescription(shm, 64)[1], present))\n",
    "\n",
    "(shm, present) = spc.IsFocusMirrorPresent(0)\n",
    "print(\"Function IsFocusMirrorPresent returned: {} present: {}\".format(\n",
    "            spc.GetFunctionReturnDescription(shm, 64)[1], present))\n",
    "\n",
    "(shm, present) = spc.IsGratingPresent(0)\n",
    "print(\"Function GratingIsPresent returned: {} present: {}\".format(\n",
    "            spc.GetFunctionReturnDescription(shm, 64)[1], present))\n",
    "\n",
    "(shm, present) = spc.IsIrisPresent(0, 1)\n",
    "print(\"Function IsIrisPresent returned: {} present: {}\".format(\n",
    "            spc.GetFunctionReturnDescription(shm, 64)[1], present))\n",
    "\n",
    "#(shm, info) = spc.GetFilterInfo(0, 1, 64)\n",
    "#print(\"Function GetFilterInfo returned: {} Info: {}\".format(\n",
    "#            spc.GetFunctionReturnDescription(shm, 64)[1], info))\n",
    "\n",
    "(shm, info) = spc.IsShutterModePossible(0, 1)\n",
    "print(\"Function IsShutterModePossible returned: {} Info: {}\".format(\n",
    "            spc.GetFunctionReturnDescription(shm, 64)[1], info))\n",
    "\n",
    "(shm, present) = spc.IsShutterPresent(0)\n",
    "print(\"Function IsShutterPresent returned: {} present: {}\".format(\n",
    "            spc.GetFunctionReturnDescription(shm, 64)[1], present))\n",
    "\n",
    "(shm, present) = spc.IsSlitPresent(0, 3)\n",
    "print(\"Function IsSlitPresent returned: {} present: {}\".format(\n",
    "            spc.GetFunctionReturnDescription(shm, 64)[1], present))\n",
    "\n",
    "(shm, present) = spc.IsWavelengthPresent(0)\n",
    "print(\"Function IsWavelengthPresent returned: {} present: {}\".format(\n",
    "            spc.GetFunctionReturnDescription(shm, 64)[1], present))\n",
    "\n",
    "(shm, pos) = spc.GetFlipperMirrorMaxPosition(0, 1)\n",
    "print(\"Function GetFlipperMirrorMaxPosition returned: {} Pos: {}\".format(\n",
    "            spc.GetFunctionReturnDescription(shm, 64)[1], pos))\n"
   ]
  },
  {
   "cell_type": "code",
   "execution_count": 192,
   "id": "043cf5f1-1dab-47da-ba37-82132c43e5fa",
   "metadata": {},
   "outputs": [
    {
     "name": "stdout",
     "output_type": "stream",
     "text": [
      "Function IsSlitPresent returned: SUCCESS present: 1\n",
      "Function IsSlitPresent returned: SUCCESS present: 0\n",
      "Function IsSlitPresent returned: SUCCESS present: 0\n",
      "Function IsSlitPresent returned: SUCCESS present: 0\n",
      "Function GetSlitWidth returned: SUCCESS width: 100.0\n"
     ]
    }
   ],
   "source": [
    "(shm, present) = spc.IsSlitPresent(0, 1)\n",
    "print(\"Function IsSlitPresent returned: {} present: {}\".format(\n",
    "            spc.GetFunctionReturnDescription(shm, 64)[1], present))\n",
    "(shm, present) = spc.IsSlitPresent(0, 2)\n",
    "print(\"Function IsSlitPresent returned: {} present: {}\".format(\n",
    "            spc.GetFunctionReturnDescription(shm, 64)[1], present))\n",
    "(shm, present) = spc.IsSlitPresent(0, 3)\n",
    "print(\"Function IsSlitPresent returned: {} present: {}\".format(\n",
    "            spc.GetFunctionReturnDescription(shm, 64)[1], present))\n",
    "(shm, present) = spc.IsSlitPresent(0, 4)\n",
    "print(\"Function IsSlitPresent returned: {} present: {}\".format(\n",
    "            spc.GetFunctionReturnDescription(shm, 64)[1], present))\n",
    "\n",
    "(shm, width) = spc.GetSlitWidth(0, 1)\n",
    "print(\"Function GetSlitWidth returned: {} width: {}\".format(\n",
    "    spc.GetFunctionReturnDescription(shm, 64)[1], width))"
   ]
  },
  {
   "cell_type": "code",
   "execution_count": 194,
   "id": "6106d039-6ebb-4123-b0e6-7dc95eb309f2",
   "metadata": {},
   "outputs": [
    {
     "name": "stdout",
     "output_type": "stream",
     "text": [
      "Function IsShutterPresent returned: SUCCESS present: 1\n",
      "Function SetShutter returned: SUCCESS\n",
      "Function GetShutter returned: SUCCESS shutter: 1\n"
     ]
    }
   ],
   "source": [
    "(shm, present) = spc.IsShutterPresent(0)\n",
    "print(\"Function IsShutterPresent returned: {} present: {}\".format(\n",
    "            spc.GetFunctionReturnDescription(shm, 64)[1], present))\n",
    "\n",
    "shm = spc.SetShutter(0,1)\n",
    "print(\"Function SetShutter returned: {}\".format(\n",
    "            spc.GetFunctionReturnDescription(shm, 64)[1],))\n",
    "\n",
    "(shm, shutter) = spc.GetShutter(0)\n",
    "print(\"Function GetShutter returned: {} shutter: {}\".format(\n",
    "            spc.GetFunctionReturnDescription(shm, 64)[1], shutter))"
   ]
  },
  {
   "cell_type": "code",
   "execution_count": 107,
   "id": "742d0453-ed00-4394-bfdd-387ba1262f82",
   "metadata": {},
   "outputs": [
    {
     "name": "stdout",
     "output_type": "stream",
     "text": [
      "Function GetGrating returned: SUCCESS grating: 3\n"
     ]
    }
   ],
   "source": [
    "(shm, grat) = spc.GetGrating(0)\n",
    "print(\"Function GetGrating returned: {} grating: {}\".format(\n",
    "            spc.GetFunctionReturnDescription(shm, 64)[1], grat))\n",
    "\n",
    "#(shm, ginfo) = spc.GetGratingInfo(0)\n",
    "#print(\"Function IsWavelengthPresent returned: {} present: {}\".format(\n",
    "#            spc.GetFunctionReturnDescription(shm, 64)[1], ginfo))"
   ]
  },
  {
   "cell_type": "code",
   "execution_count": 108,
   "id": "5096482c-0130-483e-a764-5d70fa45fddf",
   "metadata": {},
   "outputs": [
    {
     "name": "stdout",
     "output_type": "stream",
     "text": [
      "Function GetWavelength returned: SUCCESS wavelength: 375.0049743652344\n",
      "Function GetWavelengthLimits returned: SUCCESS min: 0.0 max: 935.0\n"
     ]
    }
   ],
   "source": [
    "(shm, wavelength) = spc.GetWavelength(0)\n",
    "print(\"Function GetWavelength returned: {} wavelength: {}\".format(\n",
    "            spc.GetFunctionReturnDescription(shm, 64)[1], wavelength))\n",
    "\n",
    "(shm, minw,maxw) = spc.GetWavelengthLimits(0,3)\n",
    "print(\"Function GetWavelengthLimits returned: {} min: {} max: {}\".format(\n",
    "            spc.GetFunctionReturnDescription(shm, 64)[1], minw,maxw))"
   ]
  },
  {
   "cell_type": "code",
   "execution_count": null,
   "id": "759688f5-a2a5-4256-ba14-96ce913df725",
   "metadata": {},
   "outputs": [],
   "source": []
  },
  {
   "cell_type": "code",
   "execution_count": null,
   "id": "f8a66675-5ff9-480c-a5cb-4f502a4514d8",
   "metadata": {},
   "outputs": [],
   "source": []
  },
  {
   "cell_type": "code",
   "execution_count": null,
   "id": "bf0e572d-bcd7-4fe6-b49a-7982be5e0483",
   "metadata": {},
   "outputs": [],
   "source": []
  },
  {
   "cell_type": "code",
   "execution_count": 245,
   "id": "452424f0-058a-4d84-886e-e01abb23e1f6",
   "metadata": {},
   "outputs": [
    {
     "name": "stdout",
     "output_type": "stream",
     "text": [
      "Function GetStatus returned 20002 with status 20073\n",
      "Function CoolerOFF returned 20002\n",
      "Waiting for temperature to reach 0 C\n",
      "Function ShutDown returned 20002\n"
     ]
    }
   ],
   "source": [
    "andor.shutdown_camera(sdk)\n"
   ]
  },
  {
   "cell_type": "code",
   "execution_count": 246,
   "id": "b0e12f98-5723-4af6-b5a5-2702a3a350b2",
   "metadata": {},
   "outputs": [
    {
     "name": "stdout",
     "output_type": "stream",
     "text": [
      "Function Close returned SUCCESS\n"
     ]
    }
   ],
   "source": [
    "shm = spc.Close()\n",
    "print(\"Function Close returned {}\".format(\n",
    "        spc.GetFunctionReturnDescription(shm, 64)[1]))\n"
   ]
  },
  {
   "cell_type": "code",
   "execution_count": null,
   "id": "3bdf07dc-fff1-4a78-81ae-1918fae87ac2",
   "metadata": {},
   "outputs": [],
   "source": []
  }
 ],
 "metadata": {
  "kernelspec": {
   "display_name": "Python 3 (ipykernel)",
   "language": "python",
   "name": "python3"
  },
  "language_info": {
   "codemirror_mode": {
    "name": "ipython",
    "version": 3
   },
   "file_extension": ".py",
   "mimetype": "text/x-python",
   "name": "python",
   "nbconvert_exporter": "python",
   "pygments_lexer": "ipython3",
   "version": "3.11.5"
  }
 },
 "nbformat": 4,
 "nbformat_minor": 5
}
