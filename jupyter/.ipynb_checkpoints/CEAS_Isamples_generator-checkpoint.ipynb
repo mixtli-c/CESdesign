{
 "cells": [
  {
   "cell_type": "code",
   "execution_count": null,
   "id": "e671150c",
   "metadata": {},
   "outputs": [],
   "source": []
  },
  {
   "cell_type": "code",
   "execution_count": null,
   "id": "dc5f5e5d",
   "metadata": {},
   "outputs": [],
   "source": [
    "import numpy as np\n",
    "import datetime as dt\n",
    "import scipy.signal as scs\n",
    "import pandas as pd\n",
    "import glob\n",
    "import matplotlib.pyplot as plt\n",
    "from matplotlib.dates import DateFormatter\n",
    "import sys\n",
    "sys.path.append('D:\\\\gitCCA\\\\CESdesign\\\\py')\n",
    "import CESfunctions_dev as cf"
   ]
  },
  {
   "cell_type": "code",
   "execution_count": null,
   "id": "298c4ea2",
   "metadata": {},
   "outputs": [],
   "source": [
    "filelist = glob.glob(\"file goes here\")\n",
    "cf.Isamples_generator(filelist)"
   ]
  }
 ],
 "metadata": {
  "kernelspec": {
   "display_name": "Python 3",
   "language": "python",
   "name": "python3"
  },
  "language_info": {
   "codemirror_mode": {
    "name": "ipython",
    "version": 3
   },
   "file_extension": ".py",
   "mimetype": "text/x-python",
   "name": "python",
   "nbconvert_exporter": "python",
   "pygments_lexer": "ipython3",
   "version": "3.8.10"
  }
 },
 "nbformat": 4,
 "nbformat_minor": 5
}
