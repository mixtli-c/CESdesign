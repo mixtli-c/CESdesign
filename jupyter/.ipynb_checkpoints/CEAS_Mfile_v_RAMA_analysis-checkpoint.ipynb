{
 "cells": [
  {
   "cell_type": "code",
   "execution_count": 1,
   "id": "b995573b",
   "metadata": {},
   "outputs": [],
   "source": [
    "import numpy as np\n",
    "import datetime as dt\n",
    "import glob\n",
    "import pandas as pd\n",
    "import matplotlib.pyplot as plt\n",
    "from matplotlib.dates import DateFormatter\n",
    "import sys\n",
    "sys.path.append('D:\\\\gitCCA\\\\CESdesign\\\\py')\n",
    "import CESfunctions_dev as cf"
   ]
  },
  {
   "cell_type": "code",
   "execution_count": null,
   "id": "09872e71",
   "metadata": {},
   "outputs": [],
   "source": [
    "#### Timestamp, concentration\n",
    "with open(\"M2201271441.txt\") as f:\n",
    "    lines = f.readlines()\n",
    "\n",
    "data=[]\n",
    "\n",
    "for line in lines:\n",
    "    a=line.strip('\\n')\n",
    "    data.append(a.split(' '))\n",
    "\n",
    "date=[]\n",
    "ppb=[]\n",
    "\n",
    "for ele in data:\n",
    "    dates.append(dt.datetime.strptime(ele[0],\"%Y/%m/%d-%H:%M:%S\"))\n",
    "    ppb.append(float(ele[1]))\n",
    "    "
   ]
  },
  {
   "cell_type": "code",
   "execution_count": null,
   "id": "39e05d79",
   "metadata": {},
   "outputs": [],
   "source": [
    "#### Timestamp, concentration, integrated signal\n",
    "with open(\"M2201271441.txt\") as f:\n",
    "    lines = f.readlines()\n",
    "\n",
    "data=[]\n",
    "\n",
    "for line in lines:\n",
    "    a=line.strip('\\n')\n",
    "    data.append(a.split(' '))\n",
    "\n",
    "date=[]\n",
    "ppb1=[]\n",
    "integration=[]\n",
    "\n",
    "for ele in data:\n",
    "    date.append(dt.datetime.strptime(ele[0],\"%Y/%m/%d-%H:%M:%S\"))\n",
    "    ppb1.append(float(ele[1]))\n",
    "    integration.append(float(ele[2]))\n",
    "    \n",
    "\n"
   ]
  },
  {
   "cell_type": "code",
   "execution_count": null,
   "id": "062e80e5",
   "metadata": {},
   "outputs": [],
   "source": [
    "#### Timestamp, conc1, conc2, integrated signal\n",
    "with open(\"M2201271441.txt\") as f:\n",
    "    lines = f.readlines()\n",
    "\n",
    "data=[]\n",
    "\n",
    "for line in lines:\n",
    "    a=line.strip('\\n')\n",
    "    data.append(a.split(' '))\n",
    "\n",
    "date=[]\n",
    "ppb1=[]\n",
    "ppb2=[]\n",
    "integration=[]\n",
    "\n",
    "for ele in data:\n",
    "    date.append(dt.datetime.strptime(ele[0],\"%Y/%m/%d-%H:%M:%S\"))\n",
    "    ppb1.append(float(ele[1]))\n",
    "    ppb2.append(float(ele[2]))\n",
    "    integration.append(float(ele[3]))\n"
   ]
  },
  {
   "cell_type": "code",
   "execution_count": null,
   "id": "b0a36c29",
   "metadata": {},
   "outputs": [],
   "source": [
    "#RAMA\n",
    "\n",
    "df = pd.read_csv('D:\\\\CCA\\\\Avantes\\\\BBCEAS_Data\\\\202201_CCA\\\\CCA_20220125_M.csv')\n",
    "df2= df[df.Parametro == \"NO2\"]\n",
    "dates = []\n",
    "for ele in df2.Date:\n",
    "    try:\n",
    "        dates.append(dt.datetime.strptime(ele,\"%Y-%m-%d %H:%M\"))\n",
    "    except:\n",
    "        ele2=ele.replace(\"24\",\"00\",1)\n",
    "        dates.append(dt.datetime.strptime(ele2,\"%Y-%m-%d %H:%M\"))\n",
    "        \n",
    "ppbs = []\n",
    "for ele in df2.RawValue:\n",
    "    ppbs.append(ele)"
   ]
  }
 ],
 "metadata": {
  "kernelspec": {
   "display_name": "Python 3",
   "language": "python",
   "name": "python3"
  },
  "language_info": {
   "codemirror_mode": {
    "name": "ipython",
    "version": 3
   },
   "file_extension": ".py",
   "mimetype": "text/x-python",
   "name": "python",
   "nbconvert_exporter": "python",
   "pygments_lexer": "ipython3",
   "version": "3.8.10"
  }
 },
 "nbformat": 4,
 "nbformat_minor": 5
}
