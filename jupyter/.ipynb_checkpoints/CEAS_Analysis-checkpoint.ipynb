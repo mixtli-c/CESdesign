{
 "cells": [
  {
   "cell_type": "code",
   "execution_count": 1,
   "id": "58177246",
   "metadata": {},
   "outputs": [],
   "source": [
    "import numpy as np\n",
    "import pandas as pd\n",
    "import datetime as dt\n",
    "import matplotlib.pyplot as plt\n",
    "import glob\n",
    "import scipy.signal as scs\n",
    "from matplotlib.dates import DateFormatter\n",
    "import sys\n",
    "sys.path.append('d:\\\\gitCCA\\\\CESdesign\\\\py\\\\')\n",
    "import CESfunctions as cf"
   ]
  },
  {
   "cell_type": "code",
   "execution_count": null,
   "id": "05ea354c",
   "metadata": {},
   "outputs": [],
   "source": [
    "##### Spectra handling"
   ]
  },
  {
   "cell_type": "code",
   "execution_count": null,
   "id": "d70bdb47",
   "metadata": {},
   "outputs": [],
   "source": [
    "## Load files into matrices\n",
    "logfolder1 = 'D:\\\\CCA\\\\Avantes\\\\logs10dic\\\\'\n",
    "#logfolder1 = '/home/mixtli/Avantes/logs30nov/'\n",
    "\n",
    "SCbg1a = cf.spectra_accumulator(logfolder1 + 'CEASbckg1aSC.npy',50)\n",
    "SCbg1 = cf.spectra_accumulator(logfolder1 + 'CEASbckg1SC.npy',50)\n",
    "SCbg2 = cf.spectra_accumulator(logfolder1 + 'CEASbckg2SC.npy',50)\n",
    "SCln1 = cf.spectra_accumulator(logfolder1 + 'CEASline1SC.npy',50)"
   ]
  },
  {
   "cell_type": "code",
   "execution_count": null,
   "id": "5cfd1e9c",
   "metadata": {},
   "outputs": [],
   "source": [
    "#### Cavity and spectra parameters\n",
    "distance = 70\n",
    "\n",
    "lower_wavelength=445\n",
    "upper_wavelength=459\n",
    "\n",
    "sample = SCln1\n",
    "background = SCbg2\n",
    "\n",
    "reference1=np.load(\"NO2ref_AvSC_corr.npy\")"
   ]
  },
  {
   "cell_type": "code",
   "execution_count": null,
   "id": "cc7b2c6b",
   "metadata": {},
   "outputs": [],
   "source": [
    "#### Getting or setting values for Reff\n",
    "Reff = 0.9994"
   ]
  },
  {
   "cell_type": "code",
   "execution_count": null,
   "id": "2d722565",
   "metadata": {},
   "outputs": [],
   "source": [
    "#### Cutting sprectra, defining I_sample and I_0\n",
    "minwave,maxwave=cf.segment_indices(sample,lower_wavelength,upper_wavelength)\n",
    "line=np.copy(sample[minwave:maxwave,:])\n",
    "bckg=np.copy(background[minwave:maxwave,:])\n",
    "ref1=np.copy(reference1[minwave:maxwave,:])\n",
    "I_sample=np.average(line[:,1:],axis=1)\n",
    "I_0=np.average(bckg[:,1:],axis=1)"
   ]
  },
  {
   "cell_type": "code",
   "execution_count": null,
   "id": "deaa1361",
   "metadata": {},
   "outputs": [],
   "source": [
    "### Recursive fit: Ext -> SVD -> f(l) -> Ext-f(l) -> SVD\n",
    "ndensity = cf.recursive_fit(I_sample,I_0,Reff,distance,ref1)"
   ]
  },
  {
   "cell_type": "code",
   "execution_count": null,
   "id": "38285f89",
   "metadata": {},
   "outputs": [],
   "source": [
    "f, ax1 = plt.subplots(figsize=(14,6))\n",
    "\n",
    "#ax1.plot(SCln1[:,0]*.95+22.95, alpha2,'-g',label=\"Ext\")\n",
    "ax1.plot(line[:,0]*.95+22.95, Reff,'-r',label=\"\")\n",
    "\n",
    "ax1.set_xlim(445,459)\n",
    "ax1.set_xticks(np.arange(445,460,1))\n",
    "ax1.set_ylim(.99994,1.00001)\n",
    "#ax1.set_xticks(np.arange(440,466,2))\n",
    "#ax1.set_xlabel('Wavelength',size=14)\n",
    "#ax1.set_ylabel('Extinction (cm$^{-1}$)',size=14)\n",
    "#ax1.set_title(\"CEAS: Extinction v. NO2 reference\",size=16)\n",
    "#ax1.legend(fontsize=12, loc='upper left')\n",
    "#ax1.tick_params(labelsize=12)\n",
    "#props = dict(boxstyle='round', facecolor='wheat', alpha=0.5)\n",
    "#ax1.text(0.05, 0.95, 'N=9E10 molecule*$cm^{-3}$ (~4ppb)\\n c=5.15E-7', transform=ax0.transAxes, fontsize=14,verticalalignment='top', bbox=props)\n",
    "#plt.savefig('BBCEASext_v_ref.png')"
   ]
  },
  {
   "cell_type": "code",
   "execution_count": null,
   "id": "f3a7bfc3",
   "metadata": {},
   "outputs": [],
   "source": [
    "f, ax1 = plt.subplots(figsize=(14,6))\n",
    "\n",
    "#ax1.plot(SCln1[:,0]*.95+22.95, alpha2,'-g',label=\"Ext\")\n",
    "ax1.plot(line[:,0]*.95+22.95, I_ratio,'-r',label=\"\")\n",
    "\n",
    "ax1.set_xlim(445,459)\n",
    "#ax1.set_xticks(np.arange(445,460,1))\n",
    "ax1.set_ylim(1.80,2)\n",
    "#ax1.set_xticks(np.arange(440,466,2))\n",
    "#ax1.set_xlabel('Wavelength',size=14)\n",
    "#ax1.set_ylabel('Extinction (cm$^{-1}$)',size=14)\n",
    "#ax1.set_title(\"CEAS: Extinction v. NO2 reference\",size=16)\n",
    "#ax1.legend(fontsize=12, loc='upper left')\n",
    "#ax1.tick_params(labelsize=12)\n",
    "#props = dict(boxstyle='round', facecolor='wheat', alpha=0.5)\n",
    "#ax1.text(0.05, 0.95, 'N=9E10 molecule*$cm^{-3}$ (~4ppb)\\n c=5.15E-7', transform=ax0.transAxes, fontsize=14,verticalalignment='top', bbox=props)\n",
    "#plt.savefig('BBCEASext_v_ref.png')"
   ]
  },
  {
   "cell_type": "code",
   "execution_count": null,
   "id": "ed782be4",
   "metadata": {},
   "outputs": [],
   "source": [
    "I_ratio=I_0/I_sample\n",
    "f_c=(I_ratio-1)/70-(ref1[:,1]*(ndensity/(1-0.9994)))\n",
    "f_c_sg=scs.savgol_filter(f_c, 19, 3)\n",
    "\n",
    "f, ax1 = plt.subplots(figsize=(14,6))\n",
    "\n",
    "ax1.plot(line[:,0]*.95+22.95, f_c,'-g',label=\"\")\n",
    "ax1.plot(line[:,0]*.95+22.95, f_c_sg,'-r',label=\"\")\n",
    "ax1.plot(line[:,0]*.95+22.95, f_l_sg/(1-0.9994),'-b',label=\"\")\n",
    "#-NO2ref[:,1]*1.5e15\n",
    "ax1.set_xlim(445,459)\n",
    "#ax1.set_xticks(np.arange(445,460,1))\n",
    "#ax1.set_ylim(0.0115,0.0135)\n",
    "#ax1.set_xticks(np.arange(440,466,2))\n",
    "#ax1.set_xlabel('Wavelength',size=14)\n",
    "#ax1.set_ylabel('Extinction (cm$^{-1}$)',size=14)\n",
    "#ax1.set_title(\"CEAS: Extinction v. NO2 reference\",size=16)\n",
    "#ax1.legend(fontsize=12, loc='upper left')\n",
    "#ax1.tick_params(labelsize=12)\n",
    "#props = dict(boxstyle='round', facecolor='wheat', alpha=0.5)\n",
    "#ax1.text(0.05, 0.95, 'N=9E10 molecule*$cm^{-3}$ (~4ppb)\\n c=5.15E-7', transform=ax0.transAxes, fontsize=14,verticalalignment='top', bbox=props)\n",
    "#plt.savefig('BBCEASext_v_ref.png')"
   ]
  },
  {
   "cell_type": "code",
   "execution_count": null,
   "id": "3490715c",
   "metadata": {},
   "outputs": [],
   "source": [
    "f, ax1 = plt.subplots(figsize=(14,6))\n",
    "\n",
    "ax1.plot(bckg[:,0], bckg[:,1],'-b',label=\"\")\n",
    "ax1.plot(line[:,0], line[:,1],'-r',label=\"\")\n",
    "\n",
    "ax1.set_xlim(442,463)\n",
    "#ax1.set_xticks(np.arange(446,459,1))\n",
    "#ax1.set_ylim(0,2e5)\n",
    "#ax1.set_xticks(np.arange(440,466,2))\n",
    "#ax1.set_xlabel('Wavelength',size=14)\n",
    "#ax1.set_ylabel('Extinction (cm$^{-1}$)',size=14)\n",
    "#ax1.set_title(\"CEAS: Extinction v. NO2 reference\",size=16)\n",
    "#ax1.legend(fontsize=12, loc='upper left')\n",
    "#ax1.tick_params(labelsize=12)\n",
    "#props = dict(boxstyle='round', facecolor='wheat', alpha=0.5)\n",
    "#ax1.text(0.05, 0.95, 'N=9E10 molecule*$cm^{-3}$ (~4ppb)\\n c=5.15E-7', transform=ax0.transAxes, fontsize=14,verticalalignment='top', bbox=props)\n",
    "#plt.savefig('BBCEASext_v_ref.png')"
   ]
  },
  {
   "cell_type": "code",
   "execution_count": null,
   "id": "cb52186f",
   "metadata": {},
   "outputs": [],
   "source": [
    "f, ax1 = plt.subplots(figsize=(14,6))\n",
    "\n",
    "ax1.plot(no2refa[:,0],no2refa[:,1],'-b',label=\"\")\n",
    "ax1.plot(no2[:,0], no2[:,1],'-r',label=\"\")\n",
    "\n",
    "ax1.set_xlim(442,463)\n",
    "#ax1.set_xticks(np.arange(446,459,1))\n",
    "#ax1.set_ylim(0,2e5)\n",
    "#ax1.set_xticks(np.arange(440,466,2))\n",
    "#ax1.set_xlabel('Wavelength',size=14)\n",
    "#ax1.set_ylabel('Extinction (cm$^{-1}$)',size=14)\n",
    "#ax1.set_title(\"CEAS: Extinction v. NO2 reference\",size=16)\n",
    "#ax1.legend(fontsize=12, loc='upper left')\n",
    "#ax1.tick_params(labelsize=12)\n",
    "#props = dict(boxstyle='round', facecolor='wheat', alpha=0.5)\n",
    "#ax1.text(0.05, 0.95, 'N=9E10 molecule*$cm^{-3}$ (~4ppb)\\n c=5.15E-7', transform=ax0.transAxes, fontsize=14,verticalalignment='top', bbox=props)\n",
    "#plt.savefig('BBCEASext_v_ref.png')"
   ]
  },
  {
   "cell_type": "code",
   "execution_count": null,
   "id": "fb1c33eb",
   "metadata": {},
   "outputs": [],
   "source": [
    "f, ax1 = plt.subplots(figsize=(14,6))\n",
    "\n",
    "ax1.plot(line[:,0]*.95+22.95, alpha2,'-g',label=\"Ext\")\n",
    "ax1.plot(NO2ref[:,0], NO2ref[:,1]*7.5e11-.000000014*NO2ref[:,0]+6.275e-6,'-r',label=\"$\\sigma$ N+c\")\n",
    "\n",
    "ax1.set_xlim(445,459)\n",
    "ax1.set_xticks(np.arange(445,460,1))\n",
    "ax1.set_ylim(0e-7,1.0e-6)\n",
    "#ax1.set_xticks(np.arange(440,466,2))\n",
    "ax1.set_xlabel('Wavelength',size=14)\n",
    "ax1.set_ylabel('Extinction (cm$^{-1}$)',size=14)\n",
    "ax1.set_title(\"CEAS: Extinction v. NO2 reference\",size=16)\n",
    "ax1.legend(fontsize=12, loc='upper left')\n",
    "ax1.tick_params(labelsize=12)\n",
    "props = dict(boxstyle='round', facecolor='wheat', alpha=0.5)\n",
    "#ax1.text(0.05, 0.95, 'N=9E10 molecule*$cm^{-3}$ (~4ppb)\\n c=5.15E-7', transform=ax0.transAxes, fontsize=14,verticalalignment='top', bbox=props)\n",
    "#plt.savefig('BBCEASext_v_ref.png')"
   ]
  },
  {
   "cell_type": "code",
   "execution_count": null,
   "id": "dff5b767",
   "metadata": {},
   "outputs": [],
   "source": [
    "I_ratio=I_0/I_sample\n",
    "f_c=(I_ratio-1)/70-(ref1[:,1]*(c/(1-0.9994)))\n",
    "f_c_sg=scs.savgol_filter(f_c, 19, 3)\n",
    "\n",
    "f, ax1 = plt.subplots(figsize=(14,6))\n",
    "\n",
    "ax1.plot(line[:,0]*.95+22.95, f_c,'-g',label=\"\")\n",
    "ax1.plot(line[:,0]*.95+22.95, f_c_sg,'-r',label=\"\")\n",
    "#-NO2ref[:,1]*1.5e15\n",
    "ax1.set_xlim(445,459)\n",
    "#ax1.set_xticks(np.arange(445,460,1))\n",
    "#ax1.set_ylim(0.0115,0.0135)\n",
    "#ax1.set_xticks(np.arange(440,466,2))\n",
    "#ax1.set_xlabel('Wavelength',size=14)\n",
    "#ax1.set_ylabel('Extinction (cm$^{-1}$)',size=14)\n",
    "#ax1.set_title(\"CEAS: Extinction v. NO2 reference\",size=16)\n",
    "#ax1.legend(fontsize=12, loc='upper left')\n",
    "#ax1.tick_params(labelsize=12)\n",
    "#props = dict(boxstyle='round', facecolor='wheat', alpha=0.5)\n",
    "#ax1.text(0.05, 0.95, 'N=9E10 molecule*$cm^{-3}$ (~4ppb)\\n c=5.15E-7', transform=ax0.transAxes, fontsize=14,verticalalignment='top', bbox=props)\n",
    "#plt.savefig('BBCEASext_v_ref.png')"
   ]
  },
  {
   "cell_type": "code",
   "execution_count": null,
   "id": "a5344dcb",
   "metadata": {},
   "outputs": [],
   "source": [
    "f, ax1 = plt.subplots(figsize=(14,6))\n",
    "\n",
    "ax1.plot(ref_NO2_static[:,0], ext_NO2,'-g',label=\"Ext\")\n",
    "ax1.plot(ref_NO2_static[:,0], x_hat_NO2[2,0]*ref_NO2[:,1]+x_hat_NO2[1,0]*ref_NO2[:,0]*x_hat_NO2[0,0]+7.8e-6,'-r',label=\"SVD iter #1\")\n",
    "\n",
    "ax1.set_xlim(445,459)\n",
    "ax1.set_xticks(np.arange(445,460,1))\n",
    "ax1.set_ylim(7e-6,9e-6)\n",
    "#ax1.set_xticks(np.arange(440,466,2))\n",
    "ax1.set_xlabel('Wavelength',size=14)\n",
    "ax1.set_ylabel('Extinction (cm$^{-1}$)',size=14)\n",
    "ax1.set_title(\"CEAS: Extinction v. NO2 reference\",size=16)\n",
    "ax1.legend(fontsize=12, loc='upper left')\n",
    "ax1.tick_params(labelsize=12)\n",
    "props = dict(boxstyle='round', facecolor='wheat', alpha=0.5)\n",
    "#ax1.text(0.05, 0.95, 'N=9E10 molecule*$cm^{-3}$ (~4ppb)\\n c=5.15E-7', transform=ax0.transAxes, fontsize=14,verticalalignment='top', bbox=props)\n",
    "#plt.savefig('BBCEASext_v_ref.png')"
   ]
  },
  {
   "cell_type": "code",
   "execution_count": 2,
   "id": "2aa0e92b",
   "metadata": {},
   "outputs": [],
   "source": [
    "#### BIG DATA TEST\n",
    "logfolder1 = 'D:\\\\CCA\\\\Avantes\\\\logs23dic\\\\'\n",
    "SCbg1 = cf.spectra_accumulator(logfolder1 + 'CEASbckg1SC.npy',50)\n",
    "SCln1 = cf.spectra_accumulator(logfolder1 + 'CEASline1SC.npy',50)\n",
    "SCbg2 = cf.spectra_accumulator(logfolder1 + 'CEASbckg2SC.npy',50)\n",
    "SCln2 = cf.spectra_accumulator(logfolder1 + 'CEASline2SC.npy',50)"
   ]
  },
  {
   "cell_type": "code",
   "execution_count": 9,
   "id": "a6ffdaa7",
   "metadata": {},
   "outputs": [],
   "source": [
    "SClnavg = cf.spectra_average(SCln,10)"
   ]
  },
  {
   "cell_type": "code",
   "execution_count": 34,
   "id": "28c844c7",
   "metadata": {},
   "outputs": [],
   "source": [
    "#### Cavity and spectra parameters\n",
    "distance = 70\n",
    "\n",
    "lower_wavelength=445\n",
    "upper_wavelength=459\n",
    "\n",
    "sample = SCln1\n",
    "background = SCbg1\n",
    "\n",
    "reference1=np.load(\"NO2ref_AvSC_corr.npy\")\n",
    "\n",
    "#### Getting or setting values for Reff\n",
    "Reff = 0.99995\n",
    "#### Cutting sprectra, defining I_sample and I_0\n",
    "minwave,maxwave=cf.segment_indices(sample,lower_wavelength,upper_wavelength)\n",
    "line=np.copy(sample[minwave:maxwave,:])\n",
    "bckg=np.copy(background[minwave:maxwave,:])\n",
    "ref1=np.copy(reference1[minwave:maxwave,:])\n",
    "I_0=np.average(bckg[:,1:],axis=1)\n",
    "densities = []\n",
    "\n",
    "t_0=dt.datetime.fromtimestamp(0.0)\n",
    "t_i=dt.datetime(year=2021,month=12,day=23,hour=11,minute=53)\n",
    "t_f=dt.datetime(year=2021,month=12,day=24,hour=0)\n",
    "initial = (t_i-t_0).total_seconds()\n",
    "final = (t_f-t_0).total_seconds()\n",
    "seconds = np.linspace(initial,final,num=len(line.T[:,0])-1)\n",
    "timelist=[]\n",
    "for ele in seconds:\n",
    "    timelist.append(dt.datetime.fromtimestamp(ele))\n",
    "time = np.array(timelist)"
   ]
  },
  {
   "cell_type": "code",
   "execution_count": 35,
   "id": "1795b660",
   "metadata": {},
   "outputs": [],
   "source": [
    "for i in range(1,len(line.T[:,0])):\n",
    "    I_sample=np.copy(line[:,i])\n",
    "    ndensity = cf.recursive_fit(I_sample,I_0,Reff,distance,ref1,verbose=0)\n",
    "    densities.append(ndensity)\n",
    "conc = np.array(densities)"
   ]
  },
  {
   "cell_type": "code",
   "execution_count": 37,
   "id": "beed6c88",
   "metadata": {},
   "outputs": [],
   "source": [
    "#### Cavity and spectra parameters\n",
    "distance = 70\n",
    "\n",
    "lower_wavelength=445\n",
    "upper_wavelength=459\n",
    "\n",
    "sample = SCln2\n",
    "background = SCbg1\n",
    "\n",
    "reference1=np.load(\"NO2ref_AvSC_corr.npy\")\n",
    "\n",
    "#### Getting or setting values for Reff\n",
    "Reff = 0.99995\n",
    "#### Cutting sprectra, defining I_sample and I_0\n",
    "minwave,maxwave=cf.segment_indices(sample,lower_wavelength,upper_wavelength)\n",
    "line=np.copy(sample[minwave:maxwave,:])\n",
    "bckg=np.copy(background[minwave:maxwave,:])\n",
    "ref1=np.copy(reference1[minwave:maxwave,:])\n",
    "I_0=np.average(bckg[:,1:],axis=1)\n",
    "densities = []\n",
    "\n",
    "t_0=dt.datetime.fromtimestamp(0.0)\n",
    "t_i=dt.datetime(year=2021,month=12,day=24,hour=0,minute=1)\n",
    "t_f=dt.datetime(year=2021,month=12,day=24,hour=9,minute=56)\n",
    "initial = (t_i-t_0).total_seconds()\n",
    "final = (t_f-t_0).total_seconds()\n",
    "seconds = np.linspace(initial,final,num=len(line.T[:,0])-1)\n",
    "timelist=[]\n",
    "for ele in seconds:\n",
    "    timelist.append(dt.datetime.fromtimestamp(ele))\n",
    "time2 = np.array(timelist)"
   ]
  },
  {
   "cell_type": "code",
   "execution_count": 38,
   "id": "d601fd00",
   "metadata": {},
   "outputs": [],
   "source": [
    "for i in range(1,len(line.T[:,0])):\n",
    "    I_sample=np.copy(line[:,i])\n",
    "    ndensity = cf.recursive_fit(I_sample,I_0,Reff,distance,ref1,verbose=0)\n",
    "    densities.append(ndensity)\n",
    "conc2 = np.array(densities)"
   ]
  },
  {
   "cell_type": "code",
   "execution_count": 42,
   "id": "4ff103d3",
   "metadata": {},
   "outputs": [
    {
     "data": {
      "image/png": "[encoded data removed]",
      "text/plain": [
       "<Figure size 1008x432 with 1 Axes>"
      ]
     },
     "metadata": {
      "needs_background": "light"
     },
     "output_type": "display_data"
    }
   ],
   "source": [
    "f, ax1 = plt.subplots(figsize=(14,6))\n",
    "\n",
    "ax1.plot(time, conc/2.5e10,'-g',label=\"Ext\")\n",
    "ax1.plot(time2, conc2/2.5e10,'-g',label=\"Ext\")\n",
    "#ax1.set_xlim(445,459)\n",
    "#ax1.set_xticks(np.arange(445,460,1))\n",
    "#ax1.set_ylim(7e-6,9e-6)\n",
    "#ax1.set_xticks(np.arange(440,466,2))\n",
    "ax1.set_xlabel('Time',size=14)\n",
    "ax1.set_ylabel('NO$_2$ ppb',size=14)\n",
    "ax1.set_title(\"CEAS NO$_2$ measurements: Dec 23-34 2021\",size=16)\n",
    "#ax1.legend(fontsize=12, loc='upper left')\n",
    "ax1.tick_params(labelsize=12)\n",
    "ax1.xaxis.set_major_formatter(DateFormatter(\"%H:%M:%S\"))\n",
    "#props = dict(boxstyle='round', facecolor='wheat', alpha=0.5)\n",
    "#ax1.text(0.05, 0.95, 'N=9E10 molecule*$cm^{-3}$ (~4ppb)\\n c=5.15E-7', transform=ax0.transAxes, fontsize=14,verticalalignment='top', bbox=props)\n",
    "plt.savefig('BBCEAS2324dic.png')"
   ]
  },
  {
   "cell_type": "code",
   "execution_count": null,
   "id": "1545cca4",
   "metadata": {},
   "outputs": [],
   "source": []
  }
 ],
 "metadata": {
  "kernelspec": {
   "display_name": "Python 3",
   "language": "python",
   "name": "python3"
  },
  "language_info": {
   "codemirror_mode": {
    "name": "ipython",
    "version": 3
   },
   "file_extension": ".py",
   "mimetype": "text/x-python",
   "name": "python",
   "nbconvert_exporter": "python",
   "pygments_lexer": "ipython3",
   "version": "3.8.10"
  }
 },
 "nbformat": 4,
 "nbformat_minor": 5
}
