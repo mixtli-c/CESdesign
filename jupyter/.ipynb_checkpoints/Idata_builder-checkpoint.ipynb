{
 "cells": [
  {
   "cell_type": "code",
   "execution_count": null,
   "id": "4a98a53f",
   "metadata": {},
   "outputs": [],
   "source": [
    "###### We are creating new data files that are of the form [Wavelenght Ib Is ....] with a corresponding\n",
    "###### timestamp text file with the timestamp of the measurements\n",
    "###### (for the background ts is the last measurement and it is actually an average)"
   ]
  },
  {
   "cell_type": "code",
   "execution_count": 1,
   "id": "b0b2228c",
   "metadata": {},
   "outputs": [],
   "source": [
    "import numpy as np\n",
    "import datetime as dt\n",
    "import scipy.signal as scs\n",
    "import pandas as pd\n",
    "import glob\n",
    "import matplotlib.pyplot as plt\n",
    "from matplotlib.dates import DateFormatter\n",
    "from scipy.optimize import curve_fit\n",
    "from lmfit.models import GaussianModel, VoigtModel, LinearModel, ConstantModel\n",
    "import sys\n",
    "sys.path.append('D:\\\\gitCCA\\\\CESdesign\\\\py')\n",
    "import CESfunctions_dev as cf"
   ]
  },
  {
   "cell_type": "code",
   "execution_count": 37,
   "id": "f87a55e7",
   "metadata": {},
   "outputs": [],
   "source": [
    "#### Create new Data and DataTS files for a single folder\n",
    "folder = \"D:\\\\CCA\\\\ICACC-BBCEAS\\\\dataset1\\\\20220310\\\\\"\n",
    "filelist=glob.glob(folder+\"Ib*.txt\")\n",
    "background = np.loadtxt(filelist[0])\n",
    "I_0 = np.average(background[:,1:],axis=1).reshape(len(background),1)\n",
    "Idata = np.concatenate((background[:,0].reshape(len(background[:,0]),1),I_0),axis=1)\n",
    "timestamps = [dt.datetime.strptime(filelist[0][-14:-4], \"%y%m%d%H%M\").strftime(\"%Y/%m/%d-%H:%M:%S\")]\n",
    "filelist=glob.glob(folder+\"Is*.txt\")\n",
    "\n",
    "for ele in filelist:\n",
    "    timestamps.append(dt.datetime.strptime(ele[-16:-4], \"%y%m%d%H%M%S\").strftime(\"%Y/%m/%d-%H:%M:%S\"))\n",
    "    spectra=np.loadtxt(ele)\n",
    "    Idata=np.concatenate((Idata,spectra[:,1].reshape(len(spectra[:,1]),1)),axis=1)\n",
    "\n",
    "with open(folder+'DataTS.txt', 'w') as listfile:\n",
    "     listfile.writelines(\"%s\\n\" % ele for ele in timestamps)\n",
    "        \n",
    "np.save(folder+\"Data\",Idata)"
   ]
  },
  {
   "cell_type": "code",
   "execution_count": 33,
   "id": "e09aa717",
   "metadata": {},
   "outputs": [
    {
     "data": {
      "text/plain": [
       "(3648, 402)"
      ]
     },
     "execution_count": 33,
     "metadata": {},
     "output_type": "execute_result"
    }
   ],
   "source": [
    "Idata.shape"
   ]
  },
  {
   "cell_type": "code",
   "execution_count": 49,
   "id": "7d08027a",
   "metadata": {},
   "outputs": [],
   "source": [
    "#### Create new Data and DataTS files for a folder list\n",
    "dirlist =[]\n",
    "rootdir = 'D:\\\\CCA\\\\ICACC-BBCEAS\\\\dataset1\\\\'\n",
    "for path in glob.glob(rootdir+'*\\\\'):\n",
    "    dirlist.append(path)\n",
    "\n",
    "for folder in dirlist[12:14]:\n",
    "    filelist=glob.glob(folder+\"Ib*.txt\")\n",
    "    background = np.loadtxt(filelist[0])\n",
    "    I_0 = np.average(background[:,1:],axis=1).reshape(len(background),1)\n",
    "    Idata = np.concatenate((background[:,0].reshape(len(background[:,0]),1),I_0),axis=1)\n",
    "    timestamps = [dt.datetime.strptime(filelist[0][-14:-4], \"%y%m%d%H%M\").strftime(\"%Y/%m/%d-%H:%M:%S\")]\n",
    "    filelist=glob.glob(folder+\"Is*.txt\")\n",
    "\n",
    "    for ele in filelist:\n",
    "        timestamps.append(dt.datetime.strptime(ele[-16:-4], \"%y%m%d%H%M%S\").strftime(\"%Y/%m/%d-%H:%M:%S\"))\n",
    "        spectra=np.loadtxt(ele)\n",
    "        Idata=np.concatenate((Idata,spectra[:,1].reshape(len(spectra[:,1]),1)),axis=1)\n",
    "\n",
    "    with open(folder+'DataTS.txt', 'w') as listfile:\n",
    "        listfile.writelines(\"%s\\n\" % ele for ele in timestamps)\n",
    "        \n",
    "    np.save(folder+\"Data\",Idata)"
   ]
  },
  {
   "cell_type": "code",
   "execution_count": null,
   "id": "44af167f",
   "metadata": {},
   "outputs": [],
   "source": []
  }
 ],
 "metadata": {
  "kernelspec": {
   "display_name": "Python 3",
   "language": "python",
   "name": "python3"
  },
  "language_info": {
   "codemirror_mode": {
    "name": "ipython",
    "version": 3
   },
   "file_extension": ".py",
   "mimetype": "text/x-python",
   "name": "python",
   "nbconvert_exporter": "python",
   "pygments_lexer": "ipython3",
   "version": "3.8.10"
  }
 },
 "nbformat": 4,
 "nbformat_minor": 5
}
