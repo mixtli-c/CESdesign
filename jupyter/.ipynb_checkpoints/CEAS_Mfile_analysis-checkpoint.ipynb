{
 "cells": [
  {
   "cell_type": "code",
   "execution_count": 1,
   "id": "b995573b",
   "metadata": {},
   "outputs": [],
   "source": [
    "import numpy as np\n",
    "import datetime as dt\n",
    "import glob\n",
    "import pandas as pd\n",
    "import matplotlib.pyplot as plt\n",
    "from matplotlib.dates import DateFormatter\n",
    "import sys\n",
    "sys.path.append('D:\\\\gitCCA\\\\CESdesign\\\\py')\n",
    "import CESfunctions_dev as cf"
   ]
  },
  {
   "cell_type": "code",
   "execution_count": null,
   "id": "09872e71",
   "metadata": {},
   "outputs": [],
   "source": [
    "####\n",
    "with open(\"M2201271441.txt\") as f:\n",
    "    lines = f.readlines()\n",
    "\n",
    "data=[]\n",
    "\n",
    "for line in lines:\n",
    "    a=line.strip('\\n')\n",
    "    data.append(a.split(' '))\n",
    "\n",
    "dates2=[]\n",
    "ppbs2=[]\n",
    "\n",
    "for ele in data:\n",
    "    dates2.append(dt.datetime.strptime(ele[0],\"%Y/%m/%d-%H:%M:%S\"))\n",
    "    ppbs2.append(float(ele[1]))\n",
    "    \n",
    "ppbs3=np.array(ppbs2)\n"
   ]
  },
  {
   "cell_type": "code",
   "execution_count": null,
   "id": "39e05d79",
   "metadata": {},
   "outputs": [],
   "source": [
    "####\n",
    "with open(\"M2201271441.txt\") as f:\n",
    "    lines = f.readlines()\n",
    "\n",
    "data=[]\n",
    "\n",
    "for line in lines:\n",
    "    a=line.strip('\\n')\n",
    "    data.append(a.split(' '))\n",
    "\n",
    "dates2=[]\n",
    "ppbs2=[]\n",
    "\n",
    "for ele in data:\n",
    "    dates2.append(dt.datetime.strptime(ele[0],\"%Y/%m/%d-%H:%M:%S\"))\n",
    "    ppbs2.append(float(ele[1]))\n",
    "    \n",
    "ppbs3=np.array(ppbs2)\n"
   ]
  },
  {
   "cell_type": "code",
   "execution_count": null,
   "id": "062e80e5",
   "metadata": {},
   "outputs": [],
   "source": [
    "####\n",
    "with open(\"M2201271441.txt\") as f:\n",
    "    lines = f.readlines()\n",
    "\n",
    "data=[]\n",
    "\n",
    "for line in lines:\n",
    "    a=line.strip('\\n')\n",
    "    data.append(a.split(' '))\n",
    "\n",
    "dates2=[]\n",
    "ppbs2=[]\n",
    "\n",
    "for ele in data:\n",
    "    dates2.append(dt.datetime.strptime(ele[0],\"%Y/%m/%d-%H:%M:%S\"))\n",
    "    ppbs2.append(float(ele[1]))\n",
    "    \n",
    "ppbs3=np.array(ppbs2)\n"
   ]
  }
 ],
 "metadata": {
  "kernelspec": {
   "display_name": "Python 3",
   "language": "python",
   "name": "python3"
  },
  "language_info": {
   "codemirror_mode": {
    "name": "ipython",
    "version": 3
   },
   "file_extension": ".py",
   "mimetype": "text/x-python",
   "name": "python",
   "nbconvert_exporter": "python",
   "pygments_lexer": "ipython3",
   "version": "3.8.10"
  }
 },
 "nbformat": 4,
 "nbformat_minor": 5
}
