{
 "cells": [
  {
   "cell_type": "code",
   "execution_count": null,
   "id": "d03e2ed1-8099-4474-b996-bc7bde6cd534",
   "metadata": {},
   "outputs": [],
   "source": [
    "import glob\n",
    "import numpy as np\n",
    "import scipy.signal as scs\n",
    "import datetime as dt\n",
    "import pandas as pd\n",
    "import matplotlib.pyplot as plt\n",
    "from matplotlib.dates import DateFormatter\n",
    "import CESfunctionsJupyter as cf"
   ]
  },
  {
   "cell_type": "code",
   "execution_count": null,
   "id": "69f2f18b-513e-4824-86c8-3245e5ad4d22",
   "metadata": {},
   "outputs": [],
   "source": [
    "##### What METADATA do we need?\n",
    "# Unprocessed data filenames\n",
    "sample_matrix = #the measurement NPY matrix\n",
    "background_txt = #the background (blank) TXT matrix\n",
    "\n",
    "##### Processed data filenames\n",
    "##### Depending on the number of columns the Mfile has, the call function variables need to be changed in the cell below (see comment)#####\n",
    "Mfile_name = # the Mfile with all the data\n",
    "Mfile_true = # the Mfile with the true concentrations\n",
    "\n",
    "##### Reference filenames\n",
    "reference1_name = # name of reference 1 NPY file\n",
    "reference2_name = # name of reference 2 NPY file\n",
    "reference3_name = # name of reference 3 NPY file (optional, if needed by the cavity, e.g. NO3 uses NO3, NO2 and H2O)\n",
    "\n",
    "##### Cavity and spectra parameters\n",
    "lower_wavelength,upper_wavelength,distance=(445,459,70)\n",
    "Reff = 0.9994277 # a number if constant, np.load('Reff.npy') if a vector, this is our initial Reff guess\n",
    "#Reff = Reff.reshape(len(Reff),1) # uncomment this only if Reff is a vector\n",
    "dfactor = 1 #the dilution factor is always 1 at IASC\n",
    "start_avg = #from which background number to start averaging"
   ]
  },
  {
   "cell_type": "code",
   "execution_count": null,
   "id": "c6e772d5-f52d-4d15-8190-427ec30346bf",
   "metadata": {},
   "outputs": [],
   "source": [
    "##### File loading\n",
    "samples = np.load(sample_matrix)\n",
    "background = np.loadtxt(background_txt)\n",
    "dateM,ppb1M,ppb2M,intM = cf.Mfile_read(Mfile_name) #change number of variables as needed\n",
    "dateMT,ppb1MT,ppb2MT,intMT = cf.Mfile_read(Mfile_true) #change number of variables as needed\n",
    "reference1=np.load(reference1_name)\n",
    "reference2=np.load(reference2_name)\n",
    "#reference3=np.load(reference3_name) #uncomment if needed\n"
   ]
  },
  {
   "cell_type": "code",
   "execution_count": null,
   "id": "87494603-9005-49a2-bfa8-7b63969eab47",
   "metadata": {},
   "outputs": [],
   "source": [
    "##### Cutting sprectra, defining I_sample and I_0\n",
    "minwave,maxwave=cf.segment_indices(sample,lower_wavelength,upper_wavelength)\n",
    "sample=np.copy(samples[minwave:maxwave,:])\n",
    "bckg=np.copy(background[minwave:maxwave,:])\n",
    "ref1=np.copy(reference1[minwave:maxwave,:])\n",
    "ref2=np.copy(reference2[minwave:maxwave,:])\n",
    "#ref3=np.copy(reference3[minwave:maxwave,:]) #uncomment if needed\n",
    "I_0 = np.average(bckg[:,start_avg:],axis=1).reshape(len(bckg),1)"
   ]
  },
  {
   "cell_type": "code",
   "execution_count": null,
   "id": "cb4429a0-0f0f-427a-aaaa-d7bcf7fc409c",
   "metadata": {},
   "outputs": [],
   "source": [
    "##### Recalculate Reff"
   ]
  },
  {
   "cell_type": "code",
   "execution_count": null,
   "id": "84f690bb-972b-4aac-af06-1b6a6a6132d0",
   "metadata": {},
   "outputs": [],
   "source": [
    "f= plt.figure(figsize=(6,6))\n",
    "ax1 = f.add_subplot(111)\n",
    "startn= #measurement to start\n",
    "itns= #number of measurements to observe\n",
    "ref1=ref1.reshape(len(ref1),1)\n",
    "ref2=ref2.reshape(len(ref2),1)\n",
    "#ref3=ref3.reshape(len(ref3),1)\n",
    "filters = np.arange(len(I_0))\n",
    "for i in range(itns):\n",
    "    I_sample = sample[startn+i].reshape(len(sample),1)\n",
    "\n",
    "    a = (1/distance)*((I_0/I_sample)-1)\n",
    "    #print(a.shape)\n",
    "    # change the number of references as needed\n",
    "    Reff_curve = 1-((ref1[:,1]*ppb1MT[startn+i-1]*2.5e10+ref2[:,1]*ppb2MT[startn+i-1]*2.5e10+ref3[:,1]*ppb3MT[startn+i-1]*2.5e10)/a[:,0])\n",
    "    #print(Reff_curve.shape)\n",
    "    \n",
    "    filters = np.column_stack((filters,savgol_filter(Reff_curve,100,2)))\n",
    "    \n",
    "    ax1.plot(no2ref[:,0],Reff_curve,'-k')\n",
    "    ax1.plot(no2ref[:,0],savgol_filter(Reff_curve,100,2),'-r')\n",
    "\n",
    "ax1.plot(no2ref[:,0],np.average(filters[:,1:],axis=1),'-c')\n"
   ]
  },
  {
   "cell_type": "code",
   "execution_count": null,
   "id": "88b94e64-1fbe-49c0-ba8d-8fa4c915de7c",
   "metadata": {},
   "outputs": [],
   "source": [
    "#save new Reff file\n",
    "#np.save('Reff.npy',np.average(filters[:,1:],axis=1))"
   ]
  }
 ],
 "metadata": {
  "kernelspec": {
   "display_name": "Python 3 (ipykernel)",
   "language": "python",
   "name": "python3"
  },
  "language_info": {
   "codemirror_mode": {
    "name": "ipython",
    "version": 3
   },
   "file_extension": ".py",
   "mimetype": "text/x-python",
   "name": "python",
   "nbconvert_exporter": "python",
   "pygments_lexer": "ipython3",
   "version": "3.12.1"
  }
 },
 "nbformat": 4,
 "nbformat_minor": 5
}
