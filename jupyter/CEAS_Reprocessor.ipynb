{
 "cells": [
  {
   "cell_type": "code",
   "execution_count": null,
   "id": "10db0f85",
   "metadata": {},
   "outputs": [],
   "source": [
    "#### This jupyter notebook works a reprocessor for numpy (matrix of signals) or txt (single signal) scan files\n",
    "#### Use this to reprocess a signal with a different algorithm/configurations/reference/etc."
   ]
  },
  {
   "cell_type": "code",
   "execution_count": null,
   "id": "df46783e",
   "metadata": {},
   "outputs": [],
   "source": [
    "import numpy as np\n",
    "import datetime as dt\n",
    "import scipy.signal as scs\n",
    "import pandas as pd\n",
    "import matplotlib.pyplot as plt\n",
    "from matplotlib.dates import DateFormatter\n",
    "import sys\n",
    "sys.path.append('D:\\\\gitCCA\\\\CESdesign\\\\py')\n",
    "import CESfunctions_dev as cf"
   ]
  },
  {
   "cell_type": "code",
   "execution_count": null,
   "id": "6f1931a0",
   "metadata": {},
   "outputs": [],
   "source": [
    "def fit_algorithm(args):\n",
    "    \"\"\"Generic function that calls the desired fitting algorithm\"\"\"\n",
    "    #### Algorithm goes here\n",
    "    return "
   ]
  },
  {
   "cell_type": "code",
   "execution_count": null,
   "id": "ca9a31df",
   "metadata": {},
   "outputs": [],
   "source": [
    "#### Cavity and spectra parameters\n",
    "sample = np.load('Isamples2201251445.npy')\n",
    "background = np.loadtxt('Ib2201251150.txt')\n",
    "\n",
    "reference1=np.load(\"NO2_AvSC_corr.npy\")\n",
    "reference2=np.load(\"CHOCHO_AvSC_corr.npy\")\n",
    "\n",
    "lower_wavelength,upper_wavelength,distance,Reff=(445,459,.99945,70)\n",
    "\n",
    "Mfile_rep_name = \"Mdate_r.txt\""
   ]
  },
  {
   "cell_type": "code",
   "execution_count": null,
   "id": "6459fb42",
   "metadata": {},
   "outputs": [],
   "source": [
    "#### Cutting sprectra, defining I_sample and I_0\n",
    "minwave,maxwave=cf.segment_indices(sample,lower_wavelength,upper_wavelength)\n",
    "line=np.copy(sample[minwave:maxwave,:])\n",
    "bckg=np.copy(background[minwave:maxwave,:])\n",
    "ref1=np.copy(reference1[minwave:maxwave,:])\n",
    "ref2=np.copy(reference2[minwave:maxwave,:])\n",
    "I_0 = np.average(bckg[:,1:],axis=1).reshape(len(bckg),1)\n"
   ]
  },
  {
   "cell_type": "code",
   "execution_count": null,
   "id": "39241f34",
   "metadata": {},
   "outputs": [],
   "source": [
    "##### Tuples for the functions\n",
    "### recursive_fit : (I_sample,I_0,Reff,distance,reference,verbose=1,parameters=1)\n",
    "                    # will return alpha,fl,a,b,c\n",
    "                    # fits a + b*\\lambda + c*\\sigma\n",
    "### recursive_fit_2ref, fit_alg_1 : (I_sample,I_0,Reff,distance,reference,verbose=1,parameters=1)\n",
    "                    # will return alpha,fl,a,b,c,d\n",
    "                    # recursive_fit_2ref fits a + b*\\lambda + c*\\sigma + d*\\sigma\n",
    "                    # fit_alg_1 fits a + b*f(l) + c*\\sigma + d*\\sigma\n",
    "fit_algorithm_tuple=(I_0,line,Reff,distance,ref1,ref2,verbose=1,parameters=1)\n"
   ]
  },
  {
   "cell_type": "code",
   "execution_count": null,
   "id": "a5568112",
   "metadata": {},
   "outputs": [],
   "source": [
    "\n",
    "for i in range(1,len(line.T[:,0])):\n",
    "    \n"
   ]
  },
  {
   "cell_type": "code",
   "execution_count": null,
   "id": "dac7e2c9",
   "metadata": {},
   "outputs": [],
   "source": []
  }
 ],
 "metadata": {
  "kernelspec": {
   "display_name": "Python 3",
   "language": "python",
   "name": "python3"
  },
  "language_info": {
   "codemirror_mode": {
    "name": "ipython",
    "version": 3
   },
   "file_extension": ".py",
   "mimetype": "text/x-python",
   "name": "python",
   "nbconvert_exporter": "python",
   "pygments_lexer": "ipython3",
   "version": "3.8.10"
  }
 },
 "nbformat": 4,
 "nbformat_minor": 5
}
