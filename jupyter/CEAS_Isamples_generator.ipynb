{
 "cells": [
  {
   "cell_type": "code",
   "execution_count": null,
   "id": "e671150c",
   "metadata": {},
   "outputs": [],
   "source": [
    "##### This jupyter notebook makes an Isamples file with all the different files for individual sampling"
   ]
  },
  {
   "cell_type": "code",
   "execution_count": 1,
   "id": "dc5f5e5d",
   "metadata": {},
   "outputs": [],
   "source": [
    "import numpy as np\n",
    "import datetime as dt\n",
    "import scipy.signal as scs\n",
    "import pandas as pd\n",
    "import glob\n",
    "import matplotlib.pyplot as plt\n",
    "from matplotlib.dates import DateFormatter\n",
    "import sys\n",
    "sys.path.append('D:\\\\gitCCA\\\\CESdesign\\\\py')\n",
    "import CESfunctions_dev as cf"
   ]
  },
  {
   "cell_type": "code",
   "execution_count": null,
   "id": "298c4ea2",
   "metadata": {},
   "outputs": [],
   "source": [
    "##### To create a new Isamples without timestamping data we can use the following?\n"
   ]
  },
  {
   "cell_type": "code",
   "execution_count": null,
   "id": "2a565b77",
   "metadata": {},
   "outputs": [],
   "source": [
    "filelist = glob.glob(\"D:\\\\CCA\\\\ICACC-BBCEAS\\\\data1\\\\\")\n",
    "cf.Isamples_builder(filelist)"
   ]
  },
  {
   "cell_type": "code",
   "execution_count": 9,
   "id": "8585151e",
   "metadata": {},
   "outputs": [
    {
     "name": "stdout",
     "output_type": "stream",
     "text": [
      "Filelist size:  17013 Isamples shape:  (3648, 17014)\n"
     ]
    }
   ],
   "source": [
    "##### To make a timestamp we need a bit more steps\n",
    "filelist = glob.glob(\"D:\\\\CCA\\\\ICACC-BBCEAS\\\\data1\\\\Is*.txt\")\n",
    "cf.Isamples_builder(filelist)\n",
    "timestamps = []\n",
    "for ele in filelist:\n",
    "    timestamps.append(dt.datetime.strptime(ele[-16:-4], \"%y%m%d%H%M%S\").strftime(\"%Y/%m/%d-%H:%M:%S\"))\n",
    "tstamps = np.asarray(timestamps)\n",
    "np.save(\"timestamps\",tstamps)"
   ]
  },
  {
   "cell_type": "code",
   "execution_count": 4,
   "id": "6fa3c6f5",
   "metadata": {},
   "outputs": [],
   "source": [
    "times=np.load(\"timestamps.npy\")"
   ]
  },
  {
   "cell_type": "code",
   "execution_count": 5,
   "id": "8a1ced40",
   "metadata": {},
   "outputs": [
    {
     "data": {
      "text/plain": [
       "array(['2201/02/05-11:51:43', '2201/02/05-11:52:04',\n",
       "       '2201/02/05-11:52:25', ..., '2203/01/07-13:11:23',\n",
       "       '2203/01/07-13:11:44', '2203/01/07-13:12:05'], dtype='<U19')"
      ]
     },
     "execution_count": 5,
     "metadata": {},
     "output_type": "execute_result"
    }
   ],
   "source": []
  },
  {
   "cell_type": "code",
   "execution_count": 7,
   "id": "b95c007e",
   "metadata": {},
   "outputs": [
    {
     "data": {
      "text/plain": [
       "(17013,)"
      ]
     },
     "execution_count": 7,
     "metadata": {},
     "output_type": "execute_result"
    }
   ],
   "source": [
    "times.shape"
   ]
  },
  {
   "cell_type": "code",
   "execution_count": null,
   "id": "9ff55346",
   "metadata": {},
   "outputs": [],
   "source": []
  },
  {
   "cell_type": "code",
   "execution_count": null,
   "id": "530c9e61",
   "metadata": {},
   "outputs": [],
   "source": []
  },
  {
   "cell_type": "code",
   "execution_count": null,
   "id": "dd6e86ab",
   "metadata": {},
   "outputs": [],
   "source": []
  },
  {
   "cell_type": "code",
   "execution_count": 6,
   "id": "e231bf3a",
   "metadata": {},
   "outputs": [
    {
     "name": "stdout",
     "output_type": "stream",
     "text": [
      "220301123243\n",
      "2022/03/01-12:32:43\n"
     ]
    }
   ],
   "source": [
    "name=\"D:\\\\CCA\\\\ICACC-BBCEAS\\\\data1\\\\Is220301123243.txt\"\n",
    "print(name[-16:-4])\n",
    "print(dt.datetime.strptime(name[-16:-4], \"%y%m%d%H%M%S\").strftime(\"%Y/%m/%d-%H:%M:%S\"))"
   ]
  },
  {
   "cell_type": "code",
   "execution_count": null,
   "id": "c856264b",
   "metadata": {},
   "outputs": [],
   "source": []
  }
 ],
 "metadata": {
  "kernelspec": {
   "display_name": "Python 3",
   "language": "python",
   "name": "python3"
  },
  "language_info": {
   "codemirror_mode": {
    "name": "ipython",
    "version": 3
   },
   "file_extension": ".py",
   "mimetype": "text/x-python",
   "name": "python",
   "nbconvert_exporter": "python",
   "pygments_lexer": "ipython3",
   "version": "3.8.10"
  }
 },
 "nbformat": 4,
 "nbformat_minor": 5
}
