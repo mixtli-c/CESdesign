{
 "cells": [
  {
   "cell_type": "code",
   "execution_count": 1,
   "id": "d1612507",
   "metadata": {},
   "outputs": [],
   "source": [
    "import os\n",
    "import glob\n",
    "import datetime as dt\n",
    "import numpy as np"
   ]
  },
  {
   "cell_type": "code",
   "execution_count": 2,
   "id": "baaae291",
   "metadata": {},
   "outputs": [
    {
     "name": "stdout",
     "output_type": "stream",
     "text": [
      "created\n"
     ]
    }
   ],
   "source": [
    "parent = '.'\n",
    "directory = dt.datetime.now().strftime('%Y%m%d')\n",
    "path = os.path.join(parent, directory)\n",
    "\n",
    "try:\n",
    "    os.mkdir(path)\n",
    "    print(\"created\")\n",
    "except:\n",
    "    print(\"already exists\")"
   ]
  },
  {
   "cell_type": "code",
   "execution_count": 3,
   "id": "eef3a41b",
   "metadata": {},
   "outputs": [
    {
     "name": "stdout",
     "output_type": "stream",
     "text": [
      ".\\20220126\n"
     ]
    }
   ],
   "source": [
    "print(path)"
   ]
  },
  {
   "cell_type": "code",
   "execution_count": 32,
   "id": "73b6ce6d",
   "metadata": {},
   "outputs": [
    {
     "name": "stdout",
     "output_type": "stream",
     "text": [
      "(90,)\n"
     ]
    }
   ],
   "source": [
    "x=np.arange(90)\n",
    "print(x.shape)\n",
    "np.savetxt(path+'\\\\'+'measurement'+dt.datetime.now().strftime('%H%M%S')+\".out\",x)"
   ]
  },
  {
   "cell_type": "code",
   "execution_count": 4,
   "id": "9fc3eebb",
   "metadata": {},
   "outputs": [
    {
     "name": "stdout",
     "output_type": "stream",
     "text": [
      "['' '' '' '' '' '' '' '' '' '' '' '' '' '' '' '' '' '' '' '' '' '' '' ''\n",
      " '' '' '' '' '' '' '' '' '' '' '' '' '' '' '' '' '' '' '' '' '' '' '' ''\n",
      " '' '' '' '' '' '' '' '' '' '' '' '' '' '' '' '' '' '' '' '' '' '' '' ''\n",
      " '' '' '' '' '' '' '' '' '' '' '' '' '' '' '' '' '' '' '' '' '' '' '' ''\n",
      " '' '' '' '']\n",
      "['2022/01/26-18:13:24' '2022/01/26-18:13:24' '2022/01/26-18:13:24'\n",
      " '2022/01/26-18:13:24' '2022/01/26-18:13:24' '2022/01/26-18:13:24'\n",
      " '2022/01/26-18:13:24' '2022/01/26-18:13:24' '2022/01/26-18:13:24'\n",
      " '2022/01/26-18:13:24' '2022/01/26-18:13:24' '2022/01/26-18:13:24'\n",
      " '2022/01/26-18:13:24' '2022/01/26-18:13:24' '2022/01/26-18:13:24'\n",
      " '2022/01/26-18:13:24' '2022/01/26-18:13:24' '2022/01/26-18:13:24'\n",
      " '2022/01/26-18:13:24' '2022/01/26-18:13:24' '2022/01/26-18:13:24'\n",
      " '2022/01/26-18:13:24' '2022/01/26-18:13:24' '2022/01/26-18:13:24'\n",
      " '2022/01/26-18:13:24' '2022/01/26-18:13:24' '2022/01/26-18:13:24'\n",
      " '2022/01/26-18:13:24' '2022/01/26-18:13:24' '2022/01/26-18:13:24'\n",
      " '2022/01/26-18:13:24' '2022/01/26-18:13:24' '2022/01/26-18:13:24'\n",
      " '2022/01/26-18:13:24' '2022/01/26-18:13:24' '2022/01/26-18:13:24'\n",
      " '2022/01/26-18:13:24' '2022/01/26-18:13:24' '2022/01/26-18:13:24'\n",
      " '2022/01/26-18:13:24' '2022/01/26-18:13:24' '2022/01/26-18:13:24'\n",
      " '2022/01/26-18:13:24' '2022/01/26-18:13:24' '2022/01/26-18:13:24'\n",
      " '2022/01/26-18:13:24' '2022/01/26-18:13:24' '2022/01/26-18:13:24'\n",
      " '2022/01/26-18:13:24' '2022/01/26-18:13:24' '2022/01/26-18:13:24'\n",
      " '2022/01/26-18:13:24' '2022/01/26-18:13:24' '2022/01/26-18:13:24'\n",
      " '2022/01/26-18:13:24' '2022/01/26-18:13:24' '2022/01/26-18:13:24'\n",
      " '2022/01/26-18:13:24' '2022/01/26-18:13:24' '2022/01/26-18:13:24'\n",
      " '2022/01/26-18:13:24' '2022/01/26-18:13:24' '2022/01/26-18:13:24'\n",
      " '2022/01/26-18:13:24' '2022/01/26-18:13:24' '2022/01/26-18:13:24'\n",
      " '2022/01/26-18:13:24' '2022/01/26-18:13:24' '2022/01/26-18:13:24'\n",
      " '2022/01/26-18:13:24' '2022/01/26-18:13:24' '2022/01/26-18:13:24'\n",
      " '2022/01/26-18:13:24' '2022/01/26-18:13:24' '2022/01/26-18:13:24'\n",
      " '2022/01/26-18:13:24' '2022/01/26-18:13:24' '2022/01/26-18:13:24'\n",
      " '2022/01/26-18:13:24' '2022/01/26-18:13:24' '2022/01/26-18:13:24'\n",
      " '2022/01/26-18:13:24' '2022/01/26-18:13:24' '2022/01/26-18:13:24'\n",
      " '2022/01/26-18:13:24' '2022/01/26-18:13:24' '2022/01/26-18:13:24'\n",
      " '2022/01/26-18:13:24' '2022/01/26-18:13:24' '2022/01/26-18:13:24'\n",
      " '2022/01/26-18:13:24' '2022/01/26-18:13:24' '2022/01/26-18:13:24'\n",
      " '2022/01/26-18:13:24' '2022/01/26-18:13:24' '2022/01/26-18:13:24'\n",
      " '2022/01/26-18:13:24' '2022/01/26-18:13:24' '2022/01/26-18:13:24'\n",
      " '2022/01/26-18:13:24']\n"
     ]
    }
   ],
   "source": [
    "y=np.zeros(100,dtype='U19')\n",
    "\n",
    "print(y)\n",
    "\n",
    "y[:]=dt.datetime.now().strftime('%Y/%m/%d-%H:%M:%S')\n",
    "\n",
    "print(y)"
   ]
  },
  {
   "cell_type": "code",
   "execution_count": 58,
   "id": "4320af59",
   "metadata": {},
   "outputs": [],
   "source": [
    "np.savetxt(\"data.txt\",y,fmt='%19s')"
   ]
  },
  {
   "cell_type": "code",
   "execution_count": 5,
   "id": "a1c6171f",
   "metadata": {},
   "outputs": [
    {
     "name": "stdout",
     "output_type": "stream",
     "text": [
      "[0. 0. 0. 0. 0. 0. 0. 0. 0. 0. 0. 0. 0. 0. 0. 0. 0. 0. 0. 0. 0. 0. 0. 0.\n",
      " 0. 0. 0. 0. 0. 0. 0. 0. 0. 0. 0. 0. 0. 0. 0. 0. 0. 0. 0. 0. 0. 0. 0. 0.\n",
      " 0. 0. 0. 0. 0. 0. 0. 0. 0. 0. 0. 0. 0. 0. 0. 0. 0. 0. 0. 0. 0. 0. 0. 0.\n",
      " 0. 0. 0. 0. 0. 0. 0. 0. 0. 0. 0. 0. 0. 0. 0. 0. 0. 0. 0. 0. 0. 0. 0. 0.\n",
      " 0. 0. 0. 0.]\n",
      "[30.11232  0.       0.       0.       0.       0.       0.       0.\n",
      "  0.       0.       0.       0.       0.       0.       0.       0.\n",
      "  0.       0.       0.       0.       0.       0.       0.       0.\n",
      "  0.       0.       0.       0.       0.       0.       0.       0.\n",
      "  0.       0.       0.       0.       0.       0.       0.       0.\n",
      "  0.       0.       0.       0.       0.       0.       0.       0.\n",
      "  0.       0.       0.       0.       0.       0.       0.       0.\n",
      "  0.       0.       0.       0.       0.       0.       0.       0.\n",
      "  0.       0.       0.       0.       0.       0.       0.       0.\n",
      "  0.       0.       0.       0.       0.       0.       0.       0.\n",
      "  0.       0.       0.       0.       0.       0.       0.       0.\n",
      "  0.       0.       0.       0.       0.       0.       0.       0.\n",
      "  0.       0.       0.       0.     ]\n"
     ]
    }
   ],
   "source": [
    "w = np.zeros(100)\n",
    "\n",
    "print(w)\n",
    "\n",
    "w[0]=30.11232\n",
    "\n",
    "print(w)"
   ]
  },
  {
   "cell_type": "code",
   "execution_count": null,
   "id": "09828162",
   "metadata": {},
   "outputs": [],
   "source": [
    "w = np.zeros(100)\n"
   ]
  },
  {
   "cell_type": "code",
   "execution_count": 94,
   "id": "7000eef1",
   "metadata": {},
   "outputs": [],
   "source": [
    "np.savetxt(\"data2.txt\",np.column_stack((y[:1],w[:1],)),fmt='%s')"
   ]
  },
  {
   "cell_type": "code",
   "execution_count": 78,
   "id": "513444ea",
   "metadata": {},
   "outputs": [],
   "source": [
    "a = b = c = np.arange(0.0,5.0,1.0).reshape(len(a),1)\n",
    "np.savetxt('test.txt', np.column_stack((a,b,c)))   # x,y,z equal sized 1D arrays"
   ]
  },
  {
   "cell_type": "code",
   "execution_count": 95,
   "id": "ce3b0fe1",
   "metadata": {},
   "outputs": [
    {
     "name": "stdout",
     "output_type": "stream",
     "text": [
      "[[ 0  1  2  3  4  5]\n",
      " [ 6  7  8  9 10 11]\n",
      " [12 13 14 15 16 17]]\n"
     ]
    }
   ],
   "source": [
    "ff = np.arange(18).reshape(3,6)\n",
    "print(ff)"
   ]
  },
  {
   "cell_type": "code",
   "execution_count": 98,
   "id": "e35a9d1d",
   "metadata": {},
   "outputs": [
    {
     "name": "stdout",
     "output_type": "stream",
     "text": [
      "[[ 1  5]\n",
      " [ 7 11]\n",
      " [13 17]]\n"
     ]
    }
   ],
   "source": [
    "print(ff[:,[1,5]])"
   ]
  },
  {
   "cell_type": "code",
   "execution_count": 99,
   "id": "c5932ebc",
   "metadata": {},
   "outputs": [
    {
     "data": {
      "text/plain": [
       "(100, 2)"
      ]
     },
     "execution_count": 99,
     "metadata": {},
     "output_type": "execute_result"
    }
   ],
   "source": [
    "np.column_stack((y,w)).shape"
   ]
  },
  {
   "cell_type": "code",
   "execution_count": 100,
   "id": "51ccbf3e",
   "metadata": {},
   "outputs": [],
   "source": [
    "np.savetxt(\"data3.txt\",ff[:,[1,5]],fmt='%s')"
   ]
  },
  {
   "cell_type": "code",
   "execution_count": 102,
   "id": "ea4b6262",
   "metadata": {},
   "outputs": [
    {
     "data": {
      "text/plain": [
       "(100,)"
      ]
     },
     "execution_count": 102,
     "metadata": {},
     "output_type": "execute_result"
    }
   ],
   "source": [
    "w[:101].shape"
   ]
  },
  {
   "cell_type": "code",
   "execution_count": 104,
   "id": "39c0ea98",
   "metadata": {},
   "outputs": [
    {
     "name": "stdout",
     "output_type": "stream",
     "text": [
      "[datetime.datetime(2022, 1, 23, 18, 8, 0, 822025)]\n",
      "[datetime.datetime(2022, 1, 23, 18, 8, 0, 822025), datetime.datetime(2022, 1, 23, 18, 8, 0, 822025)]\n",
      "[datetime.datetime(2022, 1, 23, 18, 8, 0, 822025), datetime.datetime(2022, 1, 23, 18, 8, 0, 822025), datetime.datetime(2022, 1, 23, 18, 8, 0, 822025)]\n",
      "[datetime.datetime(2022, 1, 23, 18, 8, 0, 822025), datetime.datetime(2022, 1, 23, 18, 8, 0, 822025), datetime.datetime(2022, 1, 23, 18, 8, 0, 822025), datetime.datetime(2022, 1, 23, 18, 8, 0, 822025)]\n",
      "[datetime.datetime(2022, 1, 23, 18, 8, 0, 822025), datetime.datetime(2022, 1, 23, 18, 8, 0, 822025), datetime.datetime(2022, 1, 23, 18, 8, 0, 822025), datetime.datetime(2022, 1, 23, 18, 8, 0, 822025), datetime.datetime(2022, 1, 23, 18, 8, 0, 822025)]\n",
      "[datetime.datetime(2022, 1, 23, 18, 8, 0, 822025), datetime.datetime(2022, 1, 23, 18, 8, 0, 822025), datetime.datetime(2022, 1, 23, 18, 8, 0, 822025), datetime.datetime(2022, 1, 23, 18, 8, 0, 822025), datetime.datetime(2022, 1, 23, 18, 8, 0, 822025), datetime.datetime(2022, 1, 23, 18, 8, 0, 822025)]\n",
      "[datetime.datetime(2022, 1, 23, 18, 8, 0, 822025), datetime.datetime(2022, 1, 23, 18, 8, 0, 822025), datetime.datetime(2022, 1, 23, 18, 8, 0, 822025), datetime.datetime(2022, 1, 23, 18, 8, 0, 822025), datetime.datetime(2022, 1, 23, 18, 8, 0, 822025), datetime.datetime(2022, 1, 23, 18, 8, 0, 822025), datetime.datetime(2022, 1, 23, 18, 8, 0, 822025)]\n",
      "[datetime.datetime(2022, 1, 23, 18, 8, 0, 822025), datetime.datetime(2022, 1, 23, 18, 8, 0, 822025), datetime.datetime(2022, 1, 23, 18, 8, 0, 822025), datetime.datetime(2022, 1, 23, 18, 8, 0, 822025), datetime.datetime(2022, 1, 23, 18, 8, 0, 822025), datetime.datetime(2022, 1, 23, 18, 8, 0, 822025), datetime.datetime(2022, 1, 23, 18, 8, 0, 822025), datetime.datetime(2022, 1, 23, 18, 8, 0, 822025)]\n",
      "[datetime.datetime(2022, 1, 23, 18, 8, 0, 822025), datetime.datetime(2022, 1, 23, 18, 8, 0, 822025), datetime.datetime(2022, 1, 23, 18, 8, 0, 822025), datetime.datetime(2022, 1, 23, 18, 8, 0, 822025), datetime.datetime(2022, 1, 23, 18, 8, 0, 822025), datetime.datetime(2022, 1, 23, 18, 8, 0, 822025), datetime.datetime(2022, 1, 23, 18, 8, 0, 822025), datetime.datetime(2022, 1, 23, 18, 8, 0, 822025), datetime.datetime(2022, 1, 23, 18, 8, 0, 822025)]\n",
      "[datetime.datetime(2022, 1, 23, 18, 8, 0, 822025), datetime.datetime(2022, 1, 23, 18, 8, 0, 822025), datetime.datetime(2022, 1, 23, 18, 8, 0, 822025), datetime.datetime(2022, 1, 23, 18, 8, 0, 822025), datetime.datetime(2022, 1, 23, 18, 8, 0, 822025), datetime.datetime(2022, 1, 23, 18, 8, 0, 822025), datetime.datetime(2022, 1, 23, 18, 8, 0, 822025), datetime.datetime(2022, 1, 23, 18, 8, 0, 822025), datetime.datetime(2022, 1, 23, 18, 8, 0, 822025), datetime.datetime(2022, 1, 23, 18, 8, 0, 822025)]\n",
      "[datetime.datetime(2022, 1, 23, 18, 8, 0, 822025), datetime.datetime(2022, 1, 23, 18, 8, 0, 822025), datetime.datetime(2022, 1, 23, 18, 8, 0, 822025), datetime.datetime(2022, 1, 23, 18, 8, 0, 822025), datetime.datetime(2022, 1, 23, 18, 8, 0, 822025), datetime.datetime(2022, 1, 23, 18, 8, 0, 822025), datetime.datetime(2022, 1, 23, 18, 8, 0, 822025), datetime.datetime(2022, 1, 23, 18, 8, 0, 822025), datetime.datetime(2022, 1, 23, 18, 8, 0, 822025), datetime.datetime(2022, 1, 23, 18, 8, 0, 822025), datetime.datetime(2022, 1, 23, 18, 8, 0, 822025)]\n",
      "[datetime.datetime(2022, 1, 23, 18, 8, 0, 822025), datetime.datetime(2022, 1, 23, 18, 8, 0, 822025), datetime.datetime(2022, 1, 23, 18, 8, 0, 822025), datetime.datetime(2022, 1, 23, 18, 8, 0, 822025), datetime.datetime(2022, 1, 23, 18, 8, 0, 822025), datetime.datetime(2022, 1, 23, 18, 8, 0, 822025), datetime.datetime(2022, 1, 23, 18, 8, 0, 822025), datetime.datetime(2022, 1, 23, 18, 8, 0, 822025), datetime.datetime(2022, 1, 23, 18, 8, 0, 822025), datetime.datetime(2022, 1, 23, 18, 8, 0, 822025), datetime.datetime(2022, 1, 23, 18, 8, 0, 822025), datetime.datetime(2022, 1, 23, 18, 8, 0, 822025)]\n",
      "[datetime.datetime(2022, 1, 23, 18, 8, 0, 822025), datetime.datetime(2022, 1, 23, 18, 8, 0, 822025), datetime.datetime(2022, 1, 23, 18, 8, 0, 822025), datetime.datetime(2022, 1, 23, 18, 8, 0, 822025), datetime.datetime(2022, 1, 23, 18, 8, 0, 822025), datetime.datetime(2022, 1, 23, 18, 8, 0, 822025), datetime.datetime(2022, 1, 23, 18, 8, 0, 822025), datetime.datetime(2022, 1, 23, 18, 8, 0, 822025), datetime.datetime(2022, 1, 23, 18, 8, 0, 822025), datetime.datetime(2022, 1, 23, 18, 8, 0, 822025), datetime.datetime(2022, 1, 23, 18, 8, 0, 822025), datetime.datetime(2022, 1, 23, 18, 8, 0, 822025), datetime.datetime(2022, 1, 23, 18, 8, 0, 822025)]\n",
      "[datetime.datetime(2022, 1, 23, 18, 8, 0, 822025), datetime.datetime(2022, 1, 23, 18, 8, 0, 822025), datetime.datetime(2022, 1, 23, 18, 8, 0, 822025), datetime.datetime(2022, 1, 23, 18, 8, 0, 822025), datetime.datetime(2022, 1, 23, 18, 8, 0, 822025), datetime.datetime(2022, 1, 23, 18, 8, 0, 822025), datetime.datetime(2022, 1, 23, 18, 8, 0, 822025), datetime.datetime(2022, 1, 23, 18, 8, 0, 822025), datetime.datetime(2022, 1, 23, 18, 8, 0, 822025), datetime.datetime(2022, 1, 23, 18, 8, 0, 822025), datetime.datetime(2022, 1, 23, 18, 8, 0, 822025), datetime.datetime(2022, 1, 23, 18, 8, 0, 822025), datetime.datetime(2022, 1, 23, 18, 8, 0, 822025), datetime.datetime(2022, 1, 23, 18, 8, 0, 822025)]\n",
      "[datetime.datetime(2022, 1, 23, 18, 8, 0, 822025), datetime.datetime(2022, 1, 23, 18, 8, 0, 822025), datetime.datetime(2022, 1, 23, 18, 8, 0, 822025), datetime.datetime(2022, 1, 23, 18, 8, 0, 822025), datetime.datetime(2022, 1, 23, 18, 8, 0, 822025), datetime.datetime(2022, 1, 23, 18, 8, 0, 822025), datetime.datetime(2022, 1, 23, 18, 8, 0, 822025), datetime.datetime(2022, 1, 23, 18, 8, 0, 822025), datetime.datetime(2022, 1, 23, 18, 8, 0, 822025), datetime.datetime(2022, 1, 23, 18, 8, 0, 822025), datetime.datetime(2022, 1, 23, 18, 8, 0, 822025), datetime.datetime(2022, 1, 23, 18, 8, 0, 822025), datetime.datetime(2022, 1, 23, 18, 8, 0, 822025), datetime.datetime(2022, 1, 23, 18, 8, 0, 822025), datetime.datetime(2022, 1, 23, 18, 8, 0, 822025)]\n",
      "[datetime.datetime(2022, 1, 23, 18, 8, 0, 822025), datetime.datetime(2022, 1, 23, 18, 8, 0, 822025), datetime.datetime(2022, 1, 23, 18, 8, 0, 822025), datetime.datetime(2022, 1, 23, 18, 8, 0, 822025), datetime.datetime(2022, 1, 23, 18, 8, 0, 822025), datetime.datetime(2022, 1, 23, 18, 8, 0, 822025), datetime.datetime(2022, 1, 23, 18, 8, 0, 822025), datetime.datetime(2022, 1, 23, 18, 8, 0, 822025), datetime.datetime(2022, 1, 23, 18, 8, 0, 822025), datetime.datetime(2022, 1, 23, 18, 8, 0, 822025), datetime.datetime(2022, 1, 23, 18, 8, 0, 822025), datetime.datetime(2022, 1, 23, 18, 8, 0, 822025), datetime.datetime(2022, 1, 23, 18, 8, 0, 822025), datetime.datetime(2022, 1, 23, 18, 8, 0, 822025), datetime.datetime(2022, 1, 23, 18, 8, 0, 822025), datetime.datetime(2022, 1, 23, 18, 8, 0, 822025)]\n",
      "[datetime.datetime(2022, 1, 23, 18, 8, 0, 822025), datetime.datetime(2022, 1, 23, 18, 8, 0, 822025), datetime.datetime(2022, 1, 23, 18, 8, 0, 822025), datetime.datetime(2022, 1, 23, 18, 8, 0, 822025), datetime.datetime(2022, 1, 23, 18, 8, 0, 822025), datetime.datetime(2022, 1, 23, 18, 8, 0, 822025), datetime.datetime(2022, 1, 23, 18, 8, 0, 822025), datetime.datetime(2022, 1, 23, 18, 8, 0, 822025), datetime.datetime(2022, 1, 23, 18, 8, 0, 822025), datetime.datetime(2022, 1, 23, 18, 8, 0, 822025), datetime.datetime(2022, 1, 23, 18, 8, 0, 822025), datetime.datetime(2022, 1, 23, 18, 8, 0, 822025), datetime.datetime(2022, 1, 23, 18, 8, 0, 822025), datetime.datetime(2022, 1, 23, 18, 8, 0, 822025), datetime.datetime(2022, 1, 23, 18, 8, 0, 822025), datetime.datetime(2022, 1, 23, 18, 8, 0, 822025), datetime.datetime(2022, 1, 23, 18, 8, 0, 822025)]\n",
      "[datetime.datetime(2022, 1, 23, 18, 8, 0, 822025), datetime.datetime(2022, 1, 23, 18, 8, 0, 822025), datetime.datetime(2022, 1, 23, 18, 8, 0, 822025), datetime.datetime(2022, 1, 23, 18, 8, 0, 822025), datetime.datetime(2022, 1, 23, 18, 8, 0, 822025), datetime.datetime(2022, 1, 23, 18, 8, 0, 822025), datetime.datetime(2022, 1, 23, 18, 8, 0, 822025), datetime.datetime(2022, 1, 23, 18, 8, 0, 822025), datetime.datetime(2022, 1, 23, 18, 8, 0, 822025), datetime.datetime(2022, 1, 23, 18, 8, 0, 822025), datetime.datetime(2022, 1, 23, 18, 8, 0, 822025), datetime.datetime(2022, 1, 23, 18, 8, 0, 822025), datetime.datetime(2022, 1, 23, 18, 8, 0, 822025), datetime.datetime(2022, 1, 23, 18, 8, 0, 822025), datetime.datetime(2022, 1, 23, 18, 8, 0, 822025), datetime.datetime(2022, 1, 23, 18, 8, 0, 822025), datetime.datetime(2022, 1, 23, 18, 8, 0, 822025), datetime.datetime(2022, 1, 23, 18, 8, 0, 823024)]\n",
      "[datetime.datetime(2022, 1, 23, 18, 8, 0, 822025), datetime.datetime(2022, 1, 23, 18, 8, 0, 822025), datetime.datetime(2022, 1, 23, 18, 8, 0, 822025), datetime.datetime(2022, 1, 23, 18, 8, 0, 822025), datetime.datetime(2022, 1, 23, 18, 8, 0, 822025), datetime.datetime(2022, 1, 23, 18, 8, 0, 822025), datetime.datetime(2022, 1, 23, 18, 8, 0, 822025), datetime.datetime(2022, 1, 23, 18, 8, 0, 822025), datetime.datetime(2022, 1, 23, 18, 8, 0, 822025), datetime.datetime(2022, 1, 23, 18, 8, 0, 822025), datetime.datetime(2022, 1, 23, 18, 8, 0, 822025), datetime.datetime(2022, 1, 23, 18, 8, 0, 822025), datetime.datetime(2022, 1, 23, 18, 8, 0, 822025), datetime.datetime(2022, 1, 23, 18, 8, 0, 822025), datetime.datetime(2022, 1, 23, 18, 8, 0, 822025), datetime.datetime(2022, 1, 23, 18, 8, 0, 822025), datetime.datetime(2022, 1, 23, 18, 8, 0, 822025), datetime.datetime(2022, 1, 23, 18, 8, 0, 823024), datetime.datetime(2022, 1, 23, 18, 8, 0, 823024)]\n",
      "[datetime.datetime(2022, 1, 23, 18, 8, 0, 822025), datetime.datetime(2022, 1, 23, 18, 8, 0, 822025), datetime.datetime(2022, 1, 23, 18, 8, 0, 822025), datetime.datetime(2022, 1, 23, 18, 8, 0, 822025), datetime.datetime(2022, 1, 23, 18, 8, 0, 822025), datetime.datetime(2022, 1, 23, 18, 8, 0, 822025), datetime.datetime(2022, 1, 23, 18, 8, 0, 822025), datetime.datetime(2022, 1, 23, 18, 8, 0, 822025), datetime.datetime(2022, 1, 23, 18, 8, 0, 822025), datetime.datetime(2022, 1, 23, 18, 8, 0, 822025), datetime.datetime(2022, 1, 23, 18, 8, 0, 822025), datetime.datetime(2022, 1, 23, 18, 8, 0, 822025), datetime.datetime(2022, 1, 23, 18, 8, 0, 822025), datetime.datetime(2022, 1, 23, 18, 8, 0, 822025), datetime.datetime(2022, 1, 23, 18, 8, 0, 822025), datetime.datetime(2022, 1, 23, 18, 8, 0, 822025), datetime.datetime(2022, 1, 23, 18, 8, 0, 822025), datetime.datetime(2022, 1, 23, 18, 8, 0, 823024), datetime.datetime(2022, 1, 23, 18, 8, 0, 823024), datetime.datetime(2022, 1, 23, 18, 8, 0, 823024)]\n",
      "[datetime.datetime(2022, 1, 23, 18, 8, 0, 822025), datetime.datetime(2022, 1, 23, 18, 8, 0, 822025), datetime.datetime(2022, 1, 23, 18, 8, 0, 822025), datetime.datetime(2022, 1, 23, 18, 8, 0, 822025), datetime.datetime(2022, 1, 23, 18, 8, 0, 822025), datetime.datetime(2022, 1, 23, 18, 8, 0, 822025), datetime.datetime(2022, 1, 23, 18, 8, 0, 822025), datetime.datetime(2022, 1, 23, 18, 8, 0, 822025), datetime.datetime(2022, 1, 23, 18, 8, 0, 822025), datetime.datetime(2022, 1, 23, 18, 8, 0, 822025), datetime.datetime(2022, 1, 23, 18, 8, 0, 822025), datetime.datetime(2022, 1, 23, 18, 8, 0, 822025), datetime.datetime(2022, 1, 23, 18, 8, 0, 822025), datetime.datetime(2022, 1, 23, 18, 8, 0, 822025), datetime.datetime(2022, 1, 23, 18, 8, 0, 822025), datetime.datetime(2022, 1, 23, 18, 8, 0, 822025), datetime.datetime(2022, 1, 23, 18, 8, 0, 822025), datetime.datetime(2022, 1, 23, 18, 8, 0, 823024), datetime.datetime(2022, 1, 23, 18, 8, 0, 823024), datetime.datetime(2022, 1, 23, 18, 8, 0, 823024), datetime.datetime(2022, 1, 23, 18, 8, 0, 823024)]\n",
      "[datetime.datetime(2022, 1, 23, 18, 8, 0, 822025), datetime.datetime(2022, 1, 23, 18, 8, 0, 822025), datetime.datetime(2022, 1, 23, 18, 8, 0, 822025), datetime.datetime(2022, 1, 23, 18, 8, 0, 822025), datetime.datetime(2022, 1, 23, 18, 8, 0, 822025), datetime.datetime(2022, 1, 23, 18, 8, 0, 822025), datetime.datetime(2022, 1, 23, 18, 8, 0, 822025), datetime.datetime(2022, 1, 23, 18, 8, 0, 822025), datetime.datetime(2022, 1, 23, 18, 8, 0, 822025), datetime.datetime(2022, 1, 23, 18, 8, 0, 822025), datetime.datetime(2022, 1, 23, 18, 8, 0, 822025), datetime.datetime(2022, 1, 23, 18, 8, 0, 822025), datetime.datetime(2022, 1, 23, 18, 8, 0, 822025), datetime.datetime(2022, 1, 23, 18, 8, 0, 822025), datetime.datetime(2022, 1, 23, 18, 8, 0, 822025), datetime.datetime(2022, 1, 23, 18, 8, 0, 822025), datetime.datetime(2022, 1, 23, 18, 8, 0, 822025), datetime.datetime(2022, 1, 23, 18, 8, 0, 823024), datetime.datetime(2022, 1, 23, 18, 8, 0, 823024), datetime.datetime(2022, 1, 23, 18, 8, 0, 823024), datetime.datetime(2022, 1, 23, 18, 8, 0, 823024), datetime.datetime(2022, 1, 23, 18, 8, 0, 823024)]\n",
      "[datetime.datetime(2022, 1, 23, 18, 8, 0, 822025), datetime.datetime(2022, 1, 23, 18, 8, 0, 822025), datetime.datetime(2022, 1, 23, 18, 8, 0, 822025), datetime.datetime(2022, 1, 23, 18, 8, 0, 822025), datetime.datetime(2022, 1, 23, 18, 8, 0, 822025), datetime.datetime(2022, 1, 23, 18, 8, 0, 822025), datetime.datetime(2022, 1, 23, 18, 8, 0, 822025), datetime.datetime(2022, 1, 23, 18, 8, 0, 822025), datetime.datetime(2022, 1, 23, 18, 8, 0, 822025), datetime.datetime(2022, 1, 23, 18, 8, 0, 822025), datetime.datetime(2022, 1, 23, 18, 8, 0, 822025), datetime.datetime(2022, 1, 23, 18, 8, 0, 822025), datetime.datetime(2022, 1, 23, 18, 8, 0, 822025), datetime.datetime(2022, 1, 23, 18, 8, 0, 822025), datetime.datetime(2022, 1, 23, 18, 8, 0, 822025), datetime.datetime(2022, 1, 23, 18, 8, 0, 822025), datetime.datetime(2022, 1, 23, 18, 8, 0, 822025), datetime.datetime(2022, 1, 23, 18, 8, 0, 823024), datetime.datetime(2022, 1, 23, 18, 8, 0, 823024), datetime.datetime(2022, 1, 23, 18, 8, 0, 823024), datetime.datetime(2022, 1, 23, 18, 8, 0, 823024), datetime.datetime(2022, 1, 23, 18, 8, 0, 823024), datetime.datetime(2022, 1, 23, 18, 8, 0, 823024)]\n",
      "[datetime.datetime(2022, 1, 23, 18, 8, 0, 822025), datetime.datetime(2022, 1, 23, 18, 8, 0, 822025), datetime.datetime(2022, 1, 23, 18, 8, 0, 822025), datetime.datetime(2022, 1, 23, 18, 8, 0, 822025), datetime.datetime(2022, 1, 23, 18, 8, 0, 822025), datetime.datetime(2022, 1, 23, 18, 8, 0, 822025), datetime.datetime(2022, 1, 23, 18, 8, 0, 822025), datetime.datetime(2022, 1, 23, 18, 8, 0, 822025), datetime.datetime(2022, 1, 23, 18, 8, 0, 822025), datetime.datetime(2022, 1, 23, 18, 8, 0, 822025), datetime.datetime(2022, 1, 23, 18, 8, 0, 822025), datetime.datetime(2022, 1, 23, 18, 8, 0, 822025), datetime.datetime(2022, 1, 23, 18, 8, 0, 822025), datetime.datetime(2022, 1, 23, 18, 8, 0, 822025), datetime.datetime(2022, 1, 23, 18, 8, 0, 822025), datetime.datetime(2022, 1, 23, 18, 8, 0, 822025), datetime.datetime(2022, 1, 23, 18, 8, 0, 822025), datetime.datetime(2022, 1, 23, 18, 8, 0, 823024), datetime.datetime(2022, 1, 23, 18, 8, 0, 823024), datetime.datetime(2022, 1, 23, 18, 8, 0, 823024), datetime.datetime(2022, 1, 23, 18, 8, 0, 823024), datetime.datetime(2022, 1, 23, 18, 8, 0, 823024), datetime.datetime(2022, 1, 23, 18, 8, 0, 823024), datetime.datetime(2022, 1, 23, 18, 8, 0, 823024)]\n",
      "[datetime.datetime(2022, 1, 23, 18, 8, 0, 822025), datetime.datetime(2022, 1, 23, 18, 8, 0, 822025), datetime.datetime(2022, 1, 23, 18, 8, 0, 822025), datetime.datetime(2022, 1, 23, 18, 8, 0, 822025), datetime.datetime(2022, 1, 23, 18, 8, 0, 822025), datetime.datetime(2022, 1, 23, 18, 8, 0, 822025), datetime.datetime(2022, 1, 23, 18, 8, 0, 822025), datetime.datetime(2022, 1, 23, 18, 8, 0, 822025), datetime.datetime(2022, 1, 23, 18, 8, 0, 822025), datetime.datetime(2022, 1, 23, 18, 8, 0, 822025), datetime.datetime(2022, 1, 23, 18, 8, 0, 822025), datetime.datetime(2022, 1, 23, 18, 8, 0, 822025), datetime.datetime(2022, 1, 23, 18, 8, 0, 822025), datetime.datetime(2022, 1, 23, 18, 8, 0, 822025), datetime.datetime(2022, 1, 23, 18, 8, 0, 822025), datetime.datetime(2022, 1, 23, 18, 8, 0, 822025), datetime.datetime(2022, 1, 23, 18, 8, 0, 822025), datetime.datetime(2022, 1, 23, 18, 8, 0, 823024), datetime.datetime(2022, 1, 23, 18, 8, 0, 823024), datetime.datetime(2022, 1, 23, 18, 8, 0, 823024), datetime.datetime(2022, 1, 23, 18, 8, 0, 823024), datetime.datetime(2022, 1, 23, 18, 8, 0, 823024), datetime.datetime(2022, 1, 23, 18, 8, 0, 823024), datetime.datetime(2022, 1, 23, 18, 8, 0, 823024), datetime.datetime(2022, 1, 23, 18, 8, 0, 823024)]\n",
      "[datetime.datetime(2022, 1, 23, 18, 8, 0, 822025), datetime.datetime(2022, 1, 23, 18, 8, 0, 822025), datetime.datetime(2022, 1, 23, 18, 8, 0, 822025), datetime.datetime(2022, 1, 23, 18, 8, 0, 822025), datetime.datetime(2022, 1, 23, 18, 8, 0, 822025), datetime.datetime(2022, 1, 23, 18, 8, 0, 822025), datetime.datetime(2022, 1, 23, 18, 8, 0, 822025), datetime.datetime(2022, 1, 23, 18, 8, 0, 822025), datetime.datetime(2022, 1, 23, 18, 8, 0, 822025), datetime.datetime(2022, 1, 23, 18, 8, 0, 822025), datetime.datetime(2022, 1, 23, 18, 8, 0, 822025), datetime.datetime(2022, 1, 23, 18, 8, 0, 822025), datetime.datetime(2022, 1, 23, 18, 8, 0, 822025), datetime.datetime(2022, 1, 23, 18, 8, 0, 822025), datetime.datetime(2022, 1, 23, 18, 8, 0, 822025), datetime.datetime(2022, 1, 23, 18, 8, 0, 822025), datetime.datetime(2022, 1, 23, 18, 8, 0, 822025), datetime.datetime(2022, 1, 23, 18, 8, 0, 823024), datetime.datetime(2022, 1, 23, 18, 8, 0, 823024), datetime.datetime(2022, 1, 23, 18, 8, 0, 823024), datetime.datetime(2022, 1, 23, 18, 8, 0, 823024), datetime.datetime(2022, 1, 23, 18, 8, 0, 823024), datetime.datetime(2022, 1, 23, 18, 8, 0, 823024), datetime.datetime(2022, 1, 23, 18, 8, 0, 823024), datetime.datetime(2022, 1, 23, 18, 8, 0, 823024), datetime.datetime(2022, 1, 23, 18, 8, 0, 823024)]\n",
      "[datetime.datetime(2022, 1, 23, 18, 8, 0, 822025), datetime.datetime(2022, 1, 23, 18, 8, 0, 822025), datetime.datetime(2022, 1, 23, 18, 8, 0, 822025), datetime.datetime(2022, 1, 23, 18, 8, 0, 822025), datetime.datetime(2022, 1, 23, 18, 8, 0, 822025), datetime.datetime(2022, 1, 23, 18, 8, 0, 822025), datetime.datetime(2022, 1, 23, 18, 8, 0, 822025), datetime.datetime(2022, 1, 23, 18, 8, 0, 822025), datetime.datetime(2022, 1, 23, 18, 8, 0, 822025), datetime.datetime(2022, 1, 23, 18, 8, 0, 822025), datetime.datetime(2022, 1, 23, 18, 8, 0, 822025), datetime.datetime(2022, 1, 23, 18, 8, 0, 822025), datetime.datetime(2022, 1, 23, 18, 8, 0, 822025), datetime.datetime(2022, 1, 23, 18, 8, 0, 822025), datetime.datetime(2022, 1, 23, 18, 8, 0, 822025), datetime.datetime(2022, 1, 23, 18, 8, 0, 822025), datetime.datetime(2022, 1, 23, 18, 8, 0, 822025), datetime.datetime(2022, 1, 23, 18, 8, 0, 823024), datetime.datetime(2022, 1, 23, 18, 8, 0, 823024), datetime.datetime(2022, 1, 23, 18, 8, 0, 823024), datetime.datetime(2022, 1, 23, 18, 8, 0, 823024), datetime.datetime(2022, 1, 23, 18, 8, 0, 823024), datetime.datetime(2022, 1, 23, 18, 8, 0, 823024), datetime.datetime(2022, 1, 23, 18, 8, 0, 823024), datetime.datetime(2022, 1, 23, 18, 8, 0, 823024), datetime.datetime(2022, 1, 23, 18, 8, 0, 823024), datetime.datetime(2022, 1, 23, 18, 8, 0, 823024)]\n",
      "[datetime.datetime(2022, 1, 23, 18, 8, 0, 822025), datetime.datetime(2022, 1, 23, 18, 8, 0, 822025), datetime.datetime(2022, 1, 23, 18, 8, 0, 822025), datetime.datetime(2022, 1, 23, 18, 8, 0, 822025), datetime.datetime(2022, 1, 23, 18, 8, 0, 822025), datetime.datetime(2022, 1, 23, 18, 8, 0, 822025), datetime.datetime(2022, 1, 23, 18, 8, 0, 822025), datetime.datetime(2022, 1, 23, 18, 8, 0, 822025), datetime.datetime(2022, 1, 23, 18, 8, 0, 822025), datetime.datetime(2022, 1, 23, 18, 8, 0, 822025), datetime.datetime(2022, 1, 23, 18, 8, 0, 822025), datetime.datetime(2022, 1, 23, 18, 8, 0, 822025), datetime.datetime(2022, 1, 23, 18, 8, 0, 822025), datetime.datetime(2022, 1, 23, 18, 8, 0, 822025), datetime.datetime(2022, 1, 23, 18, 8, 0, 822025), datetime.datetime(2022, 1, 23, 18, 8, 0, 822025), datetime.datetime(2022, 1, 23, 18, 8, 0, 822025), datetime.datetime(2022, 1, 23, 18, 8, 0, 823024), datetime.datetime(2022, 1, 23, 18, 8, 0, 823024), datetime.datetime(2022, 1, 23, 18, 8, 0, 823024), datetime.datetime(2022, 1, 23, 18, 8, 0, 823024), datetime.datetime(2022, 1, 23, 18, 8, 0, 823024), datetime.datetime(2022, 1, 23, 18, 8, 0, 823024), datetime.datetime(2022, 1, 23, 18, 8, 0, 823024), datetime.datetime(2022, 1, 23, 18, 8, 0, 823024), datetime.datetime(2022, 1, 23, 18, 8, 0, 823024), datetime.datetime(2022, 1, 23, 18, 8, 0, 823024), datetime.datetime(2022, 1, 23, 18, 8, 0, 823024)]\n",
      "[datetime.datetime(2022, 1, 23, 18, 8, 0, 822025), datetime.datetime(2022, 1, 23, 18, 8, 0, 822025), datetime.datetime(2022, 1, 23, 18, 8, 0, 822025), datetime.datetime(2022, 1, 23, 18, 8, 0, 822025), datetime.datetime(2022, 1, 23, 18, 8, 0, 822025), datetime.datetime(2022, 1, 23, 18, 8, 0, 822025), datetime.datetime(2022, 1, 23, 18, 8, 0, 822025), datetime.datetime(2022, 1, 23, 18, 8, 0, 822025), datetime.datetime(2022, 1, 23, 18, 8, 0, 822025), datetime.datetime(2022, 1, 23, 18, 8, 0, 822025), datetime.datetime(2022, 1, 23, 18, 8, 0, 822025), datetime.datetime(2022, 1, 23, 18, 8, 0, 822025), datetime.datetime(2022, 1, 23, 18, 8, 0, 822025), datetime.datetime(2022, 1, 23, 18, 8, 0, 822025), datetime.datetime(2022, 1, 23, 18, 8, 0, 822025), datetime.datetime(2022, 1, 23, 18, 8, 0, 822025), datetime.datetime(2022, 1, 23, 18, 8, 0, 822025), datetime.datetime(2022, 1, 23, 18, 8, 0, 823024), datetime.datetime(2022, 1, 23, 18, 8, 0, 823024), datetime.datetime(2022, 1, 23, 18, 8, 0, 823024), datetime.datetime(2022, 1, 23, 18, 8, 0, 823024), datetime.datetime(2022, 1, 23, 18, 8, 0, 823024), datetime.datetime(2022, 1, 23, 18, 8, 0, 823024), datetime.datetime(2022, 1, 23, 18, 8, 0, 823024), datetime.datetime(2022, 1, 23, 18, 8, 0, 823024), datetime.datetime(2022, 1, 23, 18, 8, 0, 823024), datetime.datetime(2022, 1, 23, 18, 8, 0, 823024), datetime.datetime(2022, 1, 23, 18, 8, 0, 823024), datetime.datetime(2022, 1, 23, 18, 8, 0, 823024)]\n",
      "[datetime.datetime(2022, 1, 23, 18, 8, 0, 822025), datetime.datetime(2022, 1, 23, 18, 8, 0, 822025), datetime.datetime(2022, 1, 23, 18, 8, 0, 822025), datetime.datetime(2022, 1, 23, 18, 8, 0, 822025), datetime.datetime(2022, 1, 23, 18, 8, 0, 822025), datetime.datetime(2022, 1, 23, 18, 8, 0, 822025), datetime.datetime(2022, 1, 23, 18, 8, 0, 822025), datetime.datetime(2022, 1, 23, 18, 8, 0, 822025), datetime.datetime(2022, 1, 23, 18, 8, 0, 822025), datetime.datetime(2022, 1, 23, 18, 8, 0, 822025), datetime.datetime(2022, 1, 23, 18, 8, 0, 822025), datetime.datetime(2022, 1, 23, 18, 8, 0, 822025), datetime.datetime(2022, 1, 23, 18, 8, 0, 822025), datetime.datetime(2022, 1, 23, 18, 8, 0, 822025), datetime.datetime(2022, 1, 23, 18, 8, 0, 822025), datetime.datetime(2022, 1, 23, 18, 8, 0, 822025), datetime.datetime(2022, 1, 23, 18, 8, 0, 822025), datetime.datetime(2022, 1, 23, 18, 8, 0, 823024), datetime.datetime(2022, 1, 23, 18, 8, 0, 823024), datetime.datetime(2022, 1, 23, 18, 8, 0, 823024), datetime.datetime(2022, 1, 23, 18, 8, 0, 823024), datetime.datetime(2022, 1, 23, 18, 8, 0, 823024), datetime.datetime(2022, 1, 23, 18, 8, 0, 823024), datetime.datetime(2022, 1, 23, 18, 8, 0, 823024), datetime.datetime(2022, 1, 23, 18, 8, 0, 823024), datetime.datetime(2022, 1, 23, 18, 8, 0, 823024), datetime.datetime(2022, 1, 23, 18, 8, 0, 823024), datetime.datetime(2022, 1, 23, 18, 8, 0, 823024), datetime.datetime(2022, 1, 23, 18, 8, 0, 823024), datetime.datetime(2022, 1, 23, 18, 8, 0, 823024)]\n"
     ]
    }
   ],
   "source": [
    "meastime = []\n",
    "\n",
    "for i in range(30):\n",
    "    meastime.append(dt.datetime.now())\n",
    "    print(meastime[:i+1])"
   ]
  },
  {
   "cell_type": "code",
   "execution_count": null,
   "id": "ab5bd01a",
   "metadata": {},
   "outputs": [],
   "source": []
  },
  {
   "cell_type": "code",
   "execution_count": null,
   "id": "e248ff3b",
   "metadata": {},
   "outputs": [],
   "source": []
  },
  {
   "cell_type": "code",
   "execution_count": 4,
   "id": "692f66b6",
   "metadata": {},
   "outputs": [],
   "source": [
    "import numpy as np\n",
    "import glob\n",
    "import scipy.signal as scs\n",
    "import datetime as dt\n",
    "import pandas as pd\n",
    "import matplotlib.pyplot as plt\n",
    "from matplotlib.dates import DateFormatter"
   ]
  },
  {
   "cell_type": "code",
   "execution_count": 5,
   "id": "88a878d3",
   "metadata": {},
   "outputs": [],
   "source": [
    "def RAMA_read(ramafilename):\n",
    "    \"\"\" This function takes a RAMA file and filters NO2 data, then corrects the timestamp\n",
    "    of that data, it sorts 24h as 0h of the same day, RAMA might be referring to the \n",
    "    next day, however, so this function might need some fixing later\n",
    "    Requires the filename\n",
    "    Returns two lists, one for the dates and one for the ppbs\"\"\"\n",
    "\n",
    "    df = pd.read_csv(ramafilename)\n",
    "    df2 = df[df.Parametro == \"NO2\"]\n",
    "    dates = []\n",
    "    \n",
    "    for ele in df2.Date:\n",
    "        try:\n",
    "            dates.append(dt.datetime.strptime(ele,'%Y-%m-%d %H:%M'))\n",
    "        except:\n",
    "            try:\n",
    "                ele2=ele.replace('24','00',1)\n",
    "                dates.append(dt.datetime.strptime(ele2,'%Y-%m-%d %H:%M')+dt.timedelta(days=1))\n",
    "            except: \n",
    "                ele2=ele.replace('24','00',2)\n",
    "                ele3=ele2.replace('00','24',1)\n",
    "                dates.append(dt.datetime.strptime(ele3, '%Y-%m-%d %H:%M')+dt.timedelta(days=1))\n",
    "\n",
    "    ppbs = []\n",
    "    for ele in df2.RawValue:\n",
    "        ppbs.append(ele)\n",
    "\n",
    "    return dates,ppbs"
   ]
  },
  {
   "cell_type": "code",
   "execution_count": 6,
   "id": "f6adbe12",
   "metadata": {},
   "outputs": [
    {
     "data": {
      "image/png": "[encoded data removed]",
      "text/plain": [
       "<Figure size 576x576 with 1 Axes>"
      ]
     },
     "metadata": {
      "needs_background": "light"
     },
     "output_type": "display_data"
    }
   ],
   "source": [
    "dateR,ppbR = RAMA_read('D:\\\\CCA\\\\Avantes\\\\BBCEAS_Data\\\\RAMA\\\\CCA_20220305_M.csv')\n",
    "f = plt.figure(figsize=(8,8))\n",
    "ax1 = f.add_subplot(111)\n",
    "ax1.plot(dateR,ppbR)\n",
    "ax1.xaxis.set_major_formatter(DateFormatter(\"%H:%M:%S\"))"
   ]
  },
  {
   "cell_type": "code",
   "execution_count": null,
   "id": "27c6938c",
   "metadata": {},
   "outputs": [],
   "source": []
  }
 ],
 "metadata": {
  "kernelspec": {
   "display_name": "Python 3",
   "language": "python",
   "name": "python3"
  },
  "language_info": {
   "codemirror_mode": {
    "name": "ipython",
    "version": 3
   },
   "file_extension": ".py",
   "mimetype": "text/x-python",
   "name": "python",
   "nbconvert_exporter": "python",
   "pygments_lexer": "ipython3",
   "version": "3.8.10"
  }
 },
 "nbformat": 4,
 "nbformat_minor": 5
}
