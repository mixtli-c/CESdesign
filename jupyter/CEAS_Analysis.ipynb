{
 "cells": [
  {
   "cell_type": "code",
   "execution_count": 1,
   "id": "58177246",
   "metadata": {},
   "outputs": [],
   "source": [
    "import numpy as np\n",
    "import pandas as pd\n",
    "import datetime as dt\n",
    "import matplotlib.pyplot as plt\n",
    "import glob\n",
    "import scipy.signal as scs\n",
    "import sys\n",
    "sys.path.append('d:\\\\gitCCA\\\\CESdesign\\\\py\\\\')\n",
    "import CESfunctions as cf"
   ]
  },
  {
   "cell_type": "code",
   "execution_count": null,
   "id": "05ea354c",
   "metadata": {},
   "outputs": [],
   "source": [
    "##### Spectra handling"
   ]
  },
  {
   "cell_type": "code",
   "execution_count": 2,
   "id": "d70bdb47",
   "metadata": {},
   "outputs": [],
   "source": [
    "## Load files into matrices\n",
    "logfolder1 = 'D:\\\\CCA\\\\Avantes\\\\logs10dic\\\\'\n",
    "#logfolder1 = '/home/mixtli/Avantes/logs30nov/'\n",
    "\n",
    "SCbg1a = cf.spectra_accumulator(logfolder1 + 'CEASbckg1aSC.npy',50)\n",
    "SCbg1 = cf.spectra_accumulator(logfolder1 + 'CEASbckg1SC.npy',50)\n",
    "SCbg2 = cf.spectra_accumulator(logfolder1 + 'CEASbckg2SC.npy',50)\n",
    "SCln1 = cf.spectra_accumulator(logfolder1 + 'CEASline1SC.npy',50)"
   ]
  },
  {
   "cell_type": "code",
   "execution_count": 3,
   "id": "78a28513",
   "metadata": {},
   "outputs": [],
   "source": [
    "#### Cavity and spectra parameters\n",
    "distance = 70\n",
    "\n",
    "lower_wavelength=445\n",
    "upper_wavelength=459\n",
    "\n",
    "sample = SCln1\n",
    "background = SCbg2\n",
    "\n",
    "reference1=np.load(\"NO2ref_AvSC_corr.npy\")"
   ]
  },
  {
   "cell_type": "code",
   "execution_count": 4,
   "id": "9286a4d7",
   "metadata": {},
   "outputs": [],
   "source": [
    "#### Getting or setting values for Reff\n",
    "Reff = 0.9994"
   ]
  },
  {
   "cell_type": "code",
   "execution_count": 5,
   "id": "2d722565",
   "metadata": {},
   "outputs": [],
   "source": [
    "#### Cutting sprectra, defining I_sample and I_0\n",
    "minwave,maxwave=cf.segment_indices(sample,lower_wavelength,upper_wavelength)\n",
    "line=np.copy(sample[minwave:maxwave,:])\n",
    "bckg=np.copy(background[minwave:maxwave,:])\n",
    "ref1=np.copy(reference1[minwave:maxwave,:])\n",
    "I_sample=np.average(line[:,1:],axis=1)\n",
    "I_0=np.average(bckg[:,1:],axis=1)"
   ]
  },
  {
   "cell_type": "code",
   "execution_count": 10,
   "id": "5ba3001e",
   "metadata": {},
   "outputs": [
    {
     "name": "stdout",
     "output_type": "stream",
     "text": [
      "Primer N:  930427847845.4691  Segundo N:  762532397812.8818\n",
      "762532397812.8818\n"
     ]
    }
   ],
   "source": [
    "### Recursive fit: Ext -> SVD -> f(l) -> Ext-f(l) -> SVD\n",
    "ndensity = cf.recursive_fit(I_sample,I_0,Reff,distance,ref1)"
   ]
  },
  {
   "cell_type": "code",
   "execution_count": null,
   "id": "38285f89",
   "metadata": {},
   "outputs": [],
   "source": [
    "f, ax1 = plt.subplots(figsize=(14,6))\n",
    "\n",
    "#ax1.plot(SCln1[:,0]*.95+22.95, alpha2,'-g',label=\"Ext\")\n",
    "ax1.plot(line[:,0]*.95+22.95, Reff,'-r',label=\"\")\n",
    "\n",
    "ax1.set_xlim(445,459)\n",
    "ax1.set_xticks(np.arange(445,460,1))\n",
    "ax1.set_ylim(.99994,1.00001)\n",
    "#ax1.set_xticks(np.arange(440,466,2))\n",
    "#ax1.set_xlabel('Wavelength',size=14)\n",
    "#ax1.set_ylabel('Extinction (cm$^{-1}$)',size=14)\n",
    "#ax1.set_title(\"CEAS: Extinction v. NO2 reference\",size=16)\n",
    "#ax1.legend(fontsize=12, loc='upper left')\n",
    "#ax1.tick_params(labelsize=12)\n",
    "#props = dict(boxstyle='round', facecolor='wheat', alpha=0.5)\n",
    "#ax1.text(0.05, 0.95, 'N=9E10 molecule*$cm^{-3}$ (~4ppb)\\n c=5.15E-7', transform=ax0.transAxes, fontsize=14,verticalalignment='top', bbox=props)\n",
    "#plt.savefig('BBCEASext_v_ref.png')"
   ]
  },
  {
   "cell_type": "code",
   "execution_count": null,
   "id": "f3a7bfc3",
   "metadata": {},
   "outputs": [],
   "source": [
    "f, ax1 = plt.subplots(figsize=(14,6))\n",
    "\n",
    "#ax1.plot(SCln1[:,0]*.95+22.95, alpha2,'-g',label=\"Ext\")\n",
    "ax1.plot(line[:,0]*.95+22.95, I_ratio,'-r',label=\"\")\n",
    "\n",
    "ax1.set_xlim(445,459)\n",
    "#ax1.set_xticks(np.arange(445,460,1))\n",
    "ax1.set_ylim(1.80,2)\n",
    "#ax1.set_xticks(np.arange(440,466,2))\n",
    "#ax1.set_xlabel('Wavelength',size=14)\n",
    "#ax1.set_ylabel('Extinction (cm$^{-1}$)',size=14)\n",
    "#ax1.set_title(\"CEAS: Extinction v. NO2 reference\",size=16)\n",
    "#ax1.legend(fontsize=12, loc='upper left')\n",
    "#ax1.tick_params(labelsize=12)\n",
    "#props = dict(boxstyle='round', facecolor='wheat', alpha=0.5)\n",
    "#ax1.text(0.05, 0.95, 'N=9E10 molecule*$cm^{-3}$ (~4ppb)\\n c=5.15E-7', transform=ax0.transAxes, fontsize=14,verticalalignment='top', bbox=props)\n",
    "#plt.savefig('BBCEASext_v_ref.png')"
   ]
  },
  {
   "cell_type": "code",
   "execution_count": 8,
   "id": "ed782be4",
   "metadata": {},
   "outputs": [
    {
     "ename": "NameError",
     "evalue": "name 'f_l_sg' is not defined",
     "output_type": "error",
     "traceback": [
      "\u001b[1;31m---------------------------------------------------------------------------\u001b[0m",
      "\u001b[1;31mNameError\u001b[0m                                 Traceback (most recent call last)",
      "\u001b[1;32m<ipython-input-8-f042378fe3f2>\u001b[0m in \u001b[0;36m<module>\u001b[1;34m\u001b[0m\n\u001b[0;32m      7\u001b[0m \u001b[0max1\u001b[0m\u001b[1;33m.\u001b[0m\u001b[0mplot\u001b[0m\u001b[1;33m(\u001b[0m\u001b[0mline\u001b[0m\u001b[1;33m[\u001b[0m\u001b[1;33m:\u001b[0m\u001b[1;33m,\u001b[0m\u001b[1;36m0\u001b[0m\u001b[1;33m]\u001b[0m\u001b[1;33m*\u001b[0m\u001b[1;36m.95\u001b[0m\u001b[1;33m+\u001b[0m\u001b[1;36m22.95\u001b[0m\u001b[1;33m,\u001b[0m \u001b[0mf_c\u001b[0m\u001b[1;33m,\u001b[0m\u001b[1;34m'-g'\u001b[0m\u001b[1;33m,\u001b[0m\u001b[0mlabel\u001b[0m\u001b[1;33m=\u001b[0m\u001b[1;34m\"\"\u001b[0m\u001b[1;33m)\u001b[0m\u001b[1;33m\u001b[0m\u001b[1;33m\u001b[0m\u001b[0m\n\u001b[0;32m      8\u001b[0m \u001b[0max1\u001b[0m\u001b[1;33m.\u001b[0m\u001b[0mplot\u001b[0m\u001b[1;33m(\u001b[0m\u001b[0mline\u001b[0m\u001b[1;33m[\u001b[0m\u001b[1;33m:\u001b[0m\u001b[1;33m,\u001b[0m\u001b[1;36m0\u001b[0m\u001b[1;33m]\u001b[0m\u001b[1;33m*\u001b[0m\u001b[1;36m.95\u001b[0m\u001b[1;33m+\u001b[0m\u001b[1;36m22.95\u001b[0m\u001b[1;33m,\u001b[0m \u001b[0mf_c_sg\u001b[0m\u001b[1;33m,\u001b[0m\u001b[1;34m'-r'\u001b[0m\u001b[1;33m,\u001b[0m\u001b[0mlabel\u001b[0m\u001b[1;33m=\u001b[0m\u001b[1;34m\"\"\u001b[0m\u001b[1;33m)\u001b[0m\u001b[1;33m\u001b[0m\u001b[1;33m\u001b[0m\u001b[0m\n\u001b[1;32m----> 9\u001b[1;33m \u001b[0max1\u001b[0m\u001b[1;33m.\u001b[0m\u001b[0mplot\u001b[0m\u001b[1;33m(\u001b[0m\u001b[0mline\u001b[0m\u001b[1;33m[\u001b[0m\u001b[1;33m:\u001b[0m\u001b[1;33m,\u001b[0m\u001b[1;36m0\u001b[0m\u001b[1;33m]\u001b[0m\u001b[1;33m*\u001b[0m\u001b[1;36m.95\u001b[0m\u001b[1;33m+\u001b[0m\u001b[1;36m22.95\u001b[0m\u001b[1;33m,\u001b[0m \u001b[0mf_l_sg\u001b[0m\u001b[1;33m/\u001b[0m\u001b[1;33m(\u001b[0m\u001b[1;36m1\u001b[0m\u001b[1;33m-\u001b[0m\u001b[1;36m0.9994\u001b[0m\u001b[1;33m)\u001b[0m\u001b[1;33m,\u001b[0m\u001b[1;34m'-b'\u001b[0m\u001b[1;33m,\u001b[0m\u001b[0mlabel\u001b[0m\u001b[1;33m=\u001b[0m\u001b[1;34m\"\"\u001b[0m\u001b[1;33m)\u001b[0m\u001b[1;33m\u001b[0m\u001b[1;33m\u001b[0m\u001b[0m\n\u001b[0m\u001b[0;32m     10\u001b[0m \u001b[1;31m#-NO2ref[:,1]*1.5e15\u001b[0m\u001b[1;33m\u001b[0m\u001b[1;33m\u001b[0m\u001b[1;33m\u001b[0m\u001b[0m\n\u001b[0;32m     11\u001b[0m \u001b[0max1\u001b[0m\u001b[1;33m.\u001b[0m\u001b[0mset_xlim\u001b[0m\u001b[1;33m(\u001b[0m\u001b[1;36m445\u001b[0m\u001b[1;33m,\u001b[0m\u001b[1;36m459\u001b[0m\u001b[1;33m)\u001b[0m\u001b[1;33m\u001b[0m\u001b[1;33m\u001b[0m\u001b[0m\n",
      "\u001b[1;31mNameError\u001b[0m: name 'f_l_sg' is not defined"
     ]
    },
    {
     "data": {
      "image/png": "[encoded data removed]",
      "text/plain": [
       "<Figure size 1008x432 with 1 Axes>"
      ]
     },
     "metadata": {
      "needs_background": "light"
     },
     "output_type": "display_data"
    }
   ],
   "source": [
    "I_ratio=I_0/I_sample\n",
    "f_c=(I_ratio-1)/70-(ref1[:,1]*(ndensity/(1-0.9994)))\n",
    "f_c_sg=scs.savgol_filter(f_c, 19, 3)\n",
    "\n",
    "f, ax1 = plt.subplots(figsize=(14,6))\n",
    "\n",
    "ax1.plot(line[:,0]*.95+22.95, f_c,'-g',label=\"\")\n",
    "ax1.plot(line[:,0]*.95+22.95, f_c_sg,'-r',label=\"\")\n",
    "ax1.plot(line[:,0]*.95+22.95, f_l_sg/(1-0.9994),'-b',label=\"\")\n",
    "#-NO2ref[:,1]*1.5e15\n",
    "ax1.set_xlim(445,459)\n",
    "#ax1.set_xticks(np.arange(445,460,1))\n",
    "#ax1.set_ylim(0.0115,0.0135)\n",
    "#ax1.set_xticks(np.arange(440,466,2))\n",
    "#ax1.set_xlabel('Wavelength',size=14)\n",
    "#ax1.set_ylabel('Extinction (cm$^{-1}$)',size=14)\n",
    "#ax1.set_title(\"CEAS: Extinction v. NO2 reference\",size=16)\n",
    "#ax1.legend(fontsize=12, loc='upper left')\n",
    "#ax1.tick_params(labelsize=12)\n",
    "#props = dict(boxstyle='round', facecolor='wheat', alpha=0.5)\n",
    "#ax1.text(0.05, 0.95, 'N=9E10 molecule*$cm^{-3}$ (~4ppb)\\n c=5.15E-7', transform=ax0.transAxes, fontsize=14,verticalalignment='top', bbox=props)\n",
    "#plt.savefig('BBCEASext_v_ref.png')"
   ]
  },
  {
   "cell_type": "code",
   "execution_count": null,
   "id": "3490715c",
   "metadata": {},
   "outputs": [],
   "source": [
    "f, ax1 = plt.subplots(figsize=(14,6))\n",
    "\n",
    "ax1.plot(bckg[:,0], bckg[:,1],'-b',label=\"\")\n",
    "ax1.plot(line[:,0], line[:,1],'-r',label=\"\")\n",
    "\n",
    "ax1.set_xlim(442,463)\n",
    "#ax1.set_xticks(np.arange(446,459,1))\n",
    "#ax1.set_ylim(0,2e5)\n",
    "#ax1.set_xticks(np.arange(440,466,2))\n",
    "#ax1.set_xlabel('Wavelength',size=14)\n",
    "#ax1.set_ylabel('Extinction (cm$^{-1}$)',size=14)\n",
    "#ax1.set_title(\"CEAS: Extinction v. NO2 reference\",size=16)\n",
    "#ax1.legend(fontsize=12, loc='upper left')\n",
    "#ax1.tick_params(labelsize=12)\n",
    "#props = dict(boxstyle='round', facecolor='wheat', alpha=0.5)\n",
    "#ax1.text(0.05, 0.95, 'N=9E10 molecule*$cm^{-3}$ (~4ppb)\\n c=5.15E-7', transform=ax0.transAxes, fontsize=14,verticalalignment='top', bbox=props)\n",
    "#plt.savefig('BBCEASext_v_ref.png')"
   ]
  },
  {
   "cell_type": "code",
   "execution_count": null,
   "id": "cb52186f",
   "metadata": {},
   "outputs": [],
   "source": [
    "f, ax1 = plt.subplots(figsize=(14,6))\n",
    "\n",
    "ax1.plot(no2refa[:,0],no2refa[:,1],'-b',label=\"\")\n",
    "ax1.plot(no2[:,0], no2[:,1],'-r',label=\"\")\n",
    "\n",
    "ax1.set_xlim(442,463)\n",
    "#ax1.set_xticks(np.arange(446,459,1))\n",
    "#ax1.set_ylim(0,2e5)\n",
    "#ax1.set_xticks(np.arange(440,466,2))\n",
    "#ax1.set_xlabel('Wavelength',size=14)\n",
    "#ax1.set_ylabel('Extinction (cm$^{-1}$)',size=14)\n",
    "#ax1.set_title(\"CEAS: Extinction v. NO2 reference\",size=16)\n",
    "#ax1.legend(fontsize=12, loc='upper left')\n",
    "#ax1.tick_params(labelsize=12)\n",
    "#props = dict(boxstyle='round', facecolor='wheat', alpha=0.5)\n",
    "#ax1.text(0.05, 0.95, 'N=9E10 molecule*$cm^{-3}$ (~4ppb)\\n c=5.15E-7', transform=ax0.transAxes, fontsize=14,verticalalignment='top', bbox=props)\n",
    "#plt.savefig('BBCEASext_v_ref.png')"
   ]
  },
  {
   "cell_type": "code",
   "execution_count": null,
   "id": "fb1c33eb",
   "metadata": {},
   "outputs": [],
   "source": [
    "f, ax1 = plt.subplots(figsize=(14,6))\n",
    "\n",
    "ax1.plot(line[:,0]*.95+22.95, alpha2,'-g',label=\"Ext\")\n",
    "ax1.plot(NO2ref[:,0], NO2ref[:,1]*7.5e11-.000000014*NO2ref[:,0]+6.275e-6,'-r',label=\"$\\sigma$ N+c\")\n",
    "\n",
    "ax1.set_xlim(445,459)\n",
    "ax1.set_xticks(np.arange(445,460,1))\n",
    "ax1.set_ylim(0e-7,1.0e-6)\n",
    "#ax1.set_xticks(np.arange(440,466,2))\n",
    "ax1.set_xlabel('Wavelength',size=14)\n",
    "ax1.set_ylabel('Extinction (cm$^{-1}$)',size=14)\n",
    "ax1.set_title(\"CEAS: Extinction v. NO2 reference\",size=16)\n",
    "ax1.legend(fontsize=12, loc='upper left')\n",
    "ax1.tick_params(labelsize=12)\n",
    "props = dict(boxstyle='round', facecolor='wheat', alpha=0.5)\n",
    "#ax1.text(0.05, 0.95, 'N=9E10 molecule*$cm^{-3}$ (~4ppb)\\n c=5.15E-7', transform=ax0.transAxes, fontsize=14,verticalalignment='top', bbox=props)\n",
    "#plt.savefig('BBCEASext_v_ref.png')"
   ]
  },
  {
   "cell_type": "code",
   "execution_count": null,
   "id": "eabe55ce",
   "metadata": {},
   "outputs": [],
   "source": [
    "I_ratio=I_0/I_sample\n",
    "f_c=(I_ratio-1)/70-(ref1[:,1]*(c/(1-0.9994)))\n",
    "f_c_sg=scs.savgol_filter(f_c, 19, 3)\n",
    "\n",
    "f, ax1 = plt.subplots(figsize=(14,6))\n",
    "\n",
    "ax1.plot(line[:,0]*.95+22.95, f_c,'-g',label=\"\")\n",
    "ax1.plot(line[:,0]*.95+22.95, f_c_sg,'-r',label=\"\")\n",
    "#-NO2ref[:,1]*1.5e15\n",
    "ax1.set_xlim(445,459)\n",
    "#ax1.set_xticks(np.arange(445,460,1))\n",
    "#ax1.set_ylim(0.0115,0.0135)\n",
    "#ax1.set_xticks(np.arange(440,466,2))\n",
    "#ax1.set_xlabel('Wavelength',size=14)\n",
    "#ax1.set_ylabel('Extinction (cm$^{-1}$)',size=14)\n",
    "#ax1.set_title(\"CEAS: Extinction v. NO2 reference\",size=16)\n",
    "#ax1.legend(fontsize=12, loc='upper left')\n",
    "#ax1.tick_params(labelsize=12)\n",
    "#props = dict(boxstyle='round', facecolor='wheat', alpha=0.5)\n",
    "#ax1.text(0.05, 0.95, 'N=9E10 molecule*$cm^{-3}$ (~4ppb)\\n c=5.15E-7', transform=ax0.transAxes, fontsize=14,verticalalignment='top', bbox=props)\n",
    "#plt.savefig('BBCEASext_v_ref.png')"
   ]
  },
  {
   "cell_type": "code",
   "execution_count": null,
   "id": "a5344dcb",
   "metadata": {},
   "outputs": [],
   "source": [
    "f, ax1 = plt.subplots(figsize=(14,6))\n",
    "\n",
    "ax1.plot(ref_NO2_static[:,0], ext_NO2,'-g',label=\"Ext\")\n",
    "ax1.plot(ref_NO2_static[:,0], x_hat_NO2[2,0]*ref_NO2[:,1]+x_hat_NO2[1,0]*ref_NO2[:,0]*x_hat_NO2[0,0]+7.8e-6,'-r',label=\"SVD iter #1\")\n",
    "\n",
    "ax1.set_xlim(445,459)\n",
    "ax1.set_xticks(np.arange(445,460,1))\n",
    "ax1.set_ylim(7e-6,9e-6)\n",
    "#ax1.set_xticks(np.arange(440,466,2))\n",
    "ax1.set_xlabel('Wavelength',size=14)\n",
    "ax1.set_ylabel('Extinction (cm$^{-1}$)',size=14)\n",
    "ax1.set_title(\"CEAS: Extinction v. NO2 reference\",size=16)\n",
    "ax1.legend(fontsize=12, loc='upper left')\n",
    "ax1.tick_params(labelsize=12)\n",
    "props = dict(boxstyle='round', facecolor='wheat', alpha=0.5)\n",
    "#ax1.text(0.05, 0.95, 'N=9E10 molecule*$cm^{-3}$ (~4ppb)\\n c=5.15E-7', transform=ax0.transAxes, fontsize=14,verticalalignment='top', bbox=props)\n",
    "#plt.savefig('BBCEASext_v_ref.png')"
   ]
  },
  {
   "cell_type": "code",
   "execution_count": null,
   "id": "2aa0e92b",
   "metadata": {},
   "outputs": [],
   "source": [
    "#### BIG DATA TEST"
   ]
  }
 ],
 "metadata": {
  "kernelspec": {
   "display_name": "Python 3",
   "language": "python",
   "name": "python3"
  },
  "language_info": {
   "codemirror_mode": {
    "name": "ipython",
    "version": 3
   },
   "file_extension": ".py",
   "mimetype": "text/x-python",
   "name": "python",
   "nbconvert_exporter": "python",
   "pygments_lexer": "ipython3",
   "version": "3.8.10"
  }
 },
 "nbformat": 4,
 "nbformat_minor": 5
}
