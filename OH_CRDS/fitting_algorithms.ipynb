{
 "cells": [
  {
   "cell_type": "code",
   "execution_count": 1,
   "id": "58b01a81",
   "metadata": {},
   "outputs": [],
   "source": [
    "import numpy as np\n",
    "from datetime import datetime as dt\n",
    "from numpy.random import default_rng\n",
    "from scipy.optimize import least_squares\n",
    "import matplotlib.pyplot as plt\n",
    "\n"
   ]
  },
  {
   "cell_type": "code",
   "execution_count": 37,
   "id": "e17c08b2",
   "metadata": {},
   "outputs": [],
   "source": [
    "rng = default_rng()\n",
    "def gen_data(t, a, b, c, noise=0., n_outliers=0, seed=None):\n",
    "    rng = default_rng(seed)\n",
    "\n",
    "    y = a + b * np.exp(t * c)\n",
    "\n",
    "    error = noise * rng.standard_normal(t.size)\n",
    "    outliers = rng.integers(0, t.size, n_outliers)\n",
    "    error[outliers] *= 10\n",
    "\n",
    "    return y + error\n",
    "\n",
    "a = 0.0002\n",
    "b = 2.0\n",
    "c = -1\n",
    "t_min = 0\n",
    "t_max = 45e-6\n",
    "n_points = 15\n",
    "\n",
    "#t_train = np.linspace(t_min, t_max, n_points)\n",
    "#y_train = gen_data(t_train, a, b, c, noise=0.1, n_outliers=0)"
   ]
  },
  {
   "cell_type": "code",
   "execution_count": 44,
   "id": "b8518467",
   "metadata": {},
   "outputs": [],
   "source": [
    "waveform = np.load('.\\\\WaveRunner\\\\waveform.npy')\n",
    "times = np.linspace(-5e-6, 45e-6, 5002)\n",
    "\n",
    "t_train = times[600:-1]\n",
    "y_train = waveform[600:]"
   ]
  },
  {
   "cell_type": "code",
   "execution_count": 39,
   "id": "c6650f9c",
   "metadata": {},
   "outputs": [],
   "source": [
    "waveform = np.load('.\\\\WaveRunner\\\\testdata\\\\waveform.npy')\n",
    "times = np.linspace(-5e-6, 45e-6, 5002)\n",
    "\n",
    "t_train = times[600:-1]\n",
    "y_train = waveform[600:]"
   ]
  },
  {
   "cell_type": "code",
   "execution_count": 45,
   "id": "dd1ee902",
   "metadata": {},
   "outputs": [],
   "source": [
    "def fun(x, t, y):\n",
    "    return x[0] + x[1] * np.exp(x[2] * t) - y\n",
    "\n",
    "x0 = np.array([0, 2, -5])"
   ]
  },
  {
   "cell_type": "code",
   "execution_count": 46,
   "id": "93a97595",
   "metadata": {},
   "outputs": [
    {
     "name": "stdout",
     "output_type": "stream",
     "text": [
      "0.01603\n",
      "0.11134\n",
      "0.103044\n"
     ]
    }
   ],
   "source": [
    "t0 = dt.now()\n",
    "res_lsq = least_squares(fun, x0, method='lm',ftol=1e-12, xtol=1e-12, gtol=1e-12,args=(t_train, y_train))\n",
    "t1 = dt.now()\n",
    "print((t1-t0).total_seconds())\n",
    "t0 = dt.now()\n",
    "res_soft_l1 = least_squares(fun, x0,ftol=1e-12, xtol=1e-12, gtol=1e-12, loss='soft_l1', f_scale=0.1,\n",
    "                            args=(t_train, y_train))\n",
    "t1 = dt.now()\n",
    "print((t1-t0).total_seconds())\n",
    "t0 = dt.now()\n",
    "res_log = least_squares(fun, x0,ftol=1e-12, xtol=1e-12, gtol=1e-12, loss='cauchy', f_scale=0.1,\n",
    "                        args=(t_train, y_train))\n",
    "t1 = dt.now()\n",
    "print((t1-t0).total_seconds())"
   ]
  },
  {
   "cell_type": "code",
   "execution_count": 47,
   "id": "e5d3c40c",
   "metadata": {},
   "outputs": [
    {
     "data": {
      "text/plain": [
       "     message: `ftol` termination condition is satisfied.\n",
       "     success: True\n",
       "      status: 2\n",
       "         fun: [-5.183e-02 -5.536e-02 ... -3.924e-03 -1.854e-03]\n",
       "           x: [-8.504e-01  7.937e-01 -1.153e+05]\n",
       "        cost: 0.120248486395529\n",
       "         jac: [[ 6.741e-01  6.007e-01  4.762e-07]\n",
       "               [ 6.374e-01  5.674e-01  4.543e-07]\n",
       "               ...\n",
       "               [ 9.977e-01  5.583e-03  1.993e-07]\n",
       "               [ 9.995e-01  5.586e-03  1.995e-07]]\n",
       "        grad: [ 1.380e-13 -3.396e-09  3.100e-14]\n",
       "  optimality: 3.3955375836016304e-09\n",
       " active_mask: [ 0.000e+00  0.000e+00  0.000e+00]\n",
       "        nfev: 125\n",
       "        njev: 102"
      ]
     },
     "execution_count": 47,
     "metadata": {},
     "output_type": "execute_result"
    }
   ],
   "source": [
    "res_log"
   ]
  },
  {
   "cell_type": "code",
   "execution_count": 48,
   "id": "46b596d8",
   "metadata": {},
   "outputs": [
    {
     "data": {
      "image/png": "[encoded data removed]",
      "text/plain": [
       "<Figure size 640x480 with 1 Axes>"
      ]
     },
     "metadata": {},
     "output_type": "display_data"
    }
   ],
   "source": [
    "t_test = np.linspace(t_min, t_max, n_points * 10)\n",
    "y_true = gen_data(t_test, a, b, c)\n",
    "y_lsq = gen_data(t_test, *res_lsq.x)\n",
    "y_soft_l1 = gen_data(t_test, *res_soft_l1.x)\n",
    "y_log = gen_data(t_test, *res_log.x)\n",
    "\n",
    "\n",
    "plt.plot(times[:-1], waveform, '-k',alpha=0.75)\n",
    "#plt.plot(t_test, y_true, 'k', linewidth=2, label='true')\n",
    "plt.plot(t_test, y_lsq, label='Levenberg-Marquardt')\n",
    "plt.plot(t_test, y_soft_l1, label='TRF:soft_l1 loss')\n",
    "plt.plot(t_test, y_log,'-r', label='TRF:cauchy loss')\n",
    "plt.xlabel(\"t\")\n",
    "plt.ylabel(\"y\")\n",
    "plt.legend()\n",
    "plt.show()"
   ]
  },
  {
   "cell_type": "markdown",
   "id": "200c3724",
   "metadata": {},
   "source": []
  }
 ],
 "metadata": {
  "kernelspec": {
   "display_name": "Python 3 (ipykernel)",
   "language": "python",
   "name": "python3"
  },
  "language_info": {
   "codemirror_mode": {
    "name": "ipython",
    "version": 3
   },
   "file_extension": ".py",
   "mimetype": "text/x-python",
   "name": "python",
   "nbconvert_exporter": "python",
   "pygments_lexer": "ipython3",
   "version": "3.11.2"
  }
 },
 "nbformat": 4,
 "nbformat_minor": 5
}
