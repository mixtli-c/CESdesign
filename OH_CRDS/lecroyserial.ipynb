{
 "cells": [
  {
   "cell_type": "code",
   "execution_count": null,
   "id": "9f267f38",
   "metadata": {},
   "outputs": [],
   "source": [
    "import serial\n",
    "import datetime as dt\n",
    "import numpy as np\n",
    "import matplotlib.pyplot as plt\n",
    "from time import sleep"
   ]
  },
  {
   "cell_type": "code",
   "execution_count": null,
   "id": "ce15191b",
   "metadata": {},
   "outputs": [],
   "source": [
    "def getFloat(fromserial):\n",
    "    for ele in fromserial:\n",
    "        try:\n",
    "            number=float(ele)\n",
    "        except:\n",
    "            pass\n",
    "    return number\n",
    "\n",
    "def getInt(fromserial):\n",
    "    for ele in fromserial:\n",
    "        try:\n",
    "            number=int(ele)\n",
    "        except:\n",
    "            pass\n",
    "    return number\n",
    "\n",
    "def getChunks(hexes, size):\n",
    "    chunks = [hexes[i:i+size] for i in range(0,len(hexes),size)]\n",
    "    #print(chunks)\n",
    "    vals =[]\n",
    "    for ele in chunks:\n",
    "        hhex = bytes.fromhex(ele)\n",
    "        hint = int.from_bytes(hhex,byteorder='big',signed=True)\n",
    "        vals.append(vertgain*hint+vertoff)\n",
    "    return vals\n",
    "\n",
    "def getWaveformParams(serialobject):\n",
    "    flushAll(serialobject)\n",
    "    serialobject.write(b'TA:INSPECT? \\\"WAVE_ARRAY_COUNT\\\"\\r')\n",
    "    counts= getInt(serialobject.read_until(expected=b'\\n\\r').decode('utf-8').split())\n",
    "    print('Counts:',counts)\n",
    "\n",
    "    flushAll(serialobject)\n",
    "    serialobject.write(b'TA:INSPECT? \\\"VERTICAL_GAIN\\\"\\r')\n",
    "    vertgain = getFloat(serialobject.read_until(expected=b'\\n\\r').decode('utf-8').split())\n",
    "    print('Vertical gain:',vertgain)\n",
    "    \n",
    "    flushAll(serialobject)\n",
    "    serialobject.write(b'TA:INSPECT? \\\"VERTICAL_OFFSET\\\"\\r')\n",
    "    vertoff = getFloat(serialobject.read_until(expected=b'\\n\\r').decode('utf-8').split())\n",
    "    print('Vertical offset',vertoff)\n",
    "\n",
    "    flushAll(serialobject)\n",
    "    serialobject.write(b'TA:INSPECT? \\\"HORIZ_INTERVAL\\\"\\r')\n",
    "    horint = getFloat(serialobject.read_until(expected=b'\\n\\r').decode('utf-8').split())\n",
    "    print('Horizontal interval:',horint)\n",
    "\n",
    "    flushAll(serialobject)\n",
    "    serialobject.write(b'TA:INSPECT? \\\"HORIZ_OFFSET\\\"\\r')\n",
    "    horoff = getFloat(serialobject.read_until(expected=b'\\n\\r').decode('utf-8').split())\n",
    "    print('Horizontal offset:',horoff)\n",
    "    \n",
    "def flushAll(serialobject):\n",
    "    serialobject.flushInput()\n",
    "    serialobject.flushOutput()"
   ]
  },
  {
   "cell_type": "code",
   "execution_count": null,
   "id": "4204fc87",
   "metadata": {},
   "outputs": [],
   "source": [
    "lecroy = serial.Serial('COM2',115200,timeout=10)\n",
    "scanmate = serial.Serial('COM1',9600,stopbits = serial.STOPBITS_TWO,timeout=2)"
   ]
  },
  {
   "cell_type": "code",
   "execution_count": 1,
   "id": "b28a554d",
   "metadata": {},
   "outputs": [
    {
     "ename": "NameError",
     "evalue": "name 'lecroy' is not defined",
     "output_type": "error",
     "traceback": [
      "\u001b[1;31m---------------------------------------------------------------------------\u001b[0m",
      "\u001b[1;31mNameError\u001b[0m                                 Traceback (most recent call last)",
      "Cell \u001b[1;32mIn[1], line 1\u001b[0m\n\u001b[1;32m----> 1\u001b[0m \u001b[43mlecroy\u001b[49m\u001b[38;5;241m.\u001b[39mopen()\n\u001b[0;32m      2\u001b[0m scanmate\u001b[38;5;241m.\u001b[39mopen()\n",
      "\u001b[1;31mNameError\u001b[0m: name 'lecroy' is not defined"
     ]
    }
   ],
   "source": [
    "lecroy.open()\n",
    "scanmate.open()"
   ]
  },
  {
   "cell_type": "code",
   "execution_count": null,
   "id": "23840b31",
   "metadata": {},
   "outputs": [],
   "source": [
    "scanmate.open()"
   ]
  },
  {
   "cell_type": "code",
   "execution_count": null,
   "id": "92b3c561",
   "metadata": {},
   "outputs": [],
   "source": [
    "lecroy.write(b'DISP OFF\\r')\n",
    "lecroy.write(b'COMM_HEADER OFF\\r')\n",
    "lecroy.write(b'COMM_FORMAT OFF,WORD,HEX\\r')\n",
    "flushAll(lecroy)\n",
    "lecroy.write(b'ALST?\\r')\n",
    "lecroy.read_until(expected=b'\\n\\r')"
   ]
  },
  {
   "cell_type": "code",
   "execution_count": null,
   "id": "8d0c93ab",
   "metadata": {},
   "outputs": [],
   "source": [
    "############################### FOR TESTING"
   ]
  },
  {
   "cell_type": "code",
   "execution_count": null,
   "id": "21cb6e45",
   "metadata": {},
   "outputs": [],
   "source": [
    "lecroy.write(b'DISP ON\\r')\n",
    "flushAll(lecroy)"
   ]
  },
  {
   "cell_type": "code",
   "execution_count": null,
   "id": "e980bad5",
   "metadata": {},
   "outputs": [],
   "source": [
    "flushAll(lecroy)\n",
    "lecroy.write(b'TA:INSPECT? \\\"WAVE_ARRAY_1\\\"\\r')\n",
    "lecroy.read_until(expected=b'\\n\\r').decode('utf-8')"
   ]
  },
  {
   "cell_type": "code",
   "execution_count": null,
   "id": "adafc006",
   "metadata": {},
   "outputs": [],
   "source": [
    "\n",
    "lecroy.write(b'TA:FRST\\r')\n",
    "t1 = dt.datetime.now()\n",
    "d=0\n",
    "c=0\n",
    "while (c<8448) and (d<300):\n",
    "    #flushAll(lecroy)\n",
    "    lecroy.write(b'INR?\\r')\n",
    "    output=lecroy.read_until(expected=b'\\n\\r').decode('utf-8').split()\n",
    "    #print(output)\n",
    "    try:\n",
    "        c=getInt(output)\n",
    "    except:\n",
    "        pass\n",
    "    \n",
    "    d +=1\n",
    "    sleep(0.01)\n",
    "    \n",
    "print(c,d)\n",
    "\n",
    "\n",
    "t2 = dt.datetime.now()\n",
    "print((t2-t1).total_seconds())"
   ]
  },
  {
   "cell_type": "code",
   "execution_count": null,
   "id": "5519312c",
   "metadata": {},
   "outputs": [],
   "source": [
    "flushAll(lecroy)\n",
    "lecroy.write(b'*IST?\\r')\n",
    "lecroy.read_until(expected=b'\\n\\r').decode('utf-8')"
   ]
  },
  {
   "cell_type": "code",
   "execution_count": null,
   "id": "49241f0c",
   "metadata": {},
   "outputs": [],
   "source": [
    "lecroy.write(b'TA:FRST\\r')\n",
    "lecroy.write(b'INR?\\r')\n",
    "lecroy.read_until(expected=b'\\n\\r').decode('utf-8').split()"
   ]
  },
  {
   "cell_type": "code",
   "execution_count": null,
   "id": "38088908",
   "metadata": {},
   "outputs": [],
   "source": [
    "#####################################################"
   ]
  },
  {
   "cell_type": "code",
   "execution_count": null,
   "id": "19466296",
   "metadata": {},
   "outputs": [],
   "source": [
    "size = 4 ### word= 2 bytes=4 hex, 1 byte=2 hex \n",
    "getWaveformParams(lecroy)\n"
   ]
  },
  {
   "cell_type": "code",
   "execution_count": null,
   "id": "cb0f1fe3",
   "metadata": {},
   "outputs": [],
   "source": [
    "tdivs=np.arange(counts)*horint+horoff\n",
    "print(tdivs)"
   ]
  },
  {
   "cell_type": "code",
   "execution_count": null,
   "id": "e4a2b39f",
   "metadata": {
    "scrolled": false
   },
   "outputs": [],
   "source": [
    "t1 = dt.datetime.now()\n",
    "#lecroy.write(b'COMM_HEADER OFF\\r')\n",
    "#lecroy.write(b'COMM_FORMAT OFF,BYTE,HEX\\r')\n",
    "lecroy.write(b'STO TA,M1\\r')\n",
    "flushAll(lecroy)\n",
    "lecroy.write(b'M1:WF? DAT1\\r')\n",
    "data=lecroy.read_until(expected=b'\\n\\r').decode('utf-8').split()\n",
    "t2 = dt.datetime.now()\n",
    "print((t2-t1).total_seconds())\n",
    "#print(data[-1])\n",
    "values = getChunks(data[-1],size)\n",
    "t3 = dt.datetime.now()\n",
    "print((t3-t1).total_seconds())\n",
    "#t4 = dt.datetime.now()\n",
    "\n",
    "#print((t4-t1).total_seconds())\n"
   ]
  },
  {
   "cell_type": "code",
   "execution_count": null,
   "id": "d44d60e6",
   "metadata": {
    "scrolled": false
   },
   "outputs": [],
   "source": [
    "flushAll(lecroy)\n",
    "t1 = dt.datetime.now()\n",
    "lecroy.write(b'TA:INSP? \"DATA_ARRAY_1\"\\r')\n",
    "datafloat=lecroy.read_until(expected=b'\\n\\r').decode('utf-8')\n",
    "t2 = dt.datetime.now()\n",
    "print((t2-t1).total_seconds())"
   ]
  },
  {
   "cell_type": "code",
   "execution_count": null,
   "id": "f7ac80b6",
   "metadata": {},
   "outputs": [],
   "source": [
    "inspvals = []\n",
    "for ele in datafloat.split():\n",
    "    try:\n",
    "        inspvals.append(float(ele))\n",
    "    except:\n",
    "        pass\n",
    "#print(len(inspvals),'\\n',inspvals)"
   ]
  },
  {
   "cell_type": "code",
   "execution_count": null,
   "id": "d7ced1be",
   "metadata": {},
   "outputs": [],
   "source": [
    "print(len(values),'\\n',values)"
   ]
  },
  {
   "cell_type": "code",
   "execution_count": null,
   "id": "99e07aa0",
   "metadata": {},
   "outputs": [],
   "source": [
    "print(len(inspvals),'\\n',inspvals)"
   ]
  },
  {
   "cell_type": "code",
   "execution_count": null,
   "id": "f248eae5",
   "metadata": {},
   "outputs": [],
   "source": [
    "print(len(values2),'\\n',values2)"
   ]
  },
  {
   "cell_type": "code",
   "execution_count": null,
   "id": "bc9ac6b1",
   "metadata": {},
   "outputs": [],
   "source": []
  },
  {
   "cell_type": "code",
   "execution_count": null,
   "id": "283eff57",
   "metadata": {},
   "outputs": [],
   "source": []
  },
  {
   "cell_type": "code",
   "execution_count": null,
   "id": "edd7d250",
   "metadata": {},
   "outputs": [],
   "source": [
    "lecroy.write(b'TA:FRST\\r')"
   ]
  },
  {
   "cell_type": "code",
   "execution_count": null,
   "id": "2865628e",
   "metadata": {},
   "outputs": [],
   "source": []
  },
  {
   "cell_type": "code",
   "execution_count": null,
   "id": "b643ea36",
   "metadata": {},
   "outputs": [],
   "source": []
  },
  {
   "cell_type": "code",
   "execution_count": null,
   "id": "26f7b25a",
   "metadata": {},
   "outputs": [],
   "source": []
  },
  {
   "cell_type": "code",
   "execution_count": null,
   "id": "1e59ea68",
   "metadata": {},
   "outputs": [],
   "source": []
  },
  {
   "cell_type": "code",
   "execution_count": null,
   "id": "78d7f8df",
   "metadata": {},
   "outputs": [],
   "source": []
  },
  {
   "cell_type": "code",
   "execution_count": null,
   "id": "5858e330",
   "metadata": {},
   "outputs": [],
   "source": []
  },
  {
   "cell_type": "code",
   "execution_count": null,
   "id": "bead4d40",
   "metadata": {},
   "outputs": [],
   "source": []
  },
  {
   "cell_type": "code",
   "execution_count": null,
   "id": "c1b70569",
   "metadata": {},
   "outputs": [],
   "source": []
  },
  {
   "cell_type": "code",
   "execution_count": null,
   "id": "2582c4e6",
   "metadata": {},
   "outputs": [],
   "source": [
    "scanmate.write(b'POS,S?\\r')\n",
    "#scanmate.read(100)\n",
    "scanmate.read_until(expected=b'\\r')"
   ]
  },
  {
   "cell_type": "code",
   "execution_count": null,
   "id": "9ce1d70d",
   "metadata": {},
   "outputs": [],
   "source": []
  },
  {
   "cell_type": "code",
   "execution_count": null,
   "id": "6c3985f8",
   "metadata": {},
   "outputs": [],
   "source": []
  },
  {
   "cell_type": "code",
   "execution_count": null,
   "id": "8c60e943",
   "metadata": {},
   "outputs": [],
   "source": []
  },
  {
   "cell_type": "code",
   "execution_count": null,
   "id": "3b10f716",
   "metadata": {},
   "outputs": [],
   "source": []
  },
  {
   "cell_type": "code",
   "execution_count": null,
   "id": "4b1aab99",
   "metadata": {},
   "outputs": [],
   "source": [
    "lecroy.close()\n",
    "scanmate.close()"
   ]
  },
  {
   "cell_type": "code",
   "execution_count": null,
   "id": "e79d540a",
   "metadata": {},
   "outputs": [],
   "source": [
    "ser.is_open"
   ]
  },
  {
   "cell_type": "code",
   "execution_count": null,
   "id": "1f3e1292",
   "metadata": {},
   "outputs": [],
   "source": []
  },
  {
   "cell_type": "code",
   "execution_count": null,
   "id": "e425e097",
   "metadata": {},
   "outputs": [],
   "source": []
  },
  {
   "cell_type": "code",
   "execution_count": null,
   "id": "70a6e9f6",
   "metadata": {},
   "outputs": [],
   "source": [
    "lecroy"
   ]
  },
  {
   "cell_type": "code",
   "execution_count": null,
   "id": "620749da",
   "metadata": {},
   "outputs": [],
   "source": [
    "t1 = dt.datetime.now()\n",
    "t2 = dt.datetime.now()\n",
    "print((t2-t1).total_seconds())"
   ]
  },
  {
   "cell_type": "code",
   "execution_count": null,
   "id": "415607f8",
   "metadata": {},
   "outputs": [],
   "source": [
    "lecroy.write(b'?\\r')\n",
    "lecroy.read_until(expected=b'\\n\\r')"
   ]
  },
  {
   "cell_type": "code",
   "execution_count": null,
   "id": "a1b21f1e",
   "metadata": {},
   "outputs": [],
   "source": [
    "hexes = data[-1]\n",
    "chunks = [hexes[i:i+4] for i in range(0,len(hexes),4)]\n",
    "#print(chunks)\n",
    "values =[]\n",
    "for ele in chunks:\n",
    "    hhex = bytes.fromhex(ele)\n",
    "    hint = int.from_bytes(hhex,byteorder='big',signed=True)\n",
    "    values.append(vertgain*hint+vertoff)\n",
    "print(len(values),'\\n',values)"
   ]
  },
  {
   "cell_type": "code",
   "execution_count": null,
   "id": "1de63452",
   "metadata": {},
   "outputs": [],
   "source": [
    "flushAll(lecroy)\n",
    "t1 = dt.datetime.now()\n",
    "#lecroy.write(b'COMM_HEADER OFF\\r')\n",
    "#lecroy.write(b'COMM_FORMAT OFF,BYTE,HEX\\r')\n",
    "lecroy.write(b'M1:WF? DAT1\\r')\n",
    "data=lecroy.read_until(expected=b'\\n\\r').decode('utf-8').split()\n",
    "t2 = dt.datetime.now()\n",
    "print((t2-t1).total_seconds())\n",
    "#print(data[-1])\n",
    "values2 = getChunks(data[-1],size)\n",
    "t3 = dt.datetime.now()\n",
    "print((t3-t1).total_seconds())"
   ]
  },
  {
   "cell_type": "code",
   "execution_count": null,
   "id": "24fa8ba0",
   "metadata": {},
   "outputs": [],
   "source": []
  }
 ],
 "metadata": {
  "kernelspec": {
   "display_name": "Python 3 (ipykernel)",
   "language": "python",
   "name": "python3"
  },
  "language_info": {
   "codemirror_mode": {
    "name": "ipython",
    "version": 3
   },
   "file_extension": ".py",
   "mimetype": "text/x-python",
   "name": "python",
   "nbconvert_exporter": "python",
   "pygments_lexer": "ipython3",
   "version": "3.11.2"
  }
 },
 "nbformat": 4,
 "nbformat_minor": 5
}
