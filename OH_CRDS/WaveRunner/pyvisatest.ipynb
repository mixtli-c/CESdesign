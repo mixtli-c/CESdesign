{
 "cells": [
  {
   "cell_type": "code",
   "execution_count": 1,
   "id": "a5634025",
   "metadata": {},
   "outputs": [
    {
     "name": "stdout",
     "output_type": "stream",
     "text": [
      "('ASRL1::INSTR', 'ASRL2::INSTR', 'GPIB0::11::INSTR')\n"
     ]
    }
   ],
   "source": [
    "##### STARTING PYVISA AND THE RESOURCES\n",
    "import pyvisa\n",
    "rm = pyvisa.ResourceManager()\n",
    "print(rm.list_resources())"
   ]
  },
  {
   "cell_type": "code",
   "execution_count": 2,
   "id": "99cd2503",
   "metadata": {},
   "outputs": [],
   "source": [
    "import time\n",
    "import numpy as np\n",
    "import serial"
   ]
  },
  {
   "cell_type": "code",
   "execution_count": 3,
   "id": "47b44cec",
   "metadata": {},
   "outputs": [],
   "source": [
    "##### LECROY CHANNELS: EA,EB,MC,MD,FE,FF,C1,C2\n",
    "##### TRIGGERS: EX,EX1O"
   ]
  },
  {
   "cell_type": "code",
   "execution_count": 4,
   "id": "fe8e3d15",
   "metadata": {},
   "outputs": [
    {
     "name": "stdout",
     "output_type": "stream",
     "text": [
      "*IDN LECROY,9410_,94102018,05.0\n",
      "\n"
     ]
    }
   ],
   "source": [
    "##### INSTRUMENT OPENS AND IDENTIFIES\n",
    "lecroy_9410 = rm.open_resource('GPIB0::11::INSTR')\n",
    "print(lecroy_9410.query('*IDN?'))"
   ]
  },
  {
   "cell_type": "code",
   "execution_count": 5,
   "id": "e2aa2294",
   "metadata": {},
   "outputs": [
    {
     "name": "stdout",
     "output_type": "stream",
     "text": [
      "ALST STB,000000,ESR,000000,INR,000001,DDR,000000,EXR,000000,CMR,000000,URR,000000\n",
      "\n",
      "ALST STB,000000,ESR,000000,INR,000000,DDR,000000,EXR,000000,CMR,000000,URR,000000\n",
      "\n"
     ]
    }
   ],
   "source": [
    "##### LONG AND SHORT FORM COMMANDS\n",
    "print(lecroy_9410.query('ALL_STATUS?'))\n",
    "print(lecroy_9410.query('ALST?'))"
   ]
  },
  {
   "cell_type": "code",
   "execution_count": 22,
   "id": "ec9297b5",
   "metadata": {},
   "outputs": [
    {
     "name": "stdout",
     "output_type": "stream",
     "text": [
      "GPIBInstrument at GPIB0::11::INSTR\n"
     ]
    }
   ],
   "source": [
    "##### ADDRESS OF THE INSTRUMENT\n",
    "print(lecroy_9410)"
   ]
  },
  {
   "cell_type": "code",
   "execution_count": null,
   "id": "e34b69cb",
   "metadata": {},
   "outputs": [],
   "source": [
    "##### INSTRUMENT SESSION\n",
    "lecroy_9410.session"
   ]
  },
  {
   "cell_type": "code",
   "execution_count": 8,
   "id": "a9776dd5",
   "metadata": {},
   "outputs": [],
   "source": [
    "##### CLOSE SESSION\n",
    "lecroy_9410.close()"
   ]
  },
  {
   "cell_type": "code",
   "execution_count": 42,
   "id": "3cfa63b9",
   "metadata": {},
   "outputs": [
    {
     "data": {
      "text/plain": [
       "14"
      ]
     },
     "execution_count": 42,
     "metadata": {},
     "output_type": "execute_result"
    }
   ],
   "source": [
    "##### EXAMPLE SET OFFSETS FOR CHANNELS\n",
    "lecroy_9410.write('C1:OFST 0 MV')\n",
    "lecroy_9410.write('C2:OFST 1 MV')"
   ]
  },
  {
   "cell_type": "code",
   "execution_count": 55,
   "id": "1afa1633",
   "metadata": {},
   "outputs": [
    {
     "data": {
      "text/plain": [
       "18"
      ]
     },
     "execution_count": 55,
     "metadata": {},
     "output_type": "execute_result"
    }
   ],
   "source": [
    "##### EXAMPLE SET VOLTAGE AND TIME DIVISIONS\n",
    "lecroy_9410.write('C1:TIME_DIV 20 MS')\n",
    "lecroy_9410.write('C2:TIME_DIV 20 MS')\n",
    "lecroy_9410.write('C1:VOLT_DIV 1 MV')\n",
    "lecroy_9410.write('C2:VOLT_DIV 1 MV')"
   ]
  },
  {
   "cell_type": "code",
   "execution_count": 35,
   "id": "39ce2d5c",
   "metadata": {},
   "outputs": [
    {
     "name": "stdout",
     "output_type": "stream",
     "text": [
      "C1:PAVA FRST,-0.05E-6 S,OK,LAST,0.45E-6 S,OK,PNTS,50,OK,MIN,-1.6E-3 V,OK,MAX,0E-3 V,OK,MEAN,-0.16E-3 V,OK,SDEV,0.47E-3 V,OK,RMS,0.49E-3 V,OK,BASE,0E-3 V,OK,TOP,-1.6E-3 V,OK,AMPL,-1.6E-3 V,OK,PKPK,1.6E-3 V,OK,FREQ,0,IV,PER,0,IV,WID,0,IV,RISE,0,IV,FALL,0,IV,DLY,0,IV,CYCL,0,IV,DUTY,0,IV,AREA,-78.1E-12 V.S,OK,OVSP,0 PCT,OK,OVSN,0 PCT,OK,ALLI,0,IV,ANYO,0,IV\n",
      "\n"
     ]
    }
   ],
   "source": [
    "##### PAVA GETS PARAMETER VALUES\n",
    "print(lecroy_9410.query('C1:PAVA?'))"
   ]
  },
  {
   "cell_type": "code",
   "execution_count": 79,
   "id": "8f990214",
   "metadata": {},
   "outputs": [
    {
     "data": {
      "text/plain": [
       "13"
      ]
     },
     "execution_count": 79,
     "metadata": {},
     "output_type": "execute_result"
    }
   ],
   "source": [
    "##### SHOW TRACES\n",
    "lecroy_9410.write('C1:TRACE OFF')\n",
    "lecroy_9410.write('FE:TRACE ON')"
   ]
  },
  {
   "cell_type": "code",
   "execution_count": 80,
   "id": "ca128278",
   "metadata": {},
   "outputs": [
    {
     "data": {
      "text/plain": [
       "15"
      ]
     },
     "execution_count": 80,
     "metadata": {},
     "output_type": "execute_result"
    }
   ],
   "source": [
    "##### SHOW PARAMETERS\n",
    "lecroy_9410.write('FE:CRMS PARAM')"
   ]
  },
  {
   "cell_type": "code",
   "execution_count": 93,
   "id": "7829bb07",
   "metadata": {},
   "outputs": [
    {
     "name": "stdout",
     "output_type": "stream",
     "text": [
      "FE:PAVA MIN,-81.4E-6 V,OK,MAX,-42.1E-6 V,OK\n",
      "\n"
     ]
    }
   ],
   "source": [
    "##### PAVA FOR THE FUNCTION\n",
    "print(lecroy_9410.query('FE:PAVA? MIN,MAX'))"
   ]
  },
  {
   "cell_type": "code",
   "execution_count": 7,
   "id": "a94b1ef9",
   "metadata": {},
   "outputs": [
    {
     "data": {
      "text/plain": [
       "'FE:DEF EQN,\"AVGS(C1)\",MAXPTS,1000,SWEEPS,250\\n'"
      ]
     },
     "execution_count": 7,
     "metadata": {},
     "output_type": "execute_result"
    }
   ],
   "source": [
    "##### FUNCTION DEFINITION\n",
    "lecroy_9410.query('FE:DEF?')"
   ]
  },
  {
   "cell_type": "code",
   "execution_count": 28,
   "id": "a3862b1a",
   "metadata": {},
   "outputs": [
    {
     "data": {
      "text/plain": [
       "9"
      ]
     },
     "execution_count": 28,
     "metadata": {},
     "output_type": "execute_result"
    }
   ],
   "source": [
    "##### RESTART THE FUNCTION\n",
    "lecroy_9410.write('FE:FRST')"
   ]
  },
  {
   "cell_type": "code",
   "execution_count": 6,
   "id": "87c2ce9a",
   "metadata": {},
   "outputs": [
    {
     "data": {
      "text/plain": [
       "46"
      ]
     },
     "execution_count": 6,
     "metadata": {},
     "output_type": "execute_result"
    }
   ],
   "source": [
    "##### DEFINE FUNCTION\n",
    "lecroy_9410.write('FE:DEF EQN,\\'AVGS(C1)\\',MAXPTS,1000,SWEEPS,250')"
   ]
  },
  {
   "cell_type": "code",
   "execution_count": 105,
   "id": "6e7ed2a1",
   "metadata": {},
   "outputs": [
    {
     "name": "stdout",
     "output_type": "stream",
     "text": [
      "FE:PAVA MIN,-81.4E-6 V,OK\n",
      "\n"
     ]
    }
   ],
   "source": [
    "##### SAVE QUERY TO STRING\n",
    "a=lecroy_9410.query('FE:PAVA? MIN')\n",
    "print(a)"
   ]
  },
  {
   "cell_type": "code",
   "execution_count": 108,
   "id": "50a976af",
   "metadata": {},
   "outputs": [
    {
     "name": "stdout",
     "output_type": "stream",
     "text": [
      "Min is: -0.00008140, Max is: -0.00004210\n"
     ]
    }
   ],
   "source": [
    "##### SPLIT STRING AND SAVE NUMERICAL DATA\n",
    "a=lecroy_9410.query('FE:PAVA? MIN')\n",
    "a=a.split()\n",
    "stream=a[1].split(',')\n",
    "scopemin=float(stream[1])\n",
    "a=lecroy_9410.query('FE:PAVA? MAX')\n",
    "a=a.split()\n",
    "stream=a[1].split(',')\n",
    "scopemax=float(stream[1])\n",
    "print(\"Min is: %.8f, Max is: %.8f\" %(scopemin,scopemax))"
   ]
  },
  {
   "cell_type": "code",
   "execution_count": 134,
   "id": "603afecb",
   "metadata": {},
   "outputs": [
    {
     "name": "stdout",
     "output_type": "stream",
     "text": [
      "For wavelength 614.070000, Min is: -0.00007400, Max is: -0.00003900\n",
      "For wavelength 614.071000, Min is: -0.00007500, Max is: -0.00003800\n",
      "For wavelength 614.072000, Min is: -0.00007600, Max is: -0.00004100\n"
     ]
    }
   ],
   "source": [
    "##### TIMED TEST\n",
    "wavels = np.arange(614.07,614.073,.001)\n",
    "for i in wavels:\n",
    "    lecroy_9410.write('FE:FRST')\n",
    "    time.sleep(60)\n",
    "    a=lecroy_9410.query('FE:PAVA? MIN')\n",
    "    a=a.split()\n",
    "    stream=a[1].split(',')\n",
    "    scopemin=float(stream[1])\n",
    "    a=lecroy_9410.query('FE:PAVA? MAX')\n",
    "    a=a.split()\n",
    "    stream=a[1].split(',')\n",
    "    scopemax=float(stream[1])\n",
    "    print(\"For wavelength %f, Min is: %.8f, Max is: %.8f\" %(i,scopemin,scopemax))"
   ]
  },
  {
   "cell_type": "code",
   "execution_count": 124,
   "id": "378b1f94",
   "metadata": {},
   "outputs": [
    {
     "data": {
      "text/plain": [
       "11"
      ]
     },
     "execution_count": 124,
     "metadata": {},
     "output_type": "execute_result"
    }
   ],
   "source": [
    "##### TRIGGERS\n",
    "lecroy_9410.write('TRMD AUTO')"
   ]
  },
  {
   "cell_type": "code",
   "execution_count": 129,
   "id": "3706c941",
   "metadata": {},
   "outputs": [
    {
     "data": {
      "text/plain": [
       "15"
      ]
     },
     "execution_count": 129,
     "metadata": {},
     "output_type": "execute_result"
    }
   ],
   "source": [
    "lecroy_9410.write('TRSE EV,SR,EX')"
   ]
  },
  {
   "cell_type": "code",
   "execution_count": 127,
   "id": "85b321e5",
   "metadata": {},
   "outputs": [
    {
     "data": {
      "text/plain": [
       "12"
      ]
     },
     "execution_count": 127,
     "metadata": {},
     "output_type": "execute_result"
    }
   ],
   "source": [
    "lecroy_9410.write('C1:TRCP DC')"
   ]
  },
  {
   "cell_type": "code",
   "execution_count": 130,
   "id": "b1c6c2d7",
   "metadata": {},
   "outputs": [
    {
     "data": {
      "text/plain": [
       "'TRSE STD,SR,C1\\n'"
      ]
     },
     "execution_count": 130,
     "metadata": {},
     "output_type": "execute_result"
    }
   ],
   "source": [
    "lecroy_9410.query('TRSE?')"
   ]
  },
  {
   "cell_type": "code",
   "execution_count": 21,
   "id": "2e51d497",
   "metadata": {},
   "outputs": [
    {
     "name": "stdout",
     "output_type": "stream",
     "text": [
      "For wavelength 614.070000, Min is: 0.00023000, Max is: 0.00095000\n",
      "For wavelength 614.071000, Min is: 0.00031000, Max is: 0.00098000\n",
      "For wavelength 614.072000, Min is: 0.00020000, Max is: 0.00087000\n",
      "For wavelength 614.073000, Min is: 0.00017000, Max is: 0.00082000\n"
     ]
    }
   ],
   "source": [
    "##### FULL SERIAL + GPIB TEST\n",
    "ser = serial.Serial('COM1',9600,stopbits=serial.STOPBITS_TWO)\n",
    "wavels = np.arange(614.07,614.074,.001)\n",
    "for i in wavels:\n",
    "    commnd = 'START=%.3f\\r' %i\n",
    "    ser.write(bytes(commnd,'utf-8'))\n",
    "    time.sleep(1)\n",
    "    ser.write(bytes('GOSTART\\r','utf-8'))\n",
    "    time.sleep(5)\n",
    "    lecroy_9410.write('FE:FRST')\n",
    "    time.sleep(30)\n",
    "    a=lecroy_9410.query('FE:PAVA? MIN')\n",
    "    a=a.split()\n",
    "    stream=a[1].split(',')\n",
    "    scopemin=float(stream[1])\n",
    "    a=lecroy_9410.query('FE:PAVA? MAX')\n",
    "    a=a.split()\n",
    "    stream=a[1].split(',')\n",
    "    scopemax=float(stream[1])\n",
    "    print(\"For wavelength %f, Min is: %.8f, Max is: %.8f\" %(i,scopemin,scopemax))"
   ]
  },
  {
   "cell_type": "code",
   "execution_count": 10,
   "id": "239355a9",
   "metadata": {},
   "outputs": [],
   "source": [
    "ser.close()\n",
    "lecroy_9410.close()"
   ]
  },
  {
   "cell_type": "code",
   "execution_count": 11,
   "id": "82d8387b",
   "metadata": {
    "scrolled": false
   },
   "outputs": [
    {
     "name": "stdout",
     "output_type": "stream",
     "text": [
      "('ASRL1::INSTR', 'ASRL2::INSTR', 'GPIB0::11::INSTR')\n",
      "*IDN LECROY,9410_,94102018,05.0\n",
      "\n",
      "For wavelength 614.060000, Min is: -0.14900000, Max is: 0.09100000\n",
      "For wavelength 614.061000, Min is: -0.14500000, Max is: 0.09100000\n",
      "For wavelength 614.062000, Min is: -0.14200000, Max is: 0.09000000\n",
      "For wavelength 614.063000, Min is: -0.14600000, Max is: 0.09200000\n",
      "For wavelength 614.064000, Min is: -0.14800000, Max is: 0.09400000\n",
      "For wavelength 614.065000, Min is: -0.14800000, Max is: 0.09400000\n",
      "For wavelength 614.066000, Min is: -0.15200000, Max is: 0.09600000\n",
      "For wavelength 614.067000, Min is: -0.15400000, Max is: 0.10000000\n",
      "For wavelength 614.068000, Min is: -0.15500000, Max is: 0.10100000\n",
      "For wavelength 614.069000, Min is: -0.16200000, Max is: 0.10700000\n",
      "For wavelength 614.070000, Min is: -0.16400000, Max is: 0.11200000\n",
      "For wavelength 614.071000, Min is: -0.16800000, Max is: 0.11500000\n",
      "For wavelength 614.072000, Min is: -0.17500000, Max is: 0.12100000\n",
      "For wavelength 614.073000, Min is: -0.18200000, Max is: 0.12800000\n",
      "For wavelength 614.074000, Min is: -0.18500000, Max is: 0.12900000\n",
      "For wavelength 614.075000, Min is: -0.19300000, Max is: 0.13500000\n",
      "For wavelength 614.076000, Min is: -0.19600000, Max is: 0.13700000\n",
      "For wavelength 614.077000, Min is: -0.20800000, Max is: 0.14300000\n",
      "For wavelength 614.078000, Min is: -0.21500000, Max is: 0.15000000\n",
      "For wavelength 614.079000, Min is: -0.21100000, Max is: 0.15900000\n",
      "For wavelength 614.080000, Min is: -0.21600000, Max is: 0.16100000\n",
      "For wavelength 614.081000, Min is: -0.22500000, Max is: 0.16900000\n",
      "For wavelength 614.082000, Min is: -0.23200000, Max is: 0.17300000\n",
      "For wavelength 614.083000, Min is: -0.24100000, Max is: 0.18100000\n",
      "For wavelength 614.084000, Min is: -0.25100000, Max is: 0.18600000\n",
      "For wavelength 614.085000, Min is: -0.25900000, Max is: 0.19500000\n",
      "For wavelength 614.086000, Min is: -0.27100000, Max is: 0.20400000\n",
      "For wavelength 614.087000, Min is: -0.27200000, Max is: 0.20700000\n",
      "For wavelength 614.088000, Min is: -0.28000000, Max is: 0.21200000\n",
      "For wavelength 614.089000, Min is: -0.29100000, Max is: 0.22000000\n",
      "For wavelength 614.090000, Min is: -0.29900000, Max is: 0.22200000\n",
      "For wavelength 614.091000, Min is: -0.30300000, Max is: 0.22800000\n",
      "For wavelength 614.092000, Min is: -0.31400000, Max is: 0.23500000\n",
      "For wavelength 614.093000, Min is: -0.31800000, Max is: 0.23900000\n",
      "For wavelength 614.094000, Min is: -0.32800000, Max is: 0.24500000\n",
      "For wavelength 614.095000, Min is: -0.34000000, Max is: 0.24900000\n",
      "For wavelength 614.096000, Min is: -0.35400000, Max is: 0.25500000\n",
      "For wavelength 614.097000, Min is: -0.36200000, Max is: 0.25900000\n",
      "For wavelength 614.098000, Min is: -0.37000000, Max is: 0.26400000\n",
      "For wavelength 614.099000, Min is: -0.37800000, Max is: 0.27200000\n",
      "For wavelength 614.100000, Min is: -0.39100000, Max is: 0.28100000\n",
      "For wavelength 614.101000, Min is: -0.40500000, Max is: 0.28700000\n",
      "For wavelength 614.102000, Min is: -0.42400000, Max is: 0.29900000\n",
      "For wavelength 614.103000, Min is: -0.44200000, Max is: 0.31000000\n",
      "For wavelength 614.104000, Min is: -0.45600000, Max is: 0.31800000\n",
      "For wavelength 614.105000, Min is: -0.47500000, Max is: 0.32900000\n",
      "For wavelength 614.106000, Min is: -0.49200000, Max is: 0.34200000\n",
      "For wavelength 614.107000, Min is: -0.51800000, Max is: 0.35800000\n",
      "For wavelength 614.108000, Min is: -0.55100000, Max is: 0.38200000\n",
      "For wavelength 614.109000, Min is: -0.58000000, Max is: 0.40100000\n",
      "For wavelength 614.110000, Min is: -0.62600000, Max is: 0.43100000\n",
      "For wavelength 614.111000, Min is: -0.66700000, Max is: 0.45300000\n",
      "For wavelength 614.112000, Min is: -0.70700000, Max is: 0.47400000\n",
      "For wavelength 614.113000, Min is: -0.80700000, Max is: 0.53400000\n",
      "For wavelength 614.114000, Min is: -0.85900000, Max is: 0.56300000\n",
      "For wavelength 614.115000, Min is: -0.92800000, Max is: 0.60500000\n",
      "For wavelength 614.116000, Min is: -1.01000000, Max is: 0.65300000\n",
      "For wavelength 614.117000, Min is: -1.11800000, Max is: 0.71700000\n",
      "For wavelength 614.118000, Min is: -1.19700000, Max is: 0.76400000\n",
      "For wavelength 614.119000, Min is: -1.29700000, Max is: 0.82600000\n",
      "For wavelength 614.120000, Min is: -1.40200000, Max is: 0.88900000\n",
      "For wavelength 614.121000, Min is: -1.55100000, Max is: 0.97900000\n",
      "For wavelength 614.122000, Min is: -1.71400000, Max is: 1.08300000\n",
      "For wavelength 614.123000, Min is: -1.82400000, Max is: 1.15700000\n",
      "For wavelength 614.124000, Min is: -1.96900000, Max is: 1.26000000\n",
      "For wavelength 614.125000, Min is: -2.09000000, Max is: 1.34900000\n",
      "For wavelength 614.126000, Min is: -2.24600000, Max is: 1.46700000\n",
      "For wavelength 614.127000, Min is: -2.31500000, Max is: 1.51900000\n",
      "For wavelength 614.128000, Min is: -2.39700000, Max is: 1.59200000\n",
      "For wavelength 614.129000, Min is: -2.44800000, Max is: 1.64400000\n",
      "For wavelength 614.130000, Min is: -2.52600000, Max is: 1.71900000\n",
      "For wavelength 614.131000, Min is: -2.61700000, Max is: 1.80100000\n",
      "For wavelength 614.132000, Min is: -2.70400000, Max is: 1.89100000\n",
      "For wavelength 614.133000, Min is: -2.78200000, Max is: 1.97500000\n",
      "For wavelength 614.134000, Min is: -2.86200000, Max is: 2.04900000\n",
      "For wavelength 614.135000, Min is: -2.91300000, Max is: 2.08900000\n",
      "For wavelength 614.136000, Min is: -2.93000000, Max is: 2.10400000\n",
      "For wavelength 614.137000, Min is: -2.94400000, Max is: 2.11800000\n",
      "For wavelength 614.138000, Min is: -2.92200000, Max is: 2.10300000\n",
      "For wavelength 614.139000, Min is: -2.83500000, Max is: 2.04400000\n",
      "For wavelength 614.140000, Min is: -2.80200000, Max is: 2.01600000\n",
      "For wavelength 614.141000, Min is: -2.71900000, Max is: 1.94200000\n",
      "For wavelength 614.142000, Min is: -2.63800000, Max is: 1.86300000\n",
      "For wavelength 614.143000, Min is: -2.55300000, Max is: 1.77700000\n",
      "For wavelength 614.144000, Min is: -2.48100000, Max is: 1.68500000\n",
      "For wavelength 614.145000, Min is: -2.37900000, Max is: 1.58400000\n",
      "For wavelength 614.146000, Min is: -2.32900000, Max is: 1.53200000\n",
      "For wavelength 614.147000, Min is: -2.25900000, Max is: 1.46900000\n",
      "For wavelength 614.148000, Min is: -2.16900000, Max is: 1.39700000\n",
      "For wavelength 614.149000, Min is: -2.07400000, Max is: 1.33000000\n",
      "For wavelength 614.150000, Min is: -1.97000000, Max is: 1.25800000\n",
      "For wavelength 614.151000, Min is: -1.79300000, Max is: 1.13500000\n",
      "For wavelength 614.152000, Min is: -1.65300000, Max is: 1.04500000\n",
      "For wavelength 614.153000, Min is: -1.47900000, Max is: 0.93300000\n",
      "For wavelength 614.154000, Min is: -1.34000000, Max is: 0.84800000\n",
      "For wavelength 614.155000, Min is: -1.24100000, Max is: 0.79100000\n",
      "For wavelength 614.156000, Min is: -1.11000000, Max is: 0.71600000\n",
      "For wavelength 614.157000, Min is: -1.00400000, Max is: 0.65000000\n",
      "For wavelength 614.158000, Min is: -0.93400000, Max is: 0.61000000\n",
      "For wavelength 614.159000, Min is: -0.86300000, Max is: 0.56700000\n",
      "For wavelength 614.160000, Min is: -0.79200000, Max is: 0.52700000\n",
      "For wavelength 614.161000, Min is: -0.73100000, Max is: 0.49000000\n",
      "For wavelength 614.162000, Min is: -0.65900000, Max is: 0.44800000\n",
      "For wavelength 614.163000, Min is: -0.61100000, Max is: 0.41800000\n",
      "For wavelength 614.164000, Min is: -0.54700000, Max is: 0.37500000\n",
      "For wavelength 614.165000, Min is: -0.52700000, Max is: 0.36200000\n",
      "For wavelength 614.166000, Min is: -0.50400000, Max is: 0.34400000\n",
      "For wavelength 614.167000, Min is: -0.46900000, Max is: 0.32500000\n",
      "For wavelength 614.168000, Min is: -0.45100000, Max is: 0.31200000\n",
      "For wavelength 614.169000, Min is: -0.43300000, Max is: 0.30000000\n",
      "For wavelength 614.170000, Min is: -0.40200000, Max is: 0.28100000\n",
      "For wavelength 614.171000, Min is: -0.38900000, Max is: 0.26900000\n",
      "For wavelength 614.172000, Min is: -0.36600000, Max is: 0.25700000\n",
      "For wavelength 614.173000, Min is: -0.35800000, Max is: 0.25100000\n",
      "For wavelength 614.174000, Min is: -0.34400000, Max is: 0.24300000\n",
      "For wavelength 614.175000, Min is: -0.33100000, Max is: 0.23400000\n",
      "For wavelength 614.176000, Min is: -0.31600000, Max is: 0.22500000\n",
      "For wavelength 614.177000, Min is: -0.30800000, Max is: 0.21800000\n",
      "For wavelength 614.178000, Min is: -0.30000000, Max is: 0.21200000\n",
      "For wavelength 614.179000, Min is: -0.28300000, Max is: 0.20900000\n",
      "For wavelength 614.180000, Min is: -0.27800000, Max is: 0.20600000\n"
     ]
    },
    {
     "name": "stdout",
     "output_type": "stream",
     "text": [
      "For wavelength 614.181000, Min is: -0.26200000, Max is: 0.19500000\n",
      "For wavelength 614.182000, Min is: -0.25600000, Max is: 0.19400000\n",
      "For wavelength 614.183000, Min is: -0.24800000, Max is: 0.19000000\n",
      "For wavelength 614.184000, Min is: -0.23200000, Max is: 0.18000000\n",
      "For wavelength 614.185000, Min is: -0.22900000, Max is: 0.17900000\n",
      "For wavelength 614.186000, Min is: -0.22400000, Max is: 0.17500000\n",
      "For wavelength 614.187000, Min is: -0.21600000, Max is: 0.16700000\n",
      "For wavelength 614.188000, Min is: -0.21000000, Max is: 0.16400000\n",
      "For wavelength 614.189000, Min is: -0.20300000, Max is: 0.16100000\n",
      "For wavelength 614.190000, Min is: -0.19900000, Max is: 0.15900000\n",
      "For wavelength 614.191000, Min is: -0.19100000, Max is: 0.15600000\n",
      "For wavelength 614.192000, Min is: -0.18700000, Max is: 0.15500000\n",
      "For wavelength 614.193000, Min is: -0.18400000, Max is: 0.15400000\n",
      "For wavelength 614.194000, Min is: -0.17900000, Max is: 0.15200000\n",
      "For wavelength 614.195000, Min is: -0.17500000, Max is: 0.15000000\n",
      "For wavelength 614.196000, Min is: -0.17100000, Max is: 0.14300000\n",
      "For wavelength 614.197000, Min is: -0.16500000, Max is: 0.14300000\n",
      "For wavelength 614.198000, Min is: -0.16200000, Max is: 0.14200000\n",
      "For wavelength 614.199000, Min is: -0.15500000, Max is: 0.13300000\n",
      "For wavelength 614.200000, Min is: -0.15600000, Max is: 0.13600000\n",
      "For wavelength 614.201000, Min is: -0.15300000, Max is: 0.13300000\n",
      "For wavelength 614.202000, Min is: -0.15000000, Max is: 0.12900000\n",
      "For wavelength 614.203000, Min is: -0.14600000, Max is: 0.12700000\n",
      "For wavelength 614.204000, Min is: -0.14600000, Max is: 0.12300000\n",
      "For wavelength 614.205000, Min is: -0.14600000, Max is: 0.12000000\n",
      "For wavelength 614.206000, Min is: -0.14200000, Max is: 0.11800000\n",
      "For wavelength 614.207000, Min is: -0.13500000, Max is: 0.11400000\n",
      "For wavelength 614.208000, Min is: -0.13800000, Max is: 0.11200000\n",
      "For wavelength 614.209000, Min is: -0.13500000, Max is: 0.10900000\n",
      "For wavelength 614.210000, Min is: -0.13200000, Max is: 0.10600000\n",
      "For wavelength 614.211000, Min is: -0.13100000, Max is: 0.10600000\n"
     ]
    }
   ],
   "source": [
    "##### FULL RUN\n",
    "import pyvisa\n",
    "import time\n",
    "import datetime as dt\n",
    "import numpy as np\n",
    "import serial\n",
    "rm = pyvisa.ResourceManager()\n",
    "print(rm.list_resources())\n",
    "lecroy_9410 = rm.open_resource('GPIB0::11::INSTR')\n",
    "print(lecroy_9410.query('*IDN?'))\n",
    "ser = serial.Serial('COM2',9600,stopbits=serial.STOPBITS_TWO)\n",
    "minV = []\n",
    "maxV = []\n",
    "wavels = np.arange(614.06,614.211,.001)\n",
    "for i in wavels:\n",
    "    commnd = 'START=%.3f\\r' %i\n",
    "    ser.write(bytes(commnd,'utf-8'))\n",
    "    time.sleep(1)\n",
    "    ser.write(bytes('GOSTART\\r','utf-8'))\n",
    "    time.sleep(5)\n",
    "    lecroy_9410.write('FE:FRST')\n",
    "    time.sleep(30)\n",
    "    a=lecroy_9410.query('FE:PAVA? MIN')\n",
    "    a=a.split()\n",
    "    stream=a[1].split(',')\n",
    "    scopemin=float(stream[1])\n",
    "    a=lecroy_9410.query('FE:PAVA? MAX')\n",
    "    a=a.split()\n",
    "    stream=a[1].split(',')\n",
    "    scopemax=float(stream[1])\n",
    "    minV.append(scopemin)\n",
    "    maxV.append(scopemax)\n",
    "    print(\"For wavelength %f, Min is: %.8f, Max is: %.8f\" %(i,scopemin,scopemax))\n",
    "now=dt.datetime.now()\n",
    "dtime=now.strftime('_%y%m%d_%H%M')\n",
    "maxV=np.asarray(maxV)\n",
    "minV=np.asarray(minV)\n",
    "np.save('minV'+dtime,minV)\n",
    "np.save('maxV'+dtime,maxV)\n",
    "np.save('waves'+dtime,wavels)\n",
    "ser.close()\n",
    "lecroy_9410.close()"
   ]
  },
  {
   "cell_type": "code",
   "execution_count": 35,
   "id": "e4133c29",
   "metadata": {},
   "outputs": [
    {
     "data": {
      "text/plain": [
       "array([614.06 , 614.061, 614.062, 614.063, 614.064, 614.065, 614.066,\n",
       "       614.067, 614.068, 614.069, 614.07 , 614.071, 614.072, 614.073,\n",
       "       614.074, 614.075, 614.076, 614.077, 614.078, 614.079, 614.08 ,\n",
       "       614.081, 614.082, 614.083, 614.084, 614.085, 614.086, 614.087,\n",
       "       614.088, 614.089, 614.09 , 614.091, 614.092, 614.093, 614.094,\n",
       "       614.095, 614.096, 614.097, 614.098, 614.099, 614.1  , 614.101,\n",
       "       614.102, 614.103, 614.104, 614.105, 614.106, 614.107, 614.108,\n",
       "       614.109, 614.11 , 614.111, 614.112, 614.113, 614.114, 614.115,\n",
       "       614.116, 614.117, 614.118, 614.119, 614.12 , 614.121, 614.122,\n",
       "       614.123, 614.124, 614.125, 614.126, 614.127, 614.128, 614.129,\n",
       "       614.13 , 614.131, 614.132, 614.133, 614.134, 614.135, 614.136,\n",
       "       614.137, 614.138, 614.139, 614.14 , 614.141, 614.142, 614.143,\n",
       "       614.144, 614.145, 614.146, 614.147, 614.148, 614.149, 614.15 ,\n",
       "       614.151, 614.152, 614.153, 614.154, 614.155, 614.156, 614.157,\n",
       "       614.158, 614.159, 614.16 , 614.161, 614.162, 614.163, 614.164,\n",
       "       614.165, 614.166, 614.167, 614.168, 614.169, 614.17 , 614.171,\n",
       "       614.172, 614.173, 614.174, 614.175, 614.176, 614.177, 614.178,\n",
       "       614.179, 614.18 , 614.181, 614.182, 614.183, 614.184, 614.185,\n",
       "       614.186, 614.187, 614.188, 614.189, 614.19 , 614.191, 614.192,\n",
       "       614.193, 614.194, 614.195, 614.196, 614.197, 614.198, 614.199,\n",
       "       614.2  , 614.201, 614.202, 614.203, 614.204, 614.205, 614.206,\n",
       "       614.207, 614.208, 614.209, 614.21 , 614.211])"
      ]
     },
     "execution_count": 35,
     "metadata": {},
     "output_type": "execute_result"
    }
   ],
   "source": [
    "wavels"
   ]
  },
  {
   "cell_type": "code",
   "execution_count": null,
   "id": "cf9f1b47",
   "metadata": {},
   "outputs": [],
   "source": []
  }
 ],
 "metadata": {
  "kernelspec": {
   "display_name": "Python 3 (ipykernel)",
   "language": "python",
   "name": "python3"
  },
  "language_info": {
   "codemirror_mode": {
    "name": "ipython",
    "version": 3
   },
   "file_extension": ".py",
   "mimetype": "text/x-python",
   "name": "python",
   "nbconvert_exporter": "python",
   "pygments_lexer": "ipython3",
   "version": "3.9.12"
  }
 },
 "nbformat": 4,
 "nbformat_minor": 5
}
